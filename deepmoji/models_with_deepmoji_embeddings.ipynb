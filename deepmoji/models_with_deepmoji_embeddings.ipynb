{
  "nbformat": 4,
  "nbformat_minor": 0,
  "metadata": {
    "colab": {
      "name": "models_with_deepmoji_embeddings.ipynb",
      "provenance": [],
      "collapsed_sections": [],
      "toc_visible": true,
      "machine_shape": "hm"
    },
    "kernelspec": {
      "name": "python3",
      "display_name": "Python 3"
    },
    "accelerator": "GPU"
  },
  "cells": [
    {
      "cell_type": "code",
      "metadata": {
        "id": "UNmR2InfqXU5",
        "colab_type": "code",
        "outputId": "e27e77a9-00ae-437f-a847-cfad78591d83",
        "colab": {
          "base_uri": "https://localhost:8080/",
          "height": 72
        }
      },
      "source": [
        "!pip install -q torch==1.0.1"
      ],
      "execution_count": 7,
      "outputs": [
        {
          "output_type": "stream",
          "text": [
            "\u001b[K     |████████████████████████████████| 560.1MB 26kB/s \n",
            "\u001b[31mERROR: torchvision 0.4.1+cu100 has requirement torch==1.3.0, but you'll have torch 1.0.1 which is incompatible.\u001b[0m\n",
            "\u001b[?25h"
          ],
          "name": "stdout"
        }
      ]
    },
    {
      "cell_type": "code",
      "metadata": {
        "id": "n9tQb0h19CUz",
        "colab_type": "code",
        "outputId": "deed1261-6854-4854-e404-4ae5c6cf15d2",
        "colab": {
          "base_uri": "https://localhost:8080/",
          "height": 35
        }
      },
      "source": [
        "import torch\n",
        "print(torch.__version__)"
      ],
      "execution_count": 8,
      "outputs": [
        {
          "output_type": "stream",
          "text": [
            "1.0.1\n"
          ],
          "name": "stdout"
        }
      ]
    },
    {
      "cell_type": "code",
      "metadata": {
        "id": "m9qAVycs1w_K",
        "colab_type": "code",
        "outputId": "2131e1cf-8504-4b9a-8860-09cb0b8474d5",
        "colab": {
          "base_uri": "https://localhost:8080/",
          "height": 661
        }
      },
      "source": [
        "!pip install ekphrasis"
      ],
      "execution_count": 9,
      "outputs": [
        {
          "output_type": "stream",
          "text": [
            "Collecting ekphrasis\n",
            "\u001b[?25l  Downloading https://files.pythonhosted.org/packages/92/e6/37c59d65e78c3a2aaf662df58faca7250eb6b36c559b912a39a7ca204cfb/ekphrasis-0.5.1.tar.gz (80kB)\n",
            "\r\u001b[K     |████                            | 10kB 23.5MB/s eta 0:00:01\r\u001b[K     |████████▏                       | 20kB 3.1MB/s eta 0:00:01\r\u001b[K     |████████████▎                   | 30kB 4.5MB/s eta 0:00:01\r\u001b[K     |████████████████▍               | 40kB 3.0MB/s eta 0:00:01\r\u001b[K     |████████████████████▌           | 51kB 3.7MB/s eta 0:00:01\r\u001b[K     |████████████████████████▌       | 61kB 4.4MB/s eta 0:00:01\r\u001b[K     |████████████████████████████▋   | 71kB 5.0MB/s eta 0:00:01\r\u001b[K     |████████████████████████████████| 81kB 4.0MB/s \n",
            "\u001b[?25hRequirement already satisfied: termcolor in /usr/local/lib/python3.6/dist-packages (from ekphrasis) (1.1.0)\n",
            "Requirement already satisfied: tqdm in /usr/local/lib/python3.6/dist-packages (from ekphrasis) (4.28.1)\n",
            "Collecting colorama\n",
            "  Downloading https://files.pythonhosted.org/packages/4f/a6/728666f39bfff1719fc94c481890b2106837da9318031f71a8424b662e12/colorama-0.4.1-py2.py3-none-any.whl\n",
            "Collecting ujson\n",
            "\u001b[?25l  Downloading https://files.pythonhosted.org/packages/16/c4/79f3409bc710559015464e5f49b9879430d8f87498ecdc335899732e5377/ujson-1.35.tar.gz (192kB)\n",
            "\u001b[K     |████████████████████████████████| 194kB 14.2MB/s \n",
            "\u001b[?25hRequirement already satisfied: matplotlib in /usr/local/lib/python3.6/dist-packages (from ekphrasis) (3.1.1)\n",
            "Requirement already satisfied: nltk in /usr/local/lib/python3.6/dist-packages (from ekphrasis) (3.2.5)\n",
            "Collecting ftfy\n",
            "\u001b[?25l  Downloading https://files.pythonhosted.org/packages/75/ca/2d9a5030eaf1bcd925dab392762b9709a7ad4bd486a90599d93cd79cb188/ftfy-5.6.tar.gz (58kB)\n",
            "\u001b[K     |████████████████████████████████| 61kB 8.6MB/s \n",
            "\u001b[?25hRequirement already satisfied: numpy in /usr/local/lib/python3.6/dist-packages (from ekphrasis) (1.17.3)\n",
            "Requirement already satisfied: python-dateutil>=2.1 in /usr/local/lib/python3.6/dist-packages (from matplotlib->ekphrasis) (2.6.1)\n",
            "Requirement already satisfied: cycler>=0.10 in /usr/local/lib/python3.6/dist-packages (from matplotlib->ekphrasis) (0.10.0)\n",
            "Requirement already satisfied: pyparsing!=2.0.4,!=2.1.2,!=2.1.6,>=2.0.1 in /usr/local/lib/python3.6/dist-packages (from matplotlib->ekphrasis) (2.4.2)\n",
            "Requirement already satisfied: kiwisolver>=1.0.1 in /usr/local/lib/python3.6/dist-packages (from matplotlib->ekphrasis) (1.1.0)\n",
            "Requirement already satisfied: six in /usr/local/lib/python3.6/dist-packages (from nltk->ekphrasis) (1.12.0)\n",
            "Requirement already satisfied: wcwidth in /usr/local/lib/python3.6/dist-packages (from ftfy->ekphrasis) (0.1.7)\n",
            "Requirement already satisfied: setuptools in /usr/local/lib/python3.6/dist-packages (from kiwisolver>=1.0.1->matplotlib->ekphrasis) (41.4.0)\n",
            "Building wheels for collected packages: ekphrasis, ujson, ftfy\n",
            "  Building wheel for ekphrasis (setup.py) ... \u001b[?25l\u001b[?25hdone\n",
            "  Created wheel for ekphrasis: filename=ekphrasis-0.5.1-cp36-none-any.whl size=82844 sha256=3f996eed5580e3bd656554578982d1f4a386264a1dd9af558686b57f2c61e656\n",
            "  Stored in directory: /root/.cache/pip/wheels/2f/c5/9b/c9b60f535a2cf9fdbc92d84c4801a010c35a9cd348011ed2a1\n",
            "  Building wheel for ujson (setup.py) ... \u001b[?25l\u001b[?25hdone\n",
            "  Created wheel for ujson: filename=ujson-1.35-cp36-cp36m-linux_x86_64.whl size=68021 sha256=293b62415919a00f2261e6a01a9b02aafff32fd6677bb28f8170896d84704c6d\n",
            "  Stored in directory: /root/.cache/pip/wheels/28/77/e4/0311145b9c2e2f01470e744855131f9e34d6919687550f87d1\n",
            "  Building wheel for ftfy (setup.py) ... \u001b[?25l\u001b[?25hdone\n",
            "  Created wheel for ftfy: filename=ftfy-5.6-cp36-none-any.whl size=44553 sha256=a53794d68b339494fb08de2716bd232ee90309c5d060c7c5c662e4dab163b737\n",
            "  Stored in directory: /root/.cache/pip/wheels/43/34/ce/cbb38d71543c408de56f3c5e26ce8ba495a0fa5a28eaaf1046\n",
            "Successfully built ekphrasis ujson ftfy\n",
            "Installing collected packages: colorama, ujson, ftfy, ekphrasis\n",
            "Successfully installed colorama-0.4.1 ekphrasis-0.5.1 ftfy-5.6 ujson-1.35\n"
          ],
          "name": "stdout"
        }
      ]
    },
    {
      "cell_type": "code",
      "metadata": {
        "id": "ED0jYHUU6S9t",
        "colab_type": "code",
        "outputId": "d8c74675-f94f-4563-ea71-47f47a43c87e",
        "colab": {
          "base_uri": "https://localhost:8080/",
          "height": 211
        }
      },
      "source": [
        "!pip install emoji"
      ],
      "execution_count": 10,
      "outputs": [
        {
          "output_type": "stream",
          "text": [
            "Collecting emoji\n",
            "\u001b[?25l  Downloading https://files.pythonhosted.org/packages/40/8d/521be7f0091fe0f2ae690cc044faf43e3445e0ff33c574eae752dd7e39fa/emoji-0.5.4.tar.gz (43kB)\n",
            "\r\u001b[K     |███████▌                        | 10kB 22.4MB/s eta 0:00:01\r\u001b[K     |███████████████                 | 20kB 1.9MB/s eta 0:00:01\r\u001b[K     |██████████████████████▋         | 30kB 2.7MB/s eta 0:00:01\r\u001b[K     |██████████████████████████████▏ | 40kB 2.3MB/s eta 0:00:01\r\u001b[K     |████████████████████████████████| 51kB 2.1MB/s \n",
            "\u001b[?25hBuilding wheels for collected packages: emoji\n",
            "  Building wheel for emoji (setup.py) ... \u001b[?25l\u001b[?25hdone\n",
            "  Created wheel for emoji: filename=emoji-0.5.4-cp36-none-any.whl size=42175 sha256=6abd2a8d10cbf7afd849e59dccab36fb508e467d6c7694a072e8c4db94b121d3\n",
            "  Stored in directory: /root/.cache/pip/wheels/2a/a9/0a/4f8e8cce8074232aba240caca3fade315bb49fac68808d1a9c\n",
            "Successfully built emoji\n",
            "Installing collected packages: emoji\n",
            "Successfully installed emoji-0.5.4\n"
          ],
          "name": "stdout"
        }
      ]
    },
    {
      "cell_type": "code",
      "metadata": {
        "id": "9FRtnS5C1zLp",
        "colab_type": "code",
        "colab": {}
      },
      "source": [
        "import os\n",
        "import json\n",
        "import numpy as np\n",
        "import pandas as pd\n",
        "import matplotlib.pyplot as plt\n",
        "from ekphrasis.dicts.emoticons import emoticons\n",
        "from ekphrasis.classes.preprocessor import TextPreProcessor\n",
        "from ekphrasis.classes.tokenizer import SocialTokenizer"
      ],
      "execution_count": 0,
      "outputs": []
    },
    {
      "cell_type": "code",
      "metadata": {
        "id": "33BxGQi711W0",
        "colab_type": "code",
        "colab": {}
      },
      "source": [
        "%cd contextual_emotion_detection"
      ],
      "execution_count": 0,
      "outputs": []
    },
    {
      "cell_type": "code",
      "metadata": {
        "id": "CpqkvBxM6bEk",
        "colab_type": "code",
        "colab": {}
      },
      "source": [
        "%cd torchMoji\n",
        "from torchmoji.model_def import torchmoji_emojis\n",
        "from torchmoji.sentence_tokenizer import SentenceTokenizer\n",
        "from torchmoji.model_def import torchmoji_feature_encoding\n",
        "from torchmoji.global_variables import PRETRAINED_PATH, VOCAB_PATH\n",
        "%cd .."
      ],
      "execution_count": 0,
      "outputs": []
    },
    {
      "cell_type": "code",
      "metadata": {
        "id": "YJgsr_oVBLr5",
        "colab_type": "code",
        "colab": {}
      },
      "source": [
        "%cd deepmoji"
      ],
      "execution_count": 0,
      "outputs": []
    },
    {
      "cell_type": "code",
      "metadata": {
        "id": "jRhG-IeE4Tr4",
        "colab_type": "code",
        "colab": {}
      },
      "source": [
        "dirpath = '.'\n",
        "projectpath = os.path.join(dirpath, '..')\n",
        "datapath = os.path.join(projectpath, 'data')\n",
        "torhchmojipath = os.path.join(projectpath, 'deepmoji')\n",
        "\n",
        "emotion_to_label = {\"others\": 0, \"happy\": 1, \"sad\": 2, \"angry\": 3}\n",
        "label_to_emotion = {0: \"others\", 1: \"happy\", 2: \"sad\", 3: \"angry\"}\n",
        "\n",
        "additional_emoticons = {\n",
        "    '(^・^)': '<happy>', ':‑c': '<sad>', '=‑d': '<happy>', \":'‑)\": '<happy>', ':‑d': '<laugh>',\n",
        "    ':‑(': '<sad>', ';‑)': '<happy>', ':‑)': '<happy>', ':\\\\/': '<sad>', 'd=<': '<annoyed>',\n",
        "    ':‑/': '<annoyed>', ';‑]': '<happy>', '(^�^)': '<happy>', 'angru': 'angry', \"d‑':\":\n",
        "        '<annoyed>', \":'‑(\": '<sad>', \":‑[\": '<annoyed>', '(�?�)': '<happy>', 'x‑d': '<laugh>',\n",
        "}"
      ],
      "execution_count": 0,
      "outputs": []
    },
    {
      "cell_type": "code",
      "metadata": {
        "id": "BL4lMyHP6i8X",
        "colab_type": "code",
        "colab": {}
      },
      "source": [
        "training_data = pd.read_csv(os.path.join(datapath, 'train.txt'), sep = '\\t')"
      ],
      "execution_count": 0,
      "outputs": []
    },
    {
      "cell_type": "code",
      "metadata": {
        "id": "P2CAUwlu6kpW",
        "colab_type": "code",
        "outputId": "78b4d8d5-0a09-44fe-a8b4-d091d7df36bf",
        "colab": {
          "base_uri": "https://localhost:8080/",
          "height": 191
        }
      },
      "source": [
        "text_pre_processor = TextPreProcessor(\n",
        "    normalize = ['url', 'email', 'percent', 'money', 'phone', 'user',\n",
        "               'time', 'url', 'date', 'number'],\n",
        "    annotate = {\"hashtag\", \"allcaps\", \"elongated\", \"repeated\",\n",
        "              'emphasis', 'censored'},\n",
        "    fix_html = True,\n",
        "    segmenter = \"twitter\",\n",
        "    corrector = \"twitter\", # spell correction\n",
        "    unpack_hashtags = True,\n",
        "    unpack_contractions = True, # expand word abbreviations\n",
        "    spell_correct_elong = True,\n",
        "    tokenizer = SocialTokenizer(lowercase = True).tokenize,\n",
        "    dicts = [emoticons, additional_emoticons]\n",
        ")\n",
        "\n",
        "def pre_process(conversation_text):\n",
        "    conversation_text = \" \".join(text_pre_processor.pre_process_doc(conversation_text))\n",
        "    return conversation_text"
      ],
      "execution_count": 17,
      "outputs": [
        {
          "output_type": "stream",
          "text": [
            "Word statistics files not found!\n",
            "Downloading... done!\n",
            "Unpacking... done!\n",
            "Reading twitter - 1grams ...\n",
            "generating cache file for faster loading...\n",
            "reading ngrams /root/.ekphrasis/stats/twitter/counts_1grams.txt\n",
            "Reading twitter - 2grams ...\n",
            "generating cache file for faster loading...\n",
            "reading ngrams /root/.ekphrasis/stats/twitter/counts_2grams.txt\n",
            "Reading twitter - 1grams ...\n"
          ],
          "name": "stdout"
        }
      ]
    },
    {
      "cell_type": "markdown",
      "metadata": {
        "id": "CmTC_bOj7PKx",
        "colab_type": "text"
      },
      "source": [
        "### Load data"
      ]
    },
    {
      "cell_type": "code",
      "metadata": {
        "id": "coKtYZ0e3hNi",
        "colab_type": "code",
        "colab": {}
      },
      "source": [
        "conversation = []\n",
        "label = []\n",
        "\n",
        "for index, record in training_data.iterrows():\n",
        "    conversation.append(pre_process(record['turn1']) +' <eos> ' + pre_process(record['turn2']) + ' <eos> ' + pre_process(record['turn3']))\n",
        "    label.append(emotion_to_label[record['label']])"
      ],
      "execution_count": 0,
      "outputs": []
    },
    {
      "cell_type": "code",
      "metadata": {
        "id": "uGq1JIh0KjmZ",
        "colab_type": "code",
        "colab": {}
      },
      "source": [
        "test_data = pd.read_csv(os.path.join(datapath, 'test.txt'), sep = '\\t')"
      ],
      "execution_count": 0,
      "outputs": []
    },
    {
      "cell_type": "code",
      "metadata": {
        "id": "5kAYZE2f3kXG",
        "colab_type": "code",
        "colab": {}
      },
      "source": [
        "test_conversation = []\n",
        "test_label = []\n",
        "\n",
        "for index, record in test_data.iterrows():\n",
        "    test_conversation.append(pre_process(record['turn1'])+' <eos> ' + pre_process(record['turn2']) + ' <eos> ' + pre_process(record['turn3']))\n",
        "    test_label.append(emotion_to_label[record['label']])"
      ],
      "execution_count": 0,
      "outputs": []
    },
    {
      "cell_type": "markdown",
      "metadata": {
        "id": "ym4A_38LM4oq",
        "colab_type": "text"
      },
      "source": [
        "### Encoding conversations to fixed sized vector encodings"
      ]
    },
    {
      "cell_type": "code",
      "metadata": {
        "id": "zOZxf04R3xJ1",
        "colab_type": "code",
        "colab": {}
      },
      "source": [
        "def encode_deepmoji(conversation_text):\n",
        "    model = torchmoji_feature_encoding(PRETRAINED_PATH)\n",
        "    vector_size = 30\n",
        "    batch_size = 32\n",
        "    print(\"Tokenizing conversation text\")\n",
        "    with open(VOCAB_PATH, 'r') as f:\n",
        "        vocabulary = json.load(f)\n",
        "    tokenizer = SentenceTokenizer(vocabulary, vector_size)\n",
        "    tokenized_conversation, _, _ = tokenizer.tokenize_sentences(conversation_text)\n",
        "    print(\"Make predictions using Pretrained model: \", model)    \n",
        "    conversation_encoding = np.zeros((len(conversation_text), 2304))\n",
        "    for index in range(0, len(conversation_text), 300):    \n",
        "        conversation_encoding[index : index + 300] = model(tokenized_conversation[index : index + 300])\n",
        "    return conversation_encoding\n",
        "\n",
        "# Use the pre-trained model provided by torcMoji\n",
        "# which is a PyTorch implementation of DeepMoji\n",
        "def encode_emoji(conversation_text):\n",
        "    model = torchmoji_emojis(PRETRAINED_PATH)\n",
        "    vector_size = 30\n",
        "    batch_size = 32\n",
        "    print(\"Tokenizing conversation text\")\n",
        "    with open(VOCAB_PATH, 'r') as f:\n",
        "        vocabulary = json.load(f)\n",
        "    tokenizer = SentenceTokenizer(vocabulary, vector_size)\n",
        "    tokenized_conversation, _, _ = tokenizer.tokenize_sentences(conversation_text)\n",
        "    print(\"Make predictions using Pretrained model: \", model)    \n",
        "    conversation_encoding = np.zeros((len(conversation_text), 64))\n",
        "    for index in range(0, len(conversation_text), 300):    \n",
        "        conversation_encoding[index : index + 300] = model(tokenized_conversation[index : index + 300])\n",
        "    return conversation_encoding"
      ],
      "execution_count": 0,
      "outputs": []
    },
    {
      "cell_type": "markdown",
      "metadata": {
        "id": "PrlPDy0v7ZJL",
        "colab_type": "text"
      },
      "source": [
        "### Create vectors"
      ]
    },
    {
      "cell_type": "code",
      "metadata": {
        "id": "kn0B-t-YPTeV",
        "colab_type": "code",
        "outputId": "06bfa30c-6bd3-46cb-b2d9-8a27af24540d",
        "colab": {
          "base_uri": "https://localhost:8080/",
          "height": 696
        }
      },
      "source": [
        "conversation_encoding_vector = encode_deepmoji(conversation)"
      ],
      "execution_count": 22,
      "outputs": [
        {
          "output_type": "stream",
          "text": [
            "/content/contextual_emotion_detection/torchMoji/torchmoji/model_def.py:159: UserWarning: nn.init.uniform is now deprecated in favor of nn.init.uniform_.\n",
            "  nn.init.uniform(self.embed.weight.data, a=-0.5, b=0.5)\n",
            "/content/contextual_emotion_detection/torchMoji/torchmoji/model_def.py:161: UserWarning: nn.init.xavier_uniform is now deprecated in favor of nn.init.xavier_uniform_.\n",
            "  nn.init.xavier_uniform(t)\n",
            "/content/contextual_emotion_detection/torchMoji/torchmoji/model_def.py:163: UserWarning: nn.init.orthogonal is now deprecated in favor of nn.init.orthogonal_.\n",
            "  nn.init.orthogonal(t)\n",
            "/content/contextual_emotion_detection/torchMoji/torchmoji/model_def.py:165: UserWarning: nn.init.constant is now deprecated in favor of nn.init.constant_.\n",
            "  nn.init.constant(t, 0)\n"
          ],
          "name": "stderr"
        },
        {
          "output_type": "stream",
          "text": [
            "Loading weights for embed.weight\n",
            "Loading weights for lstm_0.weight_ih_l0\n",
            "Loading weights for lstm_0.weight_hh_l0\n",
            "Loading weights for lstm_0.bias_ih_l0\n",
            "Loading weights for lstm_0.bias_hh_l0\n",
            "Loading weights for lstm_0.weight_ih_l0_reverse\n",
            "Loading weights for lstm_0.weight_hh_l0_reverse\n",
            "Loading weights for lstm_0.bias_ih_l0_reverse\n",
            "Loading weights for lstm_0.bias_hh_l0_reverse\n",
            "Loading weights for lstm_1.weight_ih_l0\n",
            "Loading weights for lstm_1.weight_hh_l0\n",
            "Loading weights for lstm_1.bias_ih_l0\n",
            "Loading weights for lstm_1.bias_hh_l0\n",
            "Loading weights for lstm_1.weight_ih_l0_reverse\n",
            "Loading weights for lstm_1.weight_hh_l0_reverse\n",
            "Loading weights for lstm_1.bias_ih_l0_reverse\n",
            "Loading weights for lstm_1.bias_hh_l0_reverse\n",
            "Loading weights for attention_layer.attention_vector\n",
            "Ignoring weights for output_layer.0.weight\n",
            "Ignoring weights for output_layer.0.bias\n",
            "Tokenizing conversation text\n",
            "Make predictions using Pretrained model:  TorchMoji(\n",
            "  (embed): Embedding(50000, 256)\n",
            "  (embed_dropout): Dropout2d(p=0)\n",
            "  (lstm_0): LSTMHardSigmoid(256, 512, batch_first=True, bidirectional=True)\n",
            "  (lstm_1): LSTMHardSigmoid(1024, 512, batch_first=True, bidirectional=True)\n",
            "  (attention_layer): Attention(2304, return attention=False)\n",
            ")\n"
          ],
          "name": "stdout"
        },
        {
          "output_type": "stream",
          "text": [
            "/usr/local/lib/python3.6/dist-packages/torch/nn/functional.py:1320: UserWarning: nn.functional.tanh is deprecated. Use torch.tanh instead.\n",
            "  warnings.warn(\"nn.functional.tanh is deprecated. Use torch.tanh instead.\")\n"
          ],
          "name": "stderr"
        }
      ]
    },
    {
      "cell_type": "code",
      "metadata": {
        "id": "QvEQnnoBqfcW",
        "colab_type": "code",
        "outputId": "b9b9616c-f92b-4b20-a916-265bc78a4101",
        "colab": {
          "base_uri": "https://localhost:8080/",
          "height": 696
        }
      },
      "source": [
        "test_conversation_encoding_vector = encode_deepmoji(test_conversation)"
      ],
      "execution_count": 23,
      "outputs": [
        {
          "output_type": "stream",
          "text": [
            "/content/contextual_emotion_detection/torchMoji/torchmoji/model_def.py:159: UserWarning: nn.init.uniform is now deprecated in favor of nn.init.uniform_.\n",
            "  nn.init.uniform(self.embed.weight.data, a=-0.5, b=0.5)\n",
            "/content/contextual_emotion_detection/torchMoji/torchmoji/model_def.py:161: UserWarning: nn.init.xavier_uniform is now deprecated in favor of nn.init.xavier_uniform_.\n",
            "  nn.init.xavier_uniform(t)\n",
            "/content/contextual_emotion_detection/torchMoji/torchmoji/model_def.py:163: UserWarning: nn.init.orthogonal is now deprecated in favor of nn.init.orthogonal_.\n",
            "  nn.init.orthogonal(t)\n",
            "/content/contextual_emotion_detection/torchMoji/torchmoji/model_def.py:165: UserWarning: nn.init.constant is now deprecated in favor of nn.init.constant_.\n",
            "  nn.init.constant(t, 0)\n"
          ],
          "name": "stderr"
        },
        {
          "output_type": "stream",
          "text": [
            "Loading weights for embed.weight\n",
            "Loading weights for lstm_0.weight_ih_l0\n",
            "Loading weights for lstm_0.weight_hh_l0\n",
            "Loading weights for lstm_0.bias_ih_l0\n",
            "Loading weights for lstm_0.bias_hh_l0\n",
            "Loading weights for lstm_0.weight_ih_l0_reverse\n",
            "Loading weights for lstm_0.weight_hh_l0_reverse\n",
            "Loading weights for lstm_0.bias_ih_l0_reverse\n",
            "Loading weights for lstm_0.bias_hh_l0_reverse\n",
            "Loading weights for lstm_1.weight_ih_l0\n",
            "Loading weights for lstm_1.weight_hh_l0\n",
            "Loading weights for lstm_1.bias_ih_l0\n",
            "Loading weights for lstm_1.bias_hh_l0\n",
            "Loading weights for lstm_1.weight_ih_l0_reverse\n",
            "Loading weights for lstm_1.weight_hh_l0_reverse\n",
            "Loading weights for lstm_1.bias_ih_l0_reverse\n",
            "Loading weights for lstm_1.bias_hh_l0_reverse\n",
            "Loading weights for attention_layer.attention_vector\n",
            "Ignoring weights for output_layer.0.weight\n",
            "Ignoring weights for output_layer.0.bias\n",
            "Tokenizing conversation text\n",
            "Make predictions using Pretrained model:  TorchMoji(\n",
            "  (embed): Embedding(50000, 256)\n",
            "  (embed_dropout): Dropout2d(p=0)\n",
            "  (lstm_0): LSTMHardSigmoid(256, 512, batch_first=True, bidirectional=True)\n",
            "  (lstm_1): LSTMHardSigmoid(1024, 512, batch_first=True, bidirectional=True)\n",
            "  (attention_layer): Attention(2304, return attention=False)\n",
            ")\n"
          ],
          "name": "stdout"
        },
        {
          "output_type": "stream",
          "text": [
            "/usr/local/lib/python3.6/dist-packages/torch/nn/functional.py:1320: UserWarning: nn.functional.tanh is deprecated. Use torch.tanh instead.\n",
            "  warnings.warn(\"nn.functional.tanh is deprecated. Use torch.tanh instead.\")\n"
          ],
          "name": "stderr"
        }
      ]
    },
    {
      "cell_type": "code",
      "metadata": {
        "id": "mhiN_W9IAZPi",
        "colab_type": "code",
        "colab": {}
      },
      "source": [
        "%mkdir deepemoji_embeddings"
      ],
      "execution_count": 0,
      "outputs": []
    },
    {
      "cell_type": "code",
      "metadata": {
        "id": "5Cz59jxyAhXO",
        "colab_type": "code",
        "colab": {}
      },
      "source": [
        "np.save(os.path.join(dirpath, 'deepemoji_embeddings', 'conversation_encoding_vector'), conversation_encoding_vector)"
      ],
      "execution_count": 0,
      "outputs": []
    },
    {
      "cell_type": "code",
      "metadata": {
        "id": "pRBxegwqBLPt",
        "colab_type": "code",
        "colab": {}
      },
      "source": [
        "np.save(os.path.join(dirpath, 'deepemoji_embeddings', 'test_conversation_encoding_vector'), test_conversation_encoding_vector)"
      ],
      "execution_count": 0,
      "outputs": []
    },
    {
      "cell_type": "markdown",
      "metadata": {
        "id": "698G0t2cBVNX",
        "colab_type": "text"
      },
      "source": [
        "### Load saved vectors"
      ]
    },
    {
      "cell_type": "code",
      "metadata": {
        "id": "SKbU8qO7BWG2",
        "colab_type": "code",
        "colab": {}
      },
      "source": [
        "conversation_encoding_vector = np.load(os.path.join(dirpath, 'deepemoji_embeddings', 'conversation_encoding_vector.npy'))\n",
        "test_conversation_encoding_vector = np.load(os.path.join(dirpath, 'deepemoji_embeddings', 'test_conversation_encoding_vector.npy'))"
      ],
      "execution_count": 0,
      "outputs": []
    },
    {
      "cell_type": "code",
      "metadata": {
        "id": "c4nRgqhVBpeb",
        "colab_type": "code",
        "outputId": "a3f767ff-c8c9-4afa-db67-32c956000190",
        "colab": {
          "base_uri": "https://localhost:8080/",
          "height": 52
        }
      },
      "source": [
        "print(conversation_encoding_vector.shape)\n",
        "print(test_conversation_encoding_vector.shape)"
      ],
      "execution_count": 28,
      "outputs": [
        {
          "output_type": "stream",
          "text": [
            "(30160, 2304)\n",
            "(5509, 2304)\n"
          ],
          "name": "stdout"
        }
      ]
    },
    {
      "cell_type": "code",
      "metadata": {
        "id": "qsUiyUiwBp5t",
        "colab_type": "code",
        "outputId": "4485ac40-6646-4f13-8f07-afd5f542eb84",
        "colab": {
          "base_uri": "https://localhost:8080/",
          "height": 731
        }
      },
      "source": [
        "emoji_all = encode_emoji(conversation)\n",
        "emoji_test = encode_emoji(test_conversation)"
      ],
      "execution_count": 29,
      "outputs": [
        {
          "output_type": "stream",
          "text": [
            "/content/contextual_emotion_detection/torchMoji/torchmoji/model_def.py:159: UserWarning: nn.init.uniform is now deprecated in favor of nn.init.uniform_.\n",
            "  nn.init.uniform(self.embed.weight.data, a=-0.5, b=0.5)\n",
            "/content/contextual_emotion_detection/torchMoji/torchmoji/model_def.py:161: UserWarning: nn.init.xavier_uniform is now deprecated in favor of nn.init.xavier_uniform_.\n",
            "  nn.init.xavier_uniform(t)\n",
            "/content/contextual_emotion_detection/torchMoji/torchmoji/model_def.py:163: UserWarning: nn.init.orthogonal is now deprecated in favor of nn.init.orthogonal_.\n",
            "  nn.init.orthogonal(t)\n",
            "/content/contextual_emotion_detection/torchMoji/torchmoji/model_def.py:165: UserWarning: nn.init.constant is now deprecated in favor of nn.init.constant_.\n",
            "  nn.init.constant(t, 0)\n",
            "/content/contextual_emotion_detection/torchMoji/torchmoji/model_def.py:167: UserWarning: nn.init.xavier_uniform is now deprecated in favor of nn.init.xavier_uniform_.\n",
            "  nn.init.xavier_uniform(self.output_layer[0].weight.data)\n"
          ],
          "name": "stderr"
        },
        {
          "output_type": "stream",
          "text": [
            "Tokenizing conversation text\n",
            "Make predictions using Pretrained model:  TorchMoji(\n",
            "  (embed): Embedding(50000, 256)\n",
            "  (embed_dropout): Dropout2d(p=0)\n",
            "  (lstm_0): LSTMHardSigmoid(256, 512, batch_first=True, bidirectional=True)\n",
            "  (lstm_1): LSTMHardSigmoid(1024, 512, batch_first=True, bidirectional=True)\n",
            "  (attention_layer): Attention(2304, return attention=False)\n",
            "  (final_dropout): Dropout(p=0)\n",
            "  (output_layer): Sequential(\n",
            "    (0): Linear(in_features=2304, out_features=64, bias=True)\n",
            "    (1): Softmax()\n",
            "  )\n",
            ")\n"
          ],
          "name": "stdout"
        },
        {
          "output_type": "stream",
          "text": [
            "/usr/local/lib/python3.6/dist-packages/torch/nn/functional.py:1320: UserWarning: nn.functional.tanh is deprecated. Use torch.tanh instead.\n",
            "  warnings.warn(\"nn.functional.tanh is deprecated. Use torch.tanh instead.\")\n",
            "/usr/local/lib/python3.6/dist-packages/torch/nn/modules/container.py:92: UserWarning: Implicit dimension choice for softmax has been deprecated. Change the call to include dim=X as an argument.\n",
            "  input = module(input)\n"
          ],
          "name": "stderr"
        },
        {
          "output_type": "stream",
          "text": [
            "Tokenizing conversation text\n",
            "Make predictions using Pretrained model:  TorchMoji(\n",
            "  (embed): Embedding(50000, 256)\n",
            "  (embed_dropout): Dropout2d(p=0)\n",
            "  (lstm_0): LSTMHardSigmoid(256, 512, batch_first=True, bidirectional=True)\n",
            "  (lstm_1): LSTMHardSigmoid(1024, 512, batch_first=True, bidirectional=True)\n",
            "  (attention_layer): Attention(2304, return attention=False)\n",
            "  (final_dropout): Dropout(p=0)\n",
            "  (output_layer): Sequential(\n",
            "    (0): Linear(in_features=2304, out_features=64, bias=True)\n",
            "    (1): Softmax()\n",
            "  )\n",
            ")\n"
          ],
          "name": "stdout"
        }
      ]
    },
    {
      "cell_type": "code",
      "metadata": {
        "id": "uQ4tkpmBBwKl",
        "colab_type": "code",
        "outputId": "5f5ff332-8c25-4419-ebbd-1cc601917b42",
        "colab": {
          "base_uri": "https://localhost:8080/",
          "height": 35
        }
      },
      "source": [
        "tokens = [v for k,v in label_to_emotion.items()]\n",
        "tokens"
      ],
      "execution_count": 30,
      "outputs": [
        {
          "output_type": "execute_result",
          "data": {
            "text/plain": [
              "['others', 'happy', 'sad', 'angry']"
            ]
          },
          "metadata": {
            "tags": []
          },
          "execution_count": 30
        }
      ]
    },
    {
      "cell_type": "code",
      "metadata": {
        "id": "_7WdR9AWCyDK",
        "colab_type": "code",
        "colab": {}
      },
      "source": [
        "label = np.array(label)\n",
        "indices_of_other_records = np.where(label == 0)[0]"
      ],
      "execution_count": 0,
      "outputs": []
    },
    {
      "cell_type": "code",
      "metadata": {
        "id": "dwlTOUGIDT6I",
        "colab_type": "code",
        "colab": {}
      },
      "source": [
        "selected_record_indices = np.r_[np.random.choice(indices_of_other_records, 6000), np.where(label == 1)[0], np.where(label == 2)[0], np.where(label == 3)[0]]"
      ],
      "execution_count": 0,
      "outputs": []
    },
    {
      "cell_type": "code",
      "metadata": {
        "id": "66c3u6s7DXny",
        "colab_type": "code",
        "outputId": "0613e823-5481-42f5-b8a4-11a562c2a098",
        "colab": {
          "base_uri": "https://localhost:8080/",
          "height": 35
        }
      },
      "source": [
        "selected_record_indices.shape"
      ],
      "execution_count": 33,
      "outputs": [
        {
          "output_type": "execute_result",
          "data": {
            "text/plain": [
              "(21212,)"
            ]
          },
          "metadata": {
            "tags": []
          },
          "execution_count": 33
        }
      ]
    },
    {
      "cell_type": "code",
      "metadata": {
        "id": "XRVIzdOYDY7r",
        "colab_type": "code",
        "colab": {}
      },
      "source": [
        "deepmoji_train = conversation_encoding_vector[selected_record_indices]\n",
        "labels_train = label[selected_record_indices]\n",
        "emoji_train = emoji_all[selected_record_indices]"
      ],
      "execution_count": 0,
      "outputs": []
    },
    {
      "cell_type": "code",
      "metadata": {
        "id": "tRcFBha-Dcoc",
        "colab_type": "code",
        "colab": {}
      },
      "source": [
        "deepmoji_test = test_conversation_encoding_vector"
      ],
      "execution_count": 0,
      "outputs": []
    },
    {
      "cell_type": "markdown",
      "metadata": {
        "id": "X_lHKDnwDitq",
        "colab_type": "text"
      },
      "source": [
        "### Models"
      ]
    },
    {
      "cell_type": "code",
      "metadata": {
        "id": "rbZPucEvDd4Y",
        "colab_type": "code",
        "colab": {}
      },
      "source": [
        "from sklearn import metrics, svm\n",
        "from sklearn.naive_bayes import MultinomialNB\n",
        "from sklearn.preprocessing import MinMaxScaler\n",
        "from sklearn.pipeline import Pipeline\n",
        "import itertools\n",
        "from sklearn.linear_model import LogisticRegression\n",
        "import seaborn as sn\n",
        "import matplotlib.cm as cm"
      ],
      "execution_count": 0,
      "outputs": []
    },
    {
      "cell_type": "code",
      "metadata": {
        "id": "T_u8TingDl4r",
        "colab_type": "code",
        "colab": {}
      },
      "source": [
        "def plot_confusion_matrix(cm, \n",
        "                          classes, \n",
        "                          normalize = False, \n",
        "                          cmap = cm.YlGn, \n",
        "                          png_output = None, \n",
        "                          show = True):\n",
        "        if normalize:\n",
        "            cm = cm.astype('float') / cm.sum(axis=1)[:, np.newaxis]\n",
        "            title='Normalized confusion matrix'\n",
        "        else:\n",
        "            title='Confusion matrix'\n",
        "\n",
        "        # Calculate chart area size\n",
        "        leftmargin = 0.5 # inches\n",
        "        rightmargin = 0.5 # inches\n",
        "        categorysize = 0.5 # inches\n",
        "        figwidth = leftmargin + rightmargin + (len(classes) * categorysize) + 2          \n",
        "\n",
        "        f = plt.figure(figsize = (figwidth, figwidth))\n",
        "\n",
        "        # Create an axes instance and ajust the subplot size\n",
        "        ax = f.add_subplot(111)\n",
        "        ax.set_aspect(1)\n",
        "        f.subplots_adjust(left = leftmargin/figwidth, right = 1 - rightmargin/figwidth, top = 0.94, bottom = 0.1)\n",
        "\n",
        "        res = ax.imshow(cm, interpolation = 'nearest', cmap = cmap)\n",
        "\n",
        "        plt.title(title)\n",
        "        plt.colorbar(res)\n",
        "        ax.set_xticks(range(len(classes)))\n",
        "        ax.set_yticks(range(len(classes)))\n",
        "        ax.set_xticklabels(classes, rotation = 45, ha='right')\n",
        "        ax.set_yticklabels(classes)\n",
        "\n",
        "        fmt = '.2f' if normalize else 'd'\n",
        "        thresh = cm.max() / 2.\n",
        "        for i, j in itertools.product(range(cm.shape[0]), range(cm.shape[1])):\n",
        "            ax.text(j, i, format(cm[i, j], fmt),\n",
        "                    horizontalalignment = \"center\",\n",
        "                    color = \"white\" if cm[i, j] > thresh else \"black\")\n",
        "\n",
        "        # plt.tight_layout()\n",
        "        plt.ylabel('True label')\n",
        "        plt.xlabel('Predicted label')\n",
        "\n",
        "        if png_output is not None:\n",
        "            os.makedirs(png_output, exist_ok = True)\n",
        "            f.savefig(os.path.join(png_output,'confusion_matrix.png'), bbox_inches = 'tight')\n",
        "\n",
        "        if show:\n",
        "            plt.show()\n",
        "            plt.close(f)\n",
        "        else:\n",
        "            plt.close(f)"
      ],
      "execution_count": 0,
      "outputs": []
    },
    {
      "cell_type": "code",
      "metadata": {
        "id": "OAt790y126Km",
        "colab_type": "code",
        "colab": {}
      },
      "source": [
        "def print_metrics(prediction):\n",
        "    print(metrics.classification_report(test_label, prediction, target_names = tokens))\n",
        "    print(\"Accuracy:\", metrics.accuracy_score(test_label, prediction))\n",
        "    print(\"Precision:\", metrics.precision_score(test_label, prediction, average = 'macro'))\n",
        "    print(\"Recall:\", metrics.recall_score(test_label, prediction, average = 'macro'))\n",
        "    print(\"F1 score: \", metrics.f1_score(test_label, prediction, average = 'macro'))"
      ],
      "execution_count": 0,
      "outputs": []
    },
    {
      "cell_type": "markdown",
      "metadata": {
        "id": "SsDLNgI8DsB-",
        "colab_type": "text"
      },
      "source": [
        "### Logistic Regression"
      ]
    },
    {
      "cell_type": "code",
      "metadata": {
        "id": "6HfIQyC-DqYX",
        "colab_type": "code",
        "outputId": "db8d4a09-dd49-49f7-8b48-8d55c1b8683f",
        "colab": {
          "base_uri": "https://localhost:8080/",
          "height": 280
        }
      },
      "source": [
        "logistic_regression = Pipeline([('scaler', MinMaxScaler()), ('clf', LogisticRegression(random_state = 0))])\n",
        "logistic_regression.fit(deepmoji_train, labels_train)"
      ],
      "execution_count": 39,
      "outputs": [
        {
          "output_type": "stream",
          "text": [
            "/usr/local/lib/python3.6/dist-packages/sklearn/linear_model/logistic.py:432: FutureWarning: Default solver will be changed to 'lbfgs' in 0.22. Specify a solver to silence this warning.\n",
            "  FutureWarning)\n",
            "/usr/local/lib/python3.6/dist-packages/sklearn/linear_model/logistic.py:469: FutureWarning: Default multi_class will be changed to 'auto' in 0.22. Specify the multi_class option to silence this warning.\n",
            "  \"this warning.\", FutureWarning)\n"
          ],
          "name": "stderr"
        },
        {
          "output_type": "execute_result",
          "data": {
            "text/plain": [
              "Pipeline(memory=None,\n",
              "         steps=[('scaler', MinMaxScaler(copy=True, feature_range=(0, 1))),\n",
              "                ('clf',\n",
              "                 LogisticRegression(C=1.0, class_weight=None, dual=False,\n",
              "                                    fit_intercept=True, intercept_scaling=1,\n",
              "                                    l1_ratio=None, max_iter=100,\n",
              "                                    multi_class='warn', n_jobs=None,\n",
              "                                    penalty='l2', random_state=0, solver='warn',\n",
              "                                    tol=0.0001, verbose=0, warm_start=False))],\n",
              "         verbose=False)"
            ]
          },
          "metadata": {
            "tags": []
          },
          "execution_count": 39
        }
      ]
    },
    {
      "cell_type": "code",
      "metadata": {
        "id": "gyOaug-FE6YI",
        "colab_type": "code",
        "colab": {
          "base_uri": "https://localhost:8080/",
          "height": 277
        },
        "outputId": "bd9cd830-caf6-4e4f-cde6-500d9b4d479c"
      },
      "source": [
        "logistic_regression_predictions = logistic_regression.predict(deepmoji_test)\n",
        "print_metrics(logistic_regression_predictions)"
      ],
      "execution_count": 40,
      "outputs": [
        {
          "output_type": "stream",
          "text": [
            "              precision    recall  f1-score   support\n",
            "\n",
            "      others       0.97      0.78      0.86      4677\n",
            "       happy       0.31      0.70      0.43       284\n",
            "         sad       0.37      0.71      0.49       250\n",
            "       angry       0.39      0.84      0.54       298\n",
            "\n",
            "    accuracy                           0.77      5509\n",
            "   macro avg       0.51      0.76      0.58      5509\n",
            "weighted avg       0.88      0.77      0.80      5509\n",
            "\n",
            "Accuracy: 0.7727355236885097\n",
            "Precision: 0.5110081626603824\n",
            "Recall: 0.7585545392786119\n",
            "F1 score:  0.579214561757912\n"
          ],
          "name": "stdout"
        }
      ]
    },
    {
      "cell_type": "code",
      "metadata": {
        "id": "LMlEyiGhEYKR",
        "colab_type": "code",
        "outputId": "db1af832-1fa1-4089-d29f-00da94d90ba2",
        "colab": {
          "base_uri": "https://localhost:8080/",
          "height": 403
        }
      },
      "source": [
        "plot_confusion_matrix(metrics.confusion_matrix(test_label, logistic_regression_predictions), tokens)\n",
        "plt.show()\n",
        "metrics.confusion_matrix(test_label, logistic_regression_predictions)"
      ],
      "execution_count": 73,
      "outputs": [
        {
          "output_type": "display_data",
          "data": {
            "image/png": "[encoded data removed]",
            "text/plain": [
              "<Figure size 360x360 with 2 Axes>"
            ]
          },
          "metadata": {
            "tags": []
          }
        },
        {
          "output_type": "execute_result",
          "data": {
            "text/plain": [
              "array([[3628,  424,  269,  356],\n",
              "       [  59,  200,   15,   10],\n",
              "       [  35,   16,  178,   21],\n",
              "       [  24,    9,   14,  251]])"
            ]
          },
          "metadata": {
            "tags": []
          },
          "execution_count": 73
        }
      ]
    },
    {
      "cell_type": "code",
      "metadata": {
        "id": "A7yS_onuDzHG",
        "colab_type": "code",
        "outputId": "f8f7c8af-4f76-4849-e6c4-a07b5bfbc697",
        "colab": {
          "base_uri": "https://localhost:8080/",
          "height": 367
        }
      },
      "source": [
        "logistic_regression = LogisticRegression(random_state = 0)\n",
        "logistic_regression.fit(deepmoji_train, labels_train) \n",
        "logistic_regression_predictions = logistic_regression.predict(deepmoji_test)\n",
        "print_metrics(logistic_regression_predictions)"
      ],
      "execution_count": 76,
      "outputs": [
        {
          "output_type": "stream",
          "text": [
            "/usr/local/lib/python3.6/dist-packages/sklearn/linear_model/logistic.py:432: FutureWarning: Default solver will be changed to 'lbfgs' in 0.22. Specify a solver to silence this warning.\n",
            "  FutureWarning)\n",
            "/usr/local/lib/python3.6/dist-packages/sklearn/linear_model/logistic.py:469: FutureWarning: Default multi_class will be changed to 'auto' in 0.22. Specify the multi_class option to silence this warning.\n",
            "  \"this warning.\", FutureWarning)\n"
          ],
          "name": "stderr"
        },
        {
          "output_type": "stream",
          "text": [
            "              precision    recall  f1-score   support\n",
            "\n",
            "      others       0.97      0.78      0.86      4677\n",
            "       happy       0.32      0.68      0.44       284\n",
            "         sad       0.38      0.71      0.49       250\n",
            "       angry       0.37      0.83      0.51       298\n",
            "\n",
            "    accuracy                           0.77      5509\n",
            "   macro avg       0.51      0.75      0.58      5509\n",
            "weighted avg       0.87      0.77      0.81      5509\n",
            "\n",
            "Accuracy: 0.7738246505717916\n",
            "Precision: 0.5091537412509763\n",
            "Recall: 0.7490403734929938\n",
            "F1 score:  0.576280061534569\n"
          ],
          "name": "stdout"
        }
      ]
    },
    {
      "cell_type": "code",
      "metadata": {
        "id": "g3rBEUDLvDN9",
        "colab_type": "code",
        "colab": {
          "base_uri": "https://localhost:8080/",
          "height": 403
        },
        "outputId": "e2fa7351-b491-41b3-8b9c-831126abc35c"
      },
      "source": [
        "plot_confusion_matrix(metrics.confusion_matrix(test_label, logistic_regression_predictions), tokens)\n",
        "plt.show()\n",
        "metrics.confusion_matrix(test_label, logistic_regression_predictions)"
      ],
      "execution_count": 77,
      "outputs": [
        {
          "output_type": "display_data",
          "data": {
            "image/png": "[encoded data removed]",
            "text/plain": [
              "<Figure size 360x360 with 2 Axes>"
            ]
          },
          "metadata": {
            "tags": []
          }
        },
        {
          "output_type": "execute_result",
          "data": {
            "text/plain": [
              "array([[3646,  386,  261,  384],\n",
              "       [  65,  194,   16,    9],\n",
              "       [  38,   14,  177,   21],\n",
              "       [  26,   11,   15,  246]])"
            ]
          },
          "metadata": {
            "tags": []
          },
          "execution_count": 77
        }
      ]
    },
    {
      "cell_type": "code",
      "metadata": {
        "id": "i6yKWcKuM206",
        "colab_type": "code",
        "outputId": "451c4efe-34b6-4f1e-8e2f-591899627b99",
        "colab": {
          "base_uri": "https://localhost:8080/",
          "height": 367
        }
      },
      "source": [
        "logistic_regression = LogisticRegression(random_state = 0).fit(conversation_encoding_vector, label)\n",
        "logistic_regression_predictions = logistic_regression.predict(deepmoji_test)\n",
        "print_metrics(logistic_regression_predictions)"
      ],
      "execution_count": 80,
      "outputs": [
        {
          "output_type": "stream",
          "text": [
            "/usr/local/lib/python3.6/dist-packages/sklearn/linear_model/logistic.py:432: FutureWarning: Default solver will be changed to 'lbfgs' in 0.22. Specify a solver to silence this warning.\n",
            "  FutureWarning)\n",
            "/usr/local/lib/python3.6/dist-packages/sklearn/linear_model/logistic.py:469: FutureWarning: Default multi_class will be changed to 'auto' in 0.22. Specify the multi_class option to silence this warning.\n",
            "  \"this warning.\", FutureWarning)\n"
          ],
          "name": "stderr"
        },
        {
          "output_type": "stream",
          "text": [
            "              precision    recall  f1-score   support\n",
            "\n",
            "      others       0.95      0.89      0.92      4677\n",
            "       happy       0.45      0.52      0.48       284\n",
            "         sad       0.51      0.64      0.57       250\n",
            "       angry       0.51      0.78      0.62       298\n",
            "\n",
            "    accuracy                           0.86      5509\n",
            "   macro avg       0.61      0.71      0.65      5509\n",
            "weighted avg       0.88      0.86      0.87      5509\n",
            "\n",
            "Accuracy: 0.8571428571428571\n",
            "Precision: 0.6050265191526082\n",
            "Recall: 0.7092387669683302\n",
            "F1 score:  0.6473441923387087\n"
          ],
          "name": "stdout"
        }
      ]
    },
    {
      "cell_type": "code",
      "metadata": {
        "id": "mYfVpfsY0CbS",
        "colab_type": "code",
        "colab": {
          "base_uri": "https://localhost:8080/",
          "height": 403
        },
        "outputId": "90e70600-f508-42f4-fe58-978fdff43d33"
      },
      "source": [
        "plot_confusion_matrix(metrics.confusion_matrix(test_label, logistic_regression_predictions), tokens)\n",
        "plt.show()\n",
        "metrics.confusion_matrix(test_label, logistic_regression_predictions)"
      ],
      "execution_count": 81,
      "outputs": [
        {
          "output_type": "display_data",
          "data": {
            "image/png": "[encoded data removed]",
            "text/plain": [
              "<Figure size 360x360 with 2 Axes>"
            ]
          },
          "metadata": {
            "tags": []
          }
        },
        {
          "output_type": "execute_result",
          "data": {
            "text/plain": [
              "array([[4181,  169,  130,  197],\n",
              "       [ 117,  148,   10,    9],\n",
              "       [  64,    8,  160,   18],\n",
              "       [  49,    3,   13,  233]])"
            ]
          },
          "metadata": {
            "tags": []
          },
          "execution_count": 81
        }
      ]
    },
    {
      "cell_type": "code",
      "metadata": {
        "id": "76Z71silM6ez",
        "colab_type": "code",
        "outputId": "8ce31740-3dda-432a-9d6d-9479e95f37e3",
        "colab": {
          "base_uri": "https://localhost:8080/",
          "height": 752
        }
      },
      "source": [
        "logistic_regression = LogisticRegression(random_state = 0).fit(emoji_train, labels_train)\n",
        "logistic_regression_predictions = logistic_regression.predict(emoji_test)\n",
        "print_metrics(logistic_regression_predictions)\n",
        "plot_confusion_matrix(metrics.confusion_matrix(test_label, logistic_regression_predictions), tokens)\n",
        "plt.show()\n",
        "metrics.confusion_matrix(test_label, logistic_regression_predictions)"
      ],
      "execution_count": 82,
      "outputs": [
        {
          "output_type": "stream",
          "text": [
            "/usr/local/lib/python3.6/dist-packages/sklearn/linear_model/logistic.py:432: FutureWarning: Default solver will be changed to 'lbfgs' in 0.22. Specify a solver to silence this warning.\n",
            "  FutureWarning)\n",
            "/usr/local/lib/python3.6/dist-packages/sklearn/linear_model/logistic.py:469: FutureWarning: Default multi_class will be changed to 'auto' in 0.22. Specify the multi_class option to silence this warning.\n",
            "  \"this warning.\", FutureWarning)\n"
          ],
          "name": "stderr"
        },
        {
          "output_type": "stream",
          "text": [
            "              precision    recall  f1-score   support\n",
            "\n",
            "      others       0.91      0.71      0.80      4677\n",
            "       happy       0.17      0.36      0.23       284\n",
            "         sad       0.26      0.52      0.35       250\n",
            "       angry       0.26      0.66      0.38       298\n",
            "\n",
            "    accuracy                           0.68      5509\n",
            "   macro avg       0.40      0.56      0.44      5509\n",
            "weighted avg       0.81      0.68      0.72      5509\n",
            "\n",
            "Accuracy: 0.6792521328734797\n",
            "Precision: 0.39975695499397956\n",
            "Recall: 0.5647060523970834\n",
            "F1 score:  0.43669716339221204\n"
          ],
          "name": "stdout"
        },
        {
          "output_type": "display_data",
          "data": {
            "image/png": "[encoded data removed]",
            "text/plain": [
              "<Figure size 360x360 with 2 Axes>"
            ]
          },
          "metadata": {
            "tags": []
          }
        },
        {
          "output_type": "execute_result",
          "data": {
            "text/plain": [
              "array([[3310,  505,  346,  516],\n",
              "       [ 159,  103,    9,   13],\n",
              "       [  83,    7,  131,   29],\n",
              "       [  74,    4,   22,  198]])"
            ]
          },
          "metadata": {
            "tags": []
          },
          "execution_count": 82
        }
      ]
    },
    {
      "cell_type": "code",
      "metadata": {
        "id": "GB8glunhM8I7",
        "colab_type": "code",
        "outputId": "f91943c5-a16c-4668-8ac2-6172916ba600",
        "colab": {
          "base_uri": "https://localhost:8080/",
          "height": 758
        }
      },
      "source": [
        "logistic_regression = LogisticRegression(random_state = 0).fit(emoji_all, label)\n",
        "logistic_regression_predictions = logistic_regression.predict(emoji_test)\n",
        "print_metrics(logistic_regression_predictions)\n",
        "plot_confusion_matrix(metrics.confusion_matrix(test_label, logistic_regression_predictions), tokens)\n",
        "plt.show()\n",
        "metrics.confusion_matrix(test_label, logistic_regression_predictions)"
      ],
      "execution_count": 83,
      "outputs": [
        {
          "output_type": "stream",
          "text": [
            "/usr/local/lib/python3.6/dist-packages/sklearn/linear_model/logistic.py:432: FutureWarning: Default solver will be changed to 'lbfgs' in 0.22. Specify a solver to silence this warning.\n",
            "  FutureWarning)\n",
            "/usr/local/lib/python3.6/dist-packages/sklearn/linear_model/logistic.py:469: FutureWarning: Default multi_class will be changed to 'auto' in 0.22. Specify the multi_class option to silence this warning.\n",
            "  \"this warning.\", FutureWarning)\n"
          ],
          "name": "stderr"
        },
        {
          "output_type": "stream",
          "text": [
            "              precision    recall  f1-score   support\n",
            "\n",
            "      others       0.89      0.94      0.91      4677\n",
            "       happy       0.30      0.04      0.06       284\n",
            "         sad       0.42      0.38      0.40       250\n",
            "       angry       0.46      0.47      0.46       298\n",
            "\n",
            "    accuracy                           0.84      5509\n",
            "   macro avg       0.52      0.45      0.46      5509\n",
            "weighted avg       0.81      0.84      0.82      5509\n",
            "\n",
            "Accuracy: 0.840624432746415\n",
            "Precision: 0.515931836645843\n",
            "Recall: 0.4539656184448747\n",
            "F1 score:  0.45797271479770607\n"
          ],
          "name": "stdout"
        },
        {
          "output_type": "display_data",
          "data": {
            "image/png": "[encoded data removed]",
            "text/plain": [
              "<Figure size 360x360 with 2 Axes>"
            ]
          },
          "metadata": {
            "tags": []
          }
        },
        {
          "output_type": "execute_result",
          "data": {
            "text/plain": [
              "array([[4388,   23,  117,  149],\n",
              "       [ 269,   10,    1,    4],\n",
              "       [ 143,    0,   94,   13],\n",
              "       [ 146,    0,   13,  139]])"
            ]
          },
          "metadata": {
            "tags": []
          },
          "execution_count": 83
        }
      ]
    },
    {
      "cell_type": "markdown",
      "metadata": {
        "id": "uG0yqTeLM-nB",
        "colab_type": "text"
      },
      "source": [
        "### Naive Bayes"
      ]
    },
    {
      "cell_type": "code",
      "metadata": {
        "id": "c1uziWnwM_ZX",
        "colab_type": "code",
        "outputId": "5a33db0f-40d8-4d2f-a85c-df6037177c0e",
        "colab": {
          "base_uri": "https://localhost:8080/",
          "height": 665
        }
      },
      "source": [
        "naive_bayes = Pipeline([('scaler', MinMaxScaler()), ('clf', MultinomialNB())])\n",
        "naive_bayes.fit(deepmoji_train, labels_train)\n",
        "naive_bayes_predictions = naive_bayes.predict(deepmoji_test)\n",
        "print_metrics(naive_bayes_predictions)\n",
        "plot_confusion_matrix(metrics.confusion_matrix(test_label, naive_bayes_predictions), tokens)\n",
        "plt.show()\n",
        "metrics.confusion_matrix(test_label, naive_bayes_predictions)"
      ],
      "execution_count": 85,
      "outputs": [
        {
          "output_type": "stream",
          "text": [
            "              precision    recall  f1-score   support\n",
            "\n",
            "      others       0.93      0.75      0.83      4677\n",
            "       happy       0.27      0.54      0.36       284\n",
            "         sad       0.37      0.54      0.44       250\n",
            "       angry       0.26      0.73      0.39       298\n",
            "\n",
            "    accuracy                           0.73      5509\n",
            "   macro avg       0.46      0.64      0.51      5509\n",
            "weighted avg       0.84      0.73      0.77      5509\n",
            "\n",
            "Accuracy: 0.72898892721002\n",
            "Precision: 0.46062553396209366\n",
            "Recall: 0.6384158984815529\n",
            "F1 score:  0.5054345017418674\n"
          ],
          "name": "stdout"
        },
        {
          "output_type": "display_data",
          "data": {
            "image/png": "[encoded data removed]",
            "text/plain": [
              "<Figure size 360x360 with 2 Axes>"
            ]
          },
          "metadata": {
            "tags": []
          }
        },
        {
          "output_type": "execute_result",
          "data": {
            "text/plain": [
              "array([[3512,  390,  208,  567],\n",
              "       [ 108,  152,    9,   15],\n",
              "       [  80,    9,  134,   27],\n",
              "       [  69,    2,    9,  218]])"
            ]
          },
          "metadata": {
            "tags": []
          },
          "execution_count": 85
        }
      ]
    },
    {
      "cell_type": "code",
      "metadata": {
        "id": "-qkfZnHgNGu7",
        "colab_type": "code",
        "outputId": "afbbfad1-1f77-4a62-cb2f-f86dff9d0cc5",
        "colab": {
          "base_uri": "https://localhost:8080/",
          "height": 793
        }
      },
      "source": [
        "naive_bayes = Pipeline([('clf', MultinomialNB())])\n",
        "naive_bayes.fit(emoji_train, labels_train)\n",
        "naive_bayes_predictions = naive_bayes.predict(emoji_test)\n",
        "print_metrics(naive_bayes_predictions)\n",
        "plot_confusion_matrix(metrics.confusion_matrix(test_label, naive_bayes_predictions), tokens)\n",
        "plt.show()\n",
        "metrics.confusion_matrix(test_label, naive_bayes_predictions)"
      ],
      "execution_count": 86,
      "outputs": [
        {
          "output_type": "stream",
          "text": [
            "/usr/local/lib/python3.6/dist-packages/sklearn/metrics/classification.py:1437: UndefinedMetricWarning: Precision and F-score are ill-defined and being set to 0.0 in labels with no predicted samples.\n",
            "  'precision', 'predicted', average, warn_for)\n",
            "/usr/local/lib/python3.6/dist-packages/sklearn/metrics/classification.py:1437: UndefinedMetricWarning: Precision is ill-defined and being set to 0.0 in labels with no predicted samples.\n",
            "  'precision', 'predicted', average, warn_for)\n",
            "/usr/local/lib/python3.6/dist-packages/sklearn/metrics/classification.py:1437: UndefinedMetricWarning: F-score is ill-defined and being set to 0.0 in labels with no predicted samples.\n",
            "  'precision', 'predicted', average, warn_for)\n"
          ],
          "name": "stderr"
        },
        {
          "output_type": "stream",
          "text": [
            "              precision    recall  f1-score   support\n",
            "\n",
            "      others       0.88      0.90      0.89      4677\n",
            "       happy       0.00      0.00      0.00       284\n",
            "         sad       0.42      0.34      0.38       250\n",
            "       angry       0.27      0.45      0.34       298\n",
            "\n",
            "    accuracy                           0.81      5509\n",
            "   macro avg       0.39      0.43      0.40      5509\n",
            "weighted avg       0.78      0.81      0.79      5509\n",
            "\n",
            "Accuracy: 0.8079506262479579\n",
            "Precision: 0.39262305369971356\n",
            "Recall: 0.42536151206891354\n",
            "F1 score:  0.40202658844873435\n"
          ],
          "name": "stdout"
        },
        {
          "output_type": "display_data",
          "data": {
            "image/png": "[encoded data removed]",
            "text/plain": [
              "<Figure size 360x360 with 2 Axes>"
            ]
          },
          "metadata": {
            "tags": []
          }
        },
        {
          "output_type": "execute_result",
          "data": {
            "text/plain": [
              "array([[4230,    0,  103,  344],\n",
              "       [ 273,    0,    4,    7],\n",
              "       [ 146,    0,   86,   18],\n",
              "       [ 152,    0,   11,  135]])"
            ]
          },
          "metadata": {
            "tags": []
          },
          "execution_count": 86
        }
      ]
    },
    {
      "cell_type": "code",
      "metadata": {
        "id": "YRhSk3oHNJy9",
        "colab_type": "code",
        "outputId": "5d070437-1aab-4167-d58f-13cf9b912f7f",
        "colab": {
          "base_uri": "https://localhost:8080/",
          "height": 793
        }
      },
      "source": [
        "naive_bayes = Pipeline([('clf', MultinomialNB())])\n",
        "naive_bayes.fit(emoji_all, label)\n",
        "naive_bayes_predictions = naive_bayes.predict(emoji_test)\n",
        "print_metrics(naive_bayes_predictions)\n",
        "plot_confusion_matrix(metrics.confusion_matrix(test_label, naive_bayes_predictions), tokens)\n",
        "plt.show()\n",
        "metrics.confusion_matrix(test_label, naive_bayes_predictions)"
      ],
      "execution_count": 87,
      "outputs": [
        {
          "output_type": "stream",
          "text": [
            "/usr/local/lib/python3.6/dist-packages/sklearn/metrics/classification.py:1437: UndefinedMetricWarning: Precision and F-score are ill-defined and being set to 0.0 in labels with no predicted samples.\n",
            "  'precision', 'predicted', average, warn_for)\n",
            "/usr/local/lib/python3.6/dist-packages/sklearn/metrics/classification.py:1437: UndefinedMetricWarning: Precision is ill-defined and being set to 0.0 in labels with no predicted samples.\n",
            "  'precision', 'predicted', average, warn_for)\n",
            "/usr/local/lib/python3.6/dist-packages/sklearn/metrics/classification.py:1437: UndefinedMetricWarning: F-score is ill-defined and being set to 0.0 in labels with no predicted samples.\n",
            "  'precision', 'predicted', average, warn_for)\n"
          ],
          "name": "stderr"
        },
        {
          "output_type": "stream",
          "text": [
            "              precision    recall  f1-score   support\n",
            "\n",
            "      others       0.85      1.00      0.92      4677\n",
            "       happy       0.00      0.00      0.00       284\n",
            "         sad       0.00      0.00      0.00       250\n",
            "       angry       0.00      0.00      0.00       298\n",
            "\n",
            "    accuracy                           0.85      5509\n",
            "   macro avg       0.21      0.25      0.23      5509\n",
            "weighted avg       0.72      0.85      0.78      5509\n",
            "\n",
            "Accuracy: 0.8489744055182429\n",
            "Precision: 0.21224360137956072\n",
            "Recall: 0.25\n",
            "F1 score:  0.22957981543294717\n"
          ],
          "name": "stdout"
        },
        {
          "output_type": "display_data",
          "data": {
            "image/png": "[encoded data removed]",
            "text/plain": [
              "<Figure size 360x360 with 2 Axes>"
            ]
          },
          "metadata": {
            "tags": []
          }
        },
        {
          "output_type": "execute_result",
          "data": {
            "text/plain": [
              "array([[4677,    0,    0,    0],\n",
              "       [ 284,    0,    0,    0],\n",
              "       [ 250,    0,    0,    0],\n",
              "       [ 298,    0,    0,    0]])"
            ]
          },
          "metadata": {
            "tags": []
          },
          "execution_count": 87
        }
      ]
    },
    {
      "cell_type": "markdown",
      "metadata": {
        "id": "vRNG8t0VNNCW",
        "colab_type": "text"
      },
      "source": [
        "### SVM - One vs One\n"
      ]
    },
    {
      "cell_type": "code",
      "metadata": {
        "id": "uIX2hk3oNMT4",
        "colab_type": "code",
        "outputId": "10c32c73-e6fb-4fe7-d8e4-f1f2b3a86ecf",
        "colab": {
          "base_uri": "https://localhost:8080/",
          "height": 663
        }
      },
      "source": [
        "support_vector_machine_one_vs_one = svm.SVC(decision_function_shape = 'ovo', kernel = 'linear', C = 100)\n",
        "support_vector_machine_one_vs_one.fit(emoji_train, labels_train)\n",
        "support_vector_machine_one_vs_one_predictions = support_vector_machine_one_vs_one.predict(emoji_test)\n",
        "print_metrics(support_vector_machine_one_vs_one_predictions)\n",
        "plot_confusion_matrix(metrics.confusion_matrix(test_label, support_vector_machine_one_vs_one_predictions), tokens)\n",
        "plt.show()\n",
        "metrics.confusion_matrix(test_label, support_vector_machine_one_vs_one_predictions)"
      ],
      "execution_count": 88,
      "outputs": [
        {
          "output_type": "stream",
          "text": [
            "              precision    recall  f1-score   support\n",
            "\n",
            "      others       0.93      0.71      0.80      4677\n",
            "       happy       0.18      0.49      0.26       284\n",
            "         sad       0.31      0.61      0.41       250\n",
            "       angry       0.31      0.72      0.44       298\n",
            "\n",
            "    accuracy                           0.69      5509\n",
            "   macro avg       0.43      0.63      0.48      5509\n",
            "weighted avg       0.83      0.69      0.74      5509\n",
            "\n",
            "Accuracy: 0.691051007442367\n",
            "Precision: 0.4331946835850715\n",
            "Recall: 0.6321647630421798\n",
            "F1 score:  0.47852264021584967\n"
          ],
          "name": "stdout"
        },
        {
          "output_type": "display_data",
          "data": {
            "image/png": "[encoded data removed]",
            "text/plain": [
              "<Figure size 360x360 with 2 Axes>"
            ]
          },
          "metadata": {
            "tags": []
          }
        },
        {
          "output_type": "execute_result",
          "data": {
            "text/plain": [
              "array([[3300,  629,  312,  436],\n",
              "       [ 126,  140,    8,   10],\n",
              "       [  67,    9,  153,   21],\n",
              "       [  61,    4,   19,  214]])"
            ]
          },
          "metadata": {
            "tags": []
          },
          "execution_count": 88
        }
      ]
    },
    {
      "cell_type": "code",
      "metadata": {
        "id": "VT-hf_hANY_z",
        "colab_type": "code",
        "outputId": "ab76fd06-db36-49d7-fc0d-10bf6dda02b2",
        "colab": {
          "base_uri": "https://localhost:8080/",
          "height": 663
        }
      },
      "source": [
        "support_vector_machine_one_vs_one = svm.SVC(decision_function_shape = 'ovo', kernel = 'linear', C = 100)\n",
        "support_vector_machine_one_vs_one.fit(emoji_all, label)\n",
        "support_vector_machine_one_vs_one_predictions = support_vector_machine_one_vs_one.predict(emoji_test)\n",
        "print_metrics(support_vector_machine_one_vs_one_predictions)\n",
        "plot_confusion_matrix(metrics.confusion_matrix(test_label, support_vector_machine_one_vs_one_predictions), tokens)\n",
        "plt.show()\n",
        "metrics.confusion_matrix(test_label, support_vector_machine_one_vs_one_predictions)"
      ],
      "execution_count": 89,
      "outputs": [
        {
          "output_type": "stream",
          "text": [
            "              precision    recall  f1-score   support\n",
            "\n",
            "      others       0.91      0.90      0.91      4677\n",
            "       happy       0.40      0.24      0.30       284\n",
            "         sad       0.44      0.49      0.46       250\n",
            "       angry       0.43      0.59      0.50       298\n",
            "\n",
            "    accuracy                           0.83      5509\n",
            "   macro avg       0.54      0.56      0.54      5509\n",
            "weighted avg       0.83      0.83      0.83      5509\n",
            "\n",
            "Accuracy: 0.832819023416228\n",
            "Precision: 0.5429048658814242\n",
            "Recall: 0.5560158442291393\n",
            "F1 score:  0.54130883565249\n"
          ],
          "name": "stdout"
        },
        {
          "output_type": "display_data",
          "data": {
            "image/png": "[encoded data removed]",
            "text/plain": [
              "<Figure size 360x360 with 2 Axes>"
            ]
          },
          "metadata": {
            "tags": []
          }
        },
        {
          "output_type": "execute_result",
          "data": {
            "text/plain": [
              "array([[4221,  100,  143,  213],\n",
              "       [ 206,   69,    2,    7],\n",
              "       [ 111,    3,  122,   14],\n",
              "       [ 108,    2,   12,  176]])"
            ]
          },
          "metadata": {
            "tags": []
          },
          "execution_count": 89
        }
      ]
    },
    {
      "cell_type": "markdown",
      "metadata": {
        "id": "Xm9iCkR2Ne_y",
        "colab_type": "text"
      },
      "source": [
        "### SVM One vs Rest"
      ]
    },
    {
      "cell_type": "code",
      "metadata": {
        "id": "PfBVdB2NNf5z",
        "colab_type": "code",
        "outputId": "91cb0445-4a8d-4366-b841-e111f5dbf7d0",
        "colab": {
          "base_uri": "https://localhost:8080/",
          "height": 663
        }
      },
      "source": [
        "support_vector_machine_one_vs_rest = svm.SVC(decision_function_shape = 'ovr', kernel = 'linear', C = 100)\n",
        "support_vector_machine_one_vs_rest.fit(emoji_train, labels_train)\n",
        "support_vector_machine_one_vs_rest_predictions = support_vector_machine_one_vs_rest.predict(emoji_test)\n",
        "print_metrics(support_vector_machine_one_vs_rest_predictions)\n",
        "plot_confusion_matrix(metrics.confusion_matrix(test_label, support_vector_machine_one_vs_rest_predictions), tokens)\n",
        "plt.show()\n",
        "metrics.confusion_matrix(test_label, support_vector_machine_one_vs_rest_predictions)"
      ],
      "execution_count": 90,
      "outputs": [
        {
          "output_type": "stream",
          "text": [
            "              precision    recall  f1-score   support\n",
            "\n",
            "      others       0.93      0.71      0.80      4677\n",
            "       happy       0.18      0.49      0.26       284\n",
            "         sad       0.31      0.61      0.41       250\n",
            "       angry       0.31      0.72      0.44       298\n",
            "\n",
            "    accuracy                           0.69      5509\n",
            "   macro avg       0.43      0.63      0.48      5509\n",
            "weighted avg       0.83      0.69      0.74      5509\n",
            "\n",
            "Accuracy: 0.691051007442367\n",
            "Precision: 0.4331946835850715\n",
            "Recall: 0.6321647630421798\n",
            "F1 score:  0.47852264021584967\n"
          ],
          "name": "stdout"
        },
        {
          "output_type": "display_data",
          "data": {
            "image/png": "[encoded data removed]",
            "text/plain": [
              "<Figure size 360x360 with 2 Axes>"
            ]
          },
          "metadata": {
            "tags": []
          }
        },
        {
          "output_type": "execute_result",
          "data": {
            "text/plain": [
              "array([[3300,  629,  312,  436],\n",
              "       [ 126,  140,    8,   10],\n",
              "       [  67,    9,  153,   21],\n",
              "       [  61,    4,   19,  214]])"
            ]
          },
          "metadata": {
            "tags": []
          },
          "execution_count": 90
        }
      ]
    },
    {
      "cell_type": "code",
      "metadata": {
        "id": "WM44hZPSNkEf",
        "colab_type": "code",
        "outputId": "5e9514c2-4f0a-4fd0-d185-86762fe60a99",
        "colab": {
          "base_uri": "https://localhost:8080/",
          "height": 663
        }
      },
      "source": [
        "support_vector_machine_one_vs_rest = svm.SVC(decision_function_shape = 'ovr', kernel = 'linear', C = 100)\n",
        "support_vector_machine_one_vs_rest.fit(emoji_all, label)\n",
        "support_vector_machine_one_vs_rest_predictions = support_vector_machine_one_vs_rest.predict(emoji_test)\n",
        "print_metrics(support_vector_machine_one_vs_rest_predictions)\n",
        "plot_confusion_matrix(metrics.confusion_matrix(test_label, support_vector_machine_one_vs_rest_predictions), tokens)\n",
        "plt.show()\n",
        "metrics.confusion_matrix(test_label, support_vector_machine_one_vs_rest_predictions)"
      ],
      "execution_count": 91,
      "outputs": [
        {
          "output_type": "stream",
          "text": [
            "              precision    recall  f1-score   support\n",
            "\n",
            "      others       0.91      0.90      0.91      4677\n",
            "       happy       0.40      0.24      0.30       284\n",
            "         sad       0.44      0.49      0.46       250\n",
            "       angry       0.43      0.59      0.50       298\n",
            "\n",
            "    accuracy                           0.83      5509\n",
            "   macro avg       0.54      0.56      0.54      5509\n",
            "weighted avg       0.83      0.83      0.83      5509\n",
            "\n",
            "Accuracy: 0.832819023416228\n",
            "Precision: 0.5429048658814242\n",
            "Recall: 0.5560158442291393\n",
            "F1 score:  0.54130883565249\n"
          ],
          "name": "stdout"
        },
        {
          "output_type": "display_data",
          "data": {
            "image/png": "[encoded data removed]",
            "text/plain": [
              "<Figure size 360x360 with 2 Axes>"
            ]
          },
          "metadata": {
            "tags": []
          }
        },
        {
          "output_type": "execute_result",
          "data": {
            "text/plain": [
              "array([[4221,  100,  143,  213],\n",
              "       [ 206,   69,    2,    7],\n",
              "       [ 111,    3,  122,   14],\n",
              "       [ 108,    2,   12,  176]])"
            ]
          },
          "metadata": {
            "tags": []
          },
          "execution_count": 91
        }
      ]
    },
    {
      "cell_type": "markdown",
      "metadata": {
        "id": "iUlOqc89c7KV",
        "colab_type": "text"
      },
      "source": [
        "### Analysis without others class"
      ]
    },
    {
      "cell_type": "code",
      "metadata": {
        "colab_type": "code",
        "id": "9gaMSyFjhtnQ",
        "colab": {}
      },
      "source": [
        "conversation = []\n",
        "label = []\n",
        "\n",
        "for index, record in training_data.iterrows():\n",
        "    conversation.append(pre_process(record['turn1']) +' <eos> ' + pre_process(record['turn2']) + ' <eos> ' + pre_process(record['turn3']))\n",
        "    label.append(emotion_to_label[record['label']])"
      ],
      "execution_count": 0,
      "outputs": []
    },
    {
      "cell_type": "code",
      "metadata": {
        "colab_type": "code",
        "id": "YMnMVRG_htnU",
        "colab": {}
      },
      "source": [
        "test_data = pd.read_csv(os.path.join(datapath, 'test.txt'), sep = '\\t')"
      ],
      "execution_count": 0,
      "outputs": []
    },
    {
      "cell_type": "code",
      "metadata": {
        "colab_type": "code",
        "id": "RryCN7pfhtnV",
        "colab": {}
      },
      "source": [
        "test_conversation = []\n",
        "test_label = []\n",
        "\n",
        "for index, record in test_data.iterrows():\n",
        "    test_conversation.append(pre_process(record['turn1'])+' <eos> ' + pre_process(record['turn2']) + ' <eos> ' + pre_process(record['turn3']))\n",
        "    test_label.append(emotion_to_label[record['label']])"
      ],
      "execution_count": 0,
      "outputs": []
    },
    {
      "cell_type": "code",
      "metadata": {
        "id": "0uwYsCi-dKWi",
        "colab_type": "code",
        "colab": {}
      },
      "source": [
        "conversation_encoding_vector = np.load('deepemoji_embeddings/conversation_encoding_vector.npy')\n",
        "test_conversation_encoding_vector = np.load('deepemoji_embeddings/test_conversation_encoding_vector.npy')"
      ],
      "execution_count": 0,
      "outputs": []
    },
    {
      "cell_type": "code",
      "metadata": {
        "id": "4o0uhhzudmJJ",
        "colab_type": "code",
        "colab": {
          "base_uri": "https://localhost:8080/",
          "height": 731
        },
        "outputId": "d333a5f8-a592-49ec-9c25-91f98d226915"
      },
      "source": [
        "emoji_all = encode_emoji(conversation)\n",
        "emoji_test_all = encode_emoji(test_conversation)"
      ],
      "execution_count": 104,
      "outputs": [
        {
          "output_type": "stream",
          "text": [
            "/content/contextual_emotion_detection/torchMoji/torchmoji/model_def.py:159: UserWarning: nn.init.uniform is now deprecated in favor of nn.init.uniform_.\n",
            "  nn.init.uniform(self.embed.weight.data, a=-0.5, b=0.5)\n",
            "/content/contextual_emotion_detection/torchMoji/torchmoji/model_def.py:161: UserWarning: nn.init.xavier_uniform is now deprecated in favor of nn.init.xavier_uniform_.\n",
            "  nn.init.xavier_uniform(t)\n",
            "/content/contextual_emotion_detection/torchMoji/torchmoji/model_def.py:163: UserWarning: nn.init.orthogonal is now deprecated in favor of nn.init.orthogonal_.\n",
            "  nn.init.orthogonal(t)\n",
            "/content/contextual_emotion_detection/torchMoji/torchmoji/model_def.py:165: UserWarning: nn.init.constant is now deprecated in favor of nn.init.constant_.\n",
            "  nn.init.constant(t, 0)\n",
            "/content/contextual_emotion_detection/torchMoji/torchmoji/model_def.py:167: UserWarning: nn.init.xavier_uniform is now deprecated in favor of nn.init.xavier_uniform_.\n",
            "  nn.init.xavier_uniform(self.output_layer[0].weight.data)\n"
          ],
          "name": "stderr"
        },
        {
          "output_type": "stream",
          "text": [
            "Tokenizing conversation text\n",
            "Make predictions using Pretrained model:  TorchMoji(\n",
            "  (embed): Embedding(50000, 256)\n",
            "  (embed_dropout): Dropout2d(p=0)\n",
            "  (lstm_0): LSTMHardSigmoid(256, 512, batch_first=True, bidirectional=True)\n",
            "  (lstm_1): LSTMHardSigmoid(1024, 512, batch_first=True, bidirectional=True)\n",
            "  (attention_layer): Attention(2304, return attention=False)\n",
            "  (final_dropout): Dropout(p=0)\n",
            "  (output_layer): Sequential(\n",
            "    (0): Linear(in_features=2304, out_features=64, bias=True)\n",
            "    (1): Softmax()\n",
            "  )\n",
            ")\n"
          ],
          "name": "stdout"
        },
        {
          "output_type": "stream",
          "text": [
            "/usr/local/lib/python3.6/dist-packages/torch/nn/functional.py:1320: UserWarning: nn.functional.tanh is deprecated. Use torch.tanh instead.\n",
            "  warnings.warn(\"nn.functional.tanh is deprecated. Use torch.tanh instead.\")\n",
            "/usr/local/lib/python3.6/dist-packages/torch/nn/modules/container.py:92: UserWarning: Implicit dimension choice for softmax has been deprecated. Change the call to include dim=X as an argument.\n",
            "  input = module(input)\n"
          ],
          "name": "stderr"
        },
        {
          "output_type": "stream",
          "text": [
            "Tokenizing conversation text\n",
            "Make predictions using Pretrained model:  TorchMoji(\n",
            "  (embed): Embedding(50000, 256)\n",
            "  (embed_dropout): Dropout2d(p=0)\n",
            "  (lstm_0): LSTMHardSigmoid(256, 512, batch_first=True, bidirectional=True)\n",
            "  (lstm_1): LSTMHardSigmoid(1024, 512, batch_first=True, bidirectional=True)\n",
            "  (attention_layer): Attention(2304, return attention=False)\n",
            "  (final_dropout): Dropout(p=0)\n",
            "  (output_layer): Sequential(\n",
            "    (0): Linear(in_features=2304, out_features=64, bias=True)\n",
            "    (1): Softmax()\n",
            "  )\n",
            ")\n"
          ],
          "name": "stdout"
        }
      ]
    },
    {
      "cell_type": "code",
      "metadata": {
        "id": "CqbONXy-gNF-",
        "colab_type": "code",
        "colab": {}
      },
      "source": [
        "label = np.array(label)\n",
        "others_indices = np.where(label == 0)[0]\n",
        "indices = np.r_[np.where(label == 1)[0], np.where(label == 2)[0], np.where(label == 3)[0]]"
      ],
      "execution_count": 0,
      "outputs": []
    },
    {
      "cell_type": "code",
      "metadata": {
        "id": "ICeCyuoJhd-I",
        "colab_type": "code",
        "colab": {}
      },
      "source": [
        "deepmoji_train = conversation_encoding_vector[indices]\n",
        "label_train = label[indices]\n",
        "emoji_train = emoji_all[indices]"
      ],
      "execution_count": 0,
      "outputs": []
    },
    {
      "cell_type": "code",
      "metadata": {
        "id": "grTeCEoWjfAr",
        "colab_type": "code",
        "colab": {}
      },
      "source": [
        "test_label = np.array(test_label)\n",
        "indices_test = np.r_[np.where(test_label == 1)[0], np.where(test_label == 2)[0], np.where(test_label == 3)[0]]"
      ],
      "execution_count": 0,
      "outputs": []
    },
    {
      "cell_type": "code",
      "metadata": {
        "id": "M7OxgQQRl2aD",
        "colab_type": "code",
        "colab": {}
      },
      "source": [
        "test_label_selected = test_label[indices_test]\n",
        "deepmoji_test = test_conversation_encoding_vector[indices_test]\n",
        "emoji_test = emoji_test_all[indices_test]"
      ],
      "execution_count": 0,
      "outputs": []
    },
    {
      "cell_type": "code",
      "metadata": {
        "id": "rxTrjy14o0Ln",
        "colab_type": "code",
        "colab": {}
      },
      "source": [
        "tokens = ['happy', 'sad', 'angry']"
      ],
      "execution_count": 0,
      "outputs": []
    },
    {
      "cell_type": "code",
      "metadata": {
        "id": "hIAU_J0lobER",
        "colab_type": "code",
        "colab": {}
      },
      "source": [
        "def print_metrics(prediction):\n",
        "    print(metrics.classification_report(test_label_selected, prediction, target_names = tokens))\n",
        "    print(\"Accuracy:\", metrics.accuracy_score(test_label_selected, prediction))\n",
        "    print(\"Precision:\", metrics.precision_score(test_label_selected, prediction, average = 'macro'))\n",
        "    print(\"Recall:\", metrics.recall_score(test_label_selected, prediction, average = 'macro'))\n",
        "    print(\"F1 score: \", metrics.f1_score(test_label_selected, prediction, average = 'macro'))"
      ],
      "execution_count": 0,
      "outputs": []
    },
    {
      "cell_type": "markdown",
      "metadata": {
        "id": "6TRo1XoHlnyV",
        "colab_type": "text"
      },
      "source": [
        "#### Logistic Regression"
      ]
    },
    {
      "cell_type": "code",
      "metadata": {
        "id": "-Q6g0qkYlF4p",
        "colab_type": "code",
        "colab": {
          "base_uri": "https://localhost:8080/",
          "height": 280
        },
        "outputId": "30137dbe-38cd-49bd-96f9-df0f2ae53f03"
      },
      "source": [
        "logistic_regression = Pipeline([('scaler', MinMaxScaler()), ('clf', LogisticRegression(random_state = 0))])\n",
        "logistic_regression.fit(deepmoji_train, label_train)"
      ],
      "execution_count": 136,
      "outputs": [
        {
          "output_type": "stream",
          "text": [
            "/usr/local/lib/python3.6/dist-packages/sklearn/linear_model/logistic.py:432: FutureWarning: Default solver will be changed to 'lbfgs' in 0.22. Specify a solver to silence this warning.\n",
            "  FutureWarning)\n",
            "/usr/local/lib/python3.6/dist-packages/sklearn/linear_model/logistic.py:469: FutureWarning: Default multi_class will be changed to 'auto' in 0.22. Specify the multi_class option to silence this warning.\n",
            "  \"this warning.\", FutureWarning)\n"
          ],
          "name": "stderr"
        },
        {
          "output_type": "execute_result",
          "data": {
            "text/plain": [
              "Pipeline(memory=None,\n",
              "         steps=[('scaler', MinMaxScaler(copy=True, feature_range=(0, 1))),\n",
              "                ('clf',\n",
              "                 LogisticRegression(C=1.0, class_weight=None, dual=False,\n",
              "                                    fit_intercept=True, intercept_scaling=1,\n",
              "                                    l1_ratio=None, max_iter=100,\n",
              "                                    multi_class='warn', n_jobs=None,\n",
              "                                    penalty='l2', random_state=0, solver='warn',\n",
              "                                    tol=0.0001, verbose=0, warm_start=False))],\n",
              "         verbose=False)"
            ]
          },
          "metadata": {
            "tags": []
          },
          "execution_count": 136
        }
      ]
    },
    {
      "cell_type": "code",
      "metadata": {
        "id": "Sz1Cfh48mn81",
        "colab_type": "code",
        "colab": {
          "base_uri": "https://localhost:8080/",
          "height": 598
        },
        "outputId": "d2ab4a5d-2f39-47cd-82a6-001cd93e2883"
      },
      "source": [
        "logistic_regression_predictions = logistic_regression.predict(deepmoji_test)\n",
        "print_metrics(logistic_regression_predictions)\n",
        "plot_confusion_matrix(metrics.confusion_matrix(test_label_selected, logistic_regression_predictions), tokens)\n",
        "plt.show()\n",
        "metrics.confusion_matrix(test_label_selected, logistic_regression_predictions)"
      ],
      "execution_count": 146,
      "outputs": [
        {
          "output_type": "stream",
          "text": [
            "              precision    recall  f1-score   support\n",
            "\n",
            "       happy       0.85      0.86      0.86       284\n",
            "         sad       0.83      0.80      0.81       250\n",
            "       angry       0.86      0.89      0.87       298\n",
            "\n",
            "    accuracy                           0.85       832\n",
            "   macro avg       0.85      0.85      0.85       832\n",
            "weighted avg       0.85      0.85      0.85       832\n",
            "\n",
            "Accuracy: 0.8497596153846154\n",
            "Precision: 0.8485725632768824\n",
            "Recall: 0.8470203232819737\n",
            "F1 score:  0.8475911846916045\n"
          ],
          "name": "stdout"
        },
        {
          "output_type": "display_data",
          "data": {
            "image/png": "[encoded data removed]",
            "text/plain": [
              "<Figure size 324x324 with 2 Axes>"
            ]
          },
          "metadata": {
            "tags": []
          }
        },
        {
          "output_type": "execute_result",
          "data": {
            "text/plain": [
              "array([[244,  23,  17],\n",
              "       [ 25, 199,  26],\n",
              "       [ 17,  17, 264]])"
            ]
          },
          "metadata": {
            "tags": []
          },
          "execution_count": 146
        }
      ]
    },
    {
      "cell_type": "code",
      "metadata": {
        "id": "Gcm8CHnQmuen",
        "colab_type": "code",
        "colab": {
          "base_uri": "https://localhost:8080/",
          "height": 687
        },
        "outputId": "740b9462-6276-4d02-bd15-578af21fd05c"
      },
      "source": [
        "logistic_regression = LogisticRegression(random_state = 0)\n",
        "logistic_regression.fit(deepmoji_train, label_train)\n",
        "logistic_regression_predictions = logistic_regression.predict(deepmoji_test)\n",
        "print_metrics(logistic_regression_predictions)\n",
        "plot_confusion_matrix(metrics.confusion_matrix(test_label_selected, logistic_regression_predictions), tokens)\n",
        "plt.show()\n",
        "metrics.confusion_matrix(test_label_selected, logistic_regression_predictions)"
      ],
      "execution_count": 147,
      "outputs": [
        {
          "output_type": "stream",
          "text": [
            "/usr/local/lib/python3.6/dist-packages/sklearn/linear_model/logistic.py:432: FutureWarning: Default solver will be changed to 'lbfgs' in 0.22. Specify a solver to silence this warning.\n",
            "  FutureWarning)\n",
            "/usr/local/lib/python3.6/dist-packages/sklearn/linear_model/logistic.py:469: FutureWarning: Default multi_class will be changed to 'auto' in 0.22. Specify the multi_class option to silence this warning.\n",
            "  \"this warning.\", FutureWarning)\n"
          ],
          "name": "stderr"
        },
        {
          "output_type": "stream",
          "text": [
            "              precision    recall  f1-score   support\n",
            "\n",
            "       happy       0.86      0.85      0.86       284\n",
            "         sad       0.83      0.79      0.81       250\n",
            "       angry       0.85      0.90      0.87       298\n",
            "\n",
            "    accuracy                           0.85       832\n",
            "   macro avg       0.85      0.85      0.85       832\n",
            "weighted avg       0.85      0.85      0.85       832\n",
            "\n",
            "Accuracy: 0.8485576923076923\n",
            "Precision: 0.8475232124456299\n",
            "Recall: 0.8455215678860636\n",
            "F1 score:  0.8461642856171189\n"
          ],
          "name": "stdout"
        },
        {
          "output_type": "display_data",
          "data": {
            "image/png": "[encoded data removed]",
            "text/plain": [
              "<Figure size 324x324 with 2 Axes>"
            ]
          },
          "metadata": {
            "tags": []
          }
        },
        {
          "output_type": "execute_result",
          "data": {
            "text/plain": [
              "array([[241,  24,  19],\n",
              "       [ 24, 198,  28],\n",
              "       [ 14,  17, 267]])"
            ]
          },
          "metadata": {
            "tags": []
          },
          "execution_count": 147
        }
      ]
    },
    {
      "cell_type": "code",
      "metadata": {
        "id": "1GQHID5amwlZ",
        "colab_type": "code",
        "colab": {
          "base_uri": "https://localhost:8080/",
          "height": 690
        },
        "outputId": "1c41cc3e-3461-4f6e-da09-4ed039d48403"
      },
      "source": [
        "logistic_regression = LogisticRegression(random_state = 0).fit(emoji_train, label_train)\n",
        "logistic_regression_predictions = logistic_regression.predict(emoji_test)\n",
        "print_metrics(logistic_regression_predictions)\n",
        "plot_confusion_matrix(metrics.confusion_matrix(test_label_selected, logistic_regression_predictions), tokens)\n",
        "plt.show()\n",
        "metrics.confusion_matrix(test_label_selected, logistic_regression_predictions)"
      ],
      "execution_count": 148,
      "outputs": [
        {
          "output_type": "stream",
          "text": [
            "/usr/local/lib/python3.6/dist-packages/sklearn/linear_model/logistic.py:432: FutureWarning: Default solver will be changed to 'lbfgs' in 0.22. Specify a solver to silence this warning.\n",
            "  FutureWarning)\n",
            "/usr/local/lib/python3.6/dist-packages/sklearn/linear_model/logistic.py:469: FutureWarning: Default multi_class will be changed to 'auto' in 0.22. Specify the multi_class option to silence this warning.\n",
            "  \"this warning.\", FutureWarning)\n"
          ],
          "name": "stderr"
        },
        {
          "output_type": "stream",
          "text": [
            "              precision    recall  f1-score   support\n",
            "\n",
            "       happy       0.71      0.88      0.79       284\n",
            "         sad       0.80      0.60      0.69       250\n",
            "       angry       0.77      0.75      0.76       298\n",
            "\n",
            "    accuracy                           0.75       832\n",
            "   macro avg       0.76      0.75      0.74       832\n",
            "weighted avg       0.76      0.75      0.75       832\n",
            "\n",
            "Accuracy: 0.7512019230769231\n",
            "Precision: 0.7598692148474174\n",
            "Recall: 0.7453749881841384\n",
            "F1 score:  0.7448521778531143\n"
          ],
          "name": "stdout"
        },
        {
          "output_type": "display_data",
          "data": {
            "image/png": "[encoded data removed]",
            "text/plain": [
              "<Figure size 324x324 with 2 Axes>"
            ]
          },
          "metadata": {
            "tags": []
          }
        },
        {
          "output_type": "execute_result",
          "data": {
            "text/plain": [
              "array([[251,  11,  22],\n",
              "       [ 55, 151,  44],\n",
              "       [ 48,  27, 223]])"
            ]
          },
          "metadata": {
            "tags": []
          },
          "execution_count": 148
        }
      ]
    },
    {
      "cell_type": "markdown",
      "metadata": {
        "id": "6m4OHOpMr32Q",
        "colab_type": "text"
      },
      "source": [
        "#### Naive Bayes"
      ]
    },
    {
      "cell_type": "code",
      "metadata": {
        "id": "5W9m9Jfurxdw",
        "colab_type": "code",
        "colab": {
          "base_uri": "https://localhost:8080/",
          "height": 598
        },
        "outputId": "d6d5f099-712f-49fe-998b-02394ac31167"
      },
      "source": [
        "naive_bayes = Pipeline([('scaler', MinMaxScaler()), ('clf', MultinomialNB())])\n",
        "naive_bayes.fit(deepmoji_train, label_train)\n",
        "naive_bayes_predictions = naive_bayes.predict(deepmoji_test)\n",
        "print_metrics(naive_bayes_predictions)\n",
        "plot_confusion_matrix(metrics.confusion_matrix(test_label_selected, naive_bayes_predictions), tokens)\n",
        "plt.show()\n",
        "metrics.confusion_matrix(test_label_selected, naive_bayes_predictions)"
      ],
      "execution_count": 151,
      "outputs": [
        {
          "output_type": "stream",
          "text": [
            "              precision    recall  f1-score   support\n",
            "\n",
            "       happy       0.82      0.85      0.83       284\n",
            "         sad       0.81      0.70      0.75       250\n",
            "       angry       0.80      0.86      0.83       298\n",
            "\n",
            "    accuracy                           0.81       832\n",
            "   macro avg       0.81      0.80      0.80       832\n",
            "weighted avg       0.81      0.81      0.81       832\n",
            "\n",
            "Accuracy: 0.8076923076923077\n",
            "Precision: 0.8078003988249908\n",
            "Recall: 0.8024955099725872\n",
            "F1 score:  0.8034286873758187\n"
          ],
          "name": "stdout"
        },
        {
          "output_type": "display_data",
          "data": {
            "image/png": "[encoded data removed]",
            "text/plain": [
              "<Figure size 324x324 with 2 Axes>"
            ]
          },
          "metadata": {
            "tags": []
          }
        },
        {
          "output_type": "execute_result",
          "data": {
            "text/plain": [
              "array([[240,  19,  25],\n",
              "       [ 36, 175,  39],\n",
              "       [ 18,  23, 257]])"
            ]
          },
          "metadata": {
            "tags": []
          },
          "execution_count": 151
        }
      ]
    },
    {
      "cell_type": "code",
      "metadata": {
        "id": "6gUCLbW-sKTl",
        "colab_type": "code",
        "colab": {
          "base_uri": "https://localhost:8080/",
          "height": 604
        },
        "outputId": "da931b18-eca0-4e0d-c66c-10e2fe155703"
      },
      "source": [
        "naive_bayes = Pipeline([('clf', MultinomialNB())])\n",
        "naive_bayes.fit(emoji_train, label_train)\n",
        "naive_bayes_predictions = naive_bayes.predict(emoji_test)\n",
        "print_metrics(naive_bayes_predictions)\n",
        "plot_confusion_matrix(metrics.confusion_matrix(test_label_selected, naive_bayes_predictions), tokens)\n",
        "plt.show()\n",
        "metrics.confusion_matrix(test_label_selected, naive_bayes_predictions)"
      ],
      "execution_count": 152,
      "outputs": [
        {
          "output_type": "stream",
          "text": [
            "              precision    recall  f1-score   support\n",
            "\n",
            "       happy       1.00      0.01      0.01       284\n",
            "         sad       0.47      0.72      0.57       250\n",
            "       angry       0.54      0.82      0.65       298\n",
            "\n",
            "    accuracy                           0.51       832\n",
            "   macro avg       0.67      0.51      0.41       832\n",
            "weighted avg       0.68      0.51      0.41       832\n",
            "\n",
            "Accuracy: 0.5108173076923077\n",
            "Precision: 0.6711051567219918\n",
            "Recall: 0.5139447332766172\n",
            "F1 score:  0.4115595957267206\n"
          ],
          "name": "stdout"
        },
        {
          "output_type": "display_data",
          "data": {
            "image/png": "[encoded data removed]",
            "text/plain": [
              "<Figure size 324x324 with 2 Axes>"
            ]
          },
          "metadata": {
            "tags": []
          }
        },
        {
          "output_type": "execute_result",
          "data": {
            "text/plain": [
              "array([[  2, 146, 136],\n",
              "       [  0, 179,  71],\n",
              "       [  0,  54, 244]])"
            ]
          },
          "metadata": {
            "tags": []
          },
          "execution_count": 152
        }
      ]
    },
    {
      "cell_type": "markdown",
      "metadata": {
        "id": "KnC9CVAvsqDW",
        "colab_type": "text"
      },
      "source": [
        "#### SVM One vs One"
      ]
    },
    {
      "cell_type": "code",
      "metadata": {
        "id": "DBXSmxAgsiMI",
        "colab_type": "code",
        "colab": {
          "base_uri": "https://localhost:8080/",
          "height": 601
        },
        "outputId": "2df42b7e-2c62-48b3-d23b-f277b4ff61d8"
      },
      "source": [
        "svm_one_vs_one = svm.SVC(decision_function_shape = 'ovo', kernel = 'linear', C = 100)\n",
        "svm_one_vs_one.fit(emoji_train, label_train)\n",
        "svm_one_vs_one_predictions = svm_one_vs_one.predict(emoji_test)\n",
        "print_metrics(svm_one_vs_one_predictions)\n",
        "plot_confusion_matrix(metrics.confusion_matrix(test_label_selected, svm_one_vs_one_predictions), tokens)\n",
        "plt.show()\n",
        "metrics.confusion_matrix(test_label_selected, svm_one_vs_one_predictions)"
      ],
      "execution_count": 153,
      "outputs": [
        {
          "output_type": "stream",
          "text": [
            "              precision    recall  f1-score   support\n",
            "\n",
            "       happy       0.80      0.88      0.84       284\n",
            "         sad       0.79      0.72      0.75       250\n",
            "       angry       0.82      0.80      0.81       298\n",
            "\n",
            "    accuracy                           0.80       832\n",
            "   macro avg       0.80      0.80      0.80       832\n",
            "weighted avg       0.80      0.80      0.80       832\n",
            "\n",
            "Accuracy: 0.8040865384615384\n",
            "Precision: 0.8028775963177082\n",
            "Recall: 0.8008201783407379\n",
            "F1 score:  0.8006535311011765\n"
          ],
          "name": "stdout"
        },
        {
          "output_type": "display_data",
          "data": {
            "image/png": "[encoded data removed]",
            "text/plain": [
              "<Figure size 324x324 with 2 Axes>"
            ]
          },
          "metadata": {
            "tags": []
          }
        },
        {
          "output_type": "execute_result",
          "data": {
            "text/plain": [
              "array([[251,  15,  18],\n",
              "       [ 36, 180,  34],\n",
              "       [ 26,  34, 238]])"
            ]
          },
          "metadata": {
            "tags": []
          },
          "execution_count": 153
        }
      ]
    },
    {
      "cell_type": "markdown",
      "metadata": {
        "id": "bzzup6xIsvl0",
        "colab_type": "text"
      },
      "source": [
        "#### SVM One vs Rest"
      ]
    },
    {
      "cell_type": "code",
      "metadata": {
        "id": "hQxMxcSiswzN",
        "colab_type": "code",
        "colab": {
          "base_uri": "https://localhost:8080/",
          "height": 601
        },
        "outputId": "1a6480c6-05fa-4b74-8d23-e0582bcb739e"
      },
      "source": [
        "svm_one_vs_rest = svm.SVC(decision_function_shape = 'ovr', kernel = 'linear', C = 100)\n",
        "svm_one_vs_rest.fit(emoji_train, label_train)\n",
        "svm_one_vs_rest_predictions = svm_one_vs_rest.predict(emoji_test)\n",
        "print_metrics(svm_one_vs_rest_predictions)\n",
        "plot_confusion_matrix(metrics.confusion_matrix(test_label_selected, svm_one_vs_rest_predictions), tokens)\n",
        "plt.show()\n",
        "metrics.confusion_matrix(test_label_selected, svm_one_vs_rest_predictions)"
      ],
      "execution_count": 154,
      "outputs": [
        {
          "output_type": "stream",
          "text": [
            "              precision    recall  f1-score   support\n",
            "\n",
            "       happy       0.80      0.88      0.84       284\n",
            "         sad       0.79      0.72      0.75       250\n",
            "       angry       0.82      0.80      0.81       298\n",
            "\n",
            "    accuracy                           0.80       832\n",
            "   macro avg       0.80      0.80      0.80       832\n",
            "weighted avg       0.80      0.80      0.80       832\n",
            "\n",
            "Accuracy: 0.8040865384615384\n",
            "Precision: 0.8028775963177082\n",
            "Recall: 0.8008201783407379\n",
            "F1 score:  0.8006535311011765\n"
          ],
          "name": "stdout"
        },
        {
          "output_type": "display_data",
          "data": {
            "image/png": "[encoded data removed]",
            "text/plain": [
              "<Figure size 324x324 with 2 Axes>"
            ]
          },
          "metadata": {
            "tags": []
          }
        },
        {
          "output_type": "execute_result",
          "data": {
            "text/plain": [
              "array([[251,  15,  18],\n",
              "       [ 36, 180,  34],\n",
              "       [ 26,  34, 238]])"
            ]
          },
          "metadata": {
            "tags": []
          },
          "execution_count": 154
        }
      ]
    },
    {
      "cell_type": "markdown",
      "metadata": {
        "id": "EMRVkOb1wd_i",
        "colab_type": "text"
      },
      "source": [
        "### Sequential analysis of conversation text"
      ]
    },
    {
      "cell_type": "code",
      "metadata": {
        "id": "aOvJ9OOgtRFE",
        "colab_type": "code",
        "colab": {}
      },
      "source": [
        "conversation1 = []\n",
        "conversation2 = []\n",
        "conversation3 = []\n",
        "label = []\n",
        "\n",
        "for index, record in training_data.iterrows():\n",
        "    label.append(emotion_to_label[record['label']])\n",
        "    conversation1.append(pre_process(record['turn1']))\n",
        "    conversation2.append(pre_process(record['turn2']))\n",
        "    conversation3.append(pre_process(record['turn3']))"
      ],
      "execution_count": 0,
      "outputs": []
    },
    {
      "cell_type": "code",
      "metadata": {
        "id": "uOXaPaik4iy6",
        "colab_type": "code",
        "colab": {}
      },
      "source": [
        "test_conversation1 = []\n",
        "test_conversation2 = []\n",
        "test_conversation3 = []\n",
        "test_label = []\n",
        "\n",
        "for index, record in test_data.iterrows():\n",
        "    test_label.append(emotion_to_label[record['label']])\n",
        "    test_conversation1.append(pre_process(record['turn1']))\n",
        "    test_conversation2.append(pre_process(record['turn2']))\n",
        "    test_conversation3.append(pre_process(record['turn3']))"
      ],
      "execution_count": 0,
      "outputs": []
    },
    {
      "cell_type": "code",
      "metadata": {
        "id": "blg8b9WA4-FM",
        "colab_type": "code",
        "colab": {
          "base_uri": "https://localhost:8080/",
          "height": 1000
        },
        "outputId": "9081ed44-453d-4747-e9d4-d32cde8f13ef"
      },
      "source": [
        "train_conversation1_encoding_vector = encode_deepmoji(conversation1)\n",
        "train_conversation2_encoding_vector = encode_deepmoji(conversation2)\n",
        "train_conversation3_encoding_vector = encode_deepmoji(conversation3)"
      ],
      "execution_count": 162,
      "outputs": [
        {
          "output_type": "stream",
          "text": [
            "/content/contextual_emotion_detection/torchMoji/torchmoji/model_def.py:159: UserWarning: nn.init.uniform is now deprecated in favor of nn.init.uniform_.\n",
            "  nn.init.uniform(self.embed.weight.data, a=-0.5, b=0.5)\n",
            "/content/contextual_emotion_detection/torchMoji/torchmoji/model_def.py:161: UserWarning: nn.init.xavier_uniform is now deprecated in favor of nn.init.xavier_uniform_.\n",
            "  nn.init.xavier_uniform(t)\n",
            "/content/contextual_emotion_detection/torchMoji/torchmoji/model_def.py:163: UserWarning: nn.init.orthogonal is now deprecated in favor of nn.init.orthogonal_.\n",
            "  nn.init.orthogonal(t)\n",
            "/content/contextual_emotion_detection/torchMoji/torchmoji/model_def.py:165: UserWarning: nn.init.constant is now deprecated in favor of nn.init.constant_.\n",
            "  nn.init.constant(t, 0)\n"
          ],
          "name": "stderr"
        },
        {
          "output_type": "stream",
          "text": [
            "Loading weights for embed.weight\n",
            "Loading weights for lstm_0.weight_ih_l0\n",
            "Loading weights for lstm_0.weight_hh_l0\n",
            "Loading weights for lstm_0.bias_ih_l0\n",
            "Loading weights for lstm_0.bias_hh_l0\n",
            "Loading weights for lstm_0.weight_ih_l0_reverse\n",
            "Loading weights for lstm_0.weight_hh_l0_reverse\n",
            "Loading weights for lstm_0.bias_ih_l0_reverse\n",
            "Loading weights for lstm_0.bias_hh_l0_reverse\n",
            "Loading weights for lstm_1.weight_ih_l0\n",
            "Loading weights for lstm_1.weight_hh_l0\n",
            "Loading weights for lstm_1.bias_ih_l0\n",
            "Loading weights for lstm_1.bias_hh_l0\n",
            "Loading weights for lstm_1.weight_ih_l0_reverse\n",
            "Loading weights for lstm_1.weight_hh_l0_reverse\n",
            "Loading weights for lstm_1.bias_ih_l0_reverse\n",
            "Loading weights for lstm_1.bias_hh_l0_reverse\n",
            "Loading weights for attention_layer.attention_vector\n",
            "Ignoring weights for output_layer.0.weight\n",
            "Ignoring weights for output_layer.0.bias\n",
            "Tokenizing conversation text\n",
            "Make predictions using Pretrained model:  TorchMoji(\n",
            "  (embed): Embedding(50000, 256)\n",
            "  (embed_dropout): Dropout2d(p=0)\n",
            "  (lstm_0): LSTMHardSigmoid(256, 512, batch_first=True, bidirectional=True)\n",
            "  (lstm_1): LSTMHardSigmoid(1024, 512, batch_first=True, bidirectional=True)\n",
            "  (attention_layer): Attention(2304, return attention=False)\n",
            ")\n"
          ],
          "name": "stdout"
        },
        {
          "output_type": "stream",
          "text": [
            "/usr/local/lib/python3.6/dist-packages/torch/nn/functional.py:1320: UserWarning: nn.functional.tanh is deprecated. Use torch.tanh instead.\n",
            "  warnings.warn(\"nn.functional.tanh is deprecated. Use torch.tanh instead.\")\n"
          ],
          "name": "stderr"
        },
        {
          "output_type": "stream",
          "text": [
            "Loading weights for embed.weight\n",
            "Loading weights for lstm_0.weight_ih_l0\n",
            "Loading weights for lstm_0.weight_hh_l0\n",
            "Loading weights for lstm_0.bias_ih_l0\n",
            "Loading weights for lstm_0.bias_hh_l0\n",
            "Loading weights for lstm_0.weight_ih_l0_reverse\n",
            "Loading weights for lstm_0.weight_hh_l0_reverse\n",
            "Loading weights for lstm_0.bias_ih_l0_reverse\n",
            "Loading weights for lstm_0.bias_hh_l0_reverse\n",
            "Loading weights for lstm_1.weight_ih_l0\n",
            "Loading weights for lstm_1.weight_hh_l0\n",
            "Loading weights for lstm_1.bias_ih_l0\n",
            "Loading weights for lstm_1.bias_hh_l0\n",
            "Loading weights for lstm_1.weight_ih_l0_reverse\n",
            "Loading weights for lstm_1.weight_hh_l0_reverse\n",
            "Loading weights for lstm_1.bias_ih_l0_reverse\n",
            "Loading weights for lstm_1.bias_hh_l0_reverse\n",
            "Loading weights for attention_layer.attention_vector\n",
            "Ignoring weights for output_layer.0.weight\n",
            "Ignoring weights for output_layer.0.bias\n",
            "Tokenizing conversation text\n",
            "Make predictions using Pretrained model:  TorchMoji(\n",
            "  (embed): Embedding(50000, 256)\n",
            "  (embed_dropout): Dropout2d(p=0)\n",
            "  (lstm_0): LSTMHardSigmoid(256, 512, batch_first=True, bidirectional=True)\n",
            "  (lstm_1): LSTMHardSigmoid(1024, 512, batch_first=True, bidirectional=True)\n",
            "  (attention_layer): Attention(2304, return attention=False)\n",
            ")\n",
            "Loading weights for embed.weight\n",
            "Loading weights for lstm_0.weight_ih_l0\n",
            "Loading weights for lstm_0.weight_hh_l0\n",
            "Loading weights for lstm_0.bias_ih_l0\n",
            "Loading weights for lstm_0.bias_hh_l0\n",
            "Loading weights for lstm_0.weight_ih_l0_reverse\n",
            "Loading weights for lstm_0.weight_hh_l0_reverse\n",
            "Loading weights for lstm_0.bias_ih_l0_reverse\n",
            "Loading weights for lstm_0.bias_hh_l0_reverse\n",
            "Loading weights for lstm_1.weight_ih_l0\n",
            "Loading weights for lstm_1.weight_hh_l0\n",
            "Loading weights for lstm_1.bias_ih_l0\n",
            "Loading weights for lstm_1.bias_hh_l0\n",
            "Loading weights for lstm_1.weight_ih_l0_reverse\n",
            "Loading weights for lstm_1.weight_hh_l0_reverse\n",
            "Loading weights for lstm_1.bias_ih_l0_reverse\n",
            "Loading weights for lstm_1.bias_hh_l0_reverse\n",
            "Loading weights for attention_layer.attention_vector\n",
            "Ignoring weights for output_layer.0.weight\n",
            "Ignoring weights for output_layer.0.bias\n",
            "Tokenizing conversation text\n",
            "Make predictions using Pretrained model:  TorchMoji(\n",
            "  (embed): Embedding(50000, 256)\n",
            "  (embed_dropout): Dropout2d(p=0)\n",
            "  (lstm_0): LSTMHardSigmoid(256, 512, batch_first=True, bidirectional=True)\n",
            "  (lstm_1): LSTMHardSigmoid(1024, 512, batch_first=True, bidirectional=True)\n",
            "  (attention_layer): Attention(2304, return attention=False)\n",
            ")\n"
          ],
          "name": "stdout"
        }
      ]
    },
    {
      "cell_type": "code",
      "metadata": {
        "id": "zVwyYhQq5LEx",
        "colab_type": "code",
        "colab": {}
      },
      "source": [
        "np.save('deepemoji_embeddings/deepmoji_train_conversation1_vector.npy', train_conversation1_encoding_vector)\n",
        "np.save('deepemoji_embeddings/deepmoji_train_conversation2_vector.npy', train_conversation2_encoding_vector)\n",
        "np.save('deepemoji_embeddings/deepmoji_train_conversation3_vector.npy', train_conversation3_encoding_vector)"
      ],
      "execution_count": 0,
      "outputs": []
    },
    {
      "cell_type": "code",
      "metadata": {
        "id": "9gQT0oKr5v6e",
        "colab_type": "code",
        "colab": {
          "base_uri": "https://localhost:8080/",
          "height": 1000
        },
        "outputId": "7619b3e8-803c-4bb1-b82d-e3091f516605"
      },
      "source": [
        "test_conversation1_encoding_vector = encode_deepmoji(test_conversation1)\n",
        "test_conversation2_encoding_vector = encode_deepmoji(test_conversation2)\n",
        "test_conversation3_encoding_vector = encode_deepmoji(test_conversation3)"
      ],
      "execution_count": 164,
      "outputs": [
        {
          "output_type": "stream",
          "text": [
            "/content/contextual_emotion_detection/torchMoji/torchmoji/model_def.py:159: UserWarning: nn.init.uniform is now deprecated in favor of nn.init.uniform_.\n",
            "  nn.init.uniform(self.embed.weight.data, a=-0.5, b=0.5)\n",
            "/content/contextual_emotion_detection/torchMoji/torchmoji/model_def.py:161: UserWarning: nn.init.xavier_uniform is now deprecated in favor of nn.init.xavier_uniform_.\n",
            "  nn.init.xavier_uniform(t)\n",
            "/content/contextual_emotion_detection/torchMoji/torchmoji/model_def.py:163: UserWarning: nn.init.orthogonal is now deprecated in favor of nn.init.orthogonal_.\n",
            "  nn.init.orthogonal(t)\n",
            "/content/contextual_emotion_detection/torchMoji/torchmoji/model_def.py:165: UserWarning: nn.init.constant is now deprecated in favor of nn.init.constant_.\n",
            "  nn.init.constant(t, 0)\n"
          ],
          "name": "stderr"
        },
        {
          "output_type": "stream",
          "text": [
            "Loading weights for embed.weight\n",
            "Loading weights for lstm_0.weight_ih_l0\n",
            "Loading weights for lstm_0.weight_hh_l0\n",
            "Loading weights for lstm_0.bias_ih_l0\n",
            "Loading weights for lstm_0.bias_hh_l0\n",
            "Loading weights for lstm_0.weight_ih_l0_reverse\n",
            "Loading weights for lstm_0.weight_hh_l0_reverse\n",
            "Loading weights for lstm_0.bias_ih_l0_reverse\n",
            "Loading weights for lstm_0.bias_hh_l0_reverse\n",
            "Loading weights for lstm_1.weight_ih_l0\n",
            "Loading weights for lstm_1.weight_hh_l0\n",
            "Loading weights for lstm_1.bias_ih_l0\n",
            "Loading weights for lstm_1.bias_hh_l0\n",
            "Loading weights for lstm_1.weight_ih_l0_reverse\n",
            "Loading weights for lstm_1.weight_hh_l0_reverse\n",
            "Loading weights for lstm_1.bias_ih_l0_reverse\n",
            "Loading weights for lstm_1.bias_hh_l0_reverse\n",
            "Loading weights for attention_layer.attention_vector\n",
            "Ignoring weights for output_layer.0.weight\n",
            "Ignoring weights for output_layer.0.bias\n",
            "Tokenizing conversation text\n",
            "Make predictions using Pretrained model:  TorchMoji(\n",
            "  (embed): Embedding(50000, 256)\n",
            "  (embed_dropout): Dropout2d(p=0)\n",
            "  (lstm_0): LSTMHardSigmoid(256, 512, batch_first=True, bidirectional=True)\n",
            "  (lstm_1): LSTMHardSigmoid(1024, 512, batch_first=True, bidirectional=True)\n",
            "  (attention_layer): Attention(2304, return attention=False)\n",
            ")\n"
          ],
          "name": "stdout"
        },
        {
          "output_type": "stream",
          "text": [
            "/usr/local/lib/python3.6/dist-packages/torch/nn/functional.py:1320: UserWarning: nn.functional.tanh is deprecated. Use torch.tanh instead.\n",
            "  warnings.warn(\"nn.functional.tanh is deprecated. Use torch.tanh instead.\")\n"
          ],
          "name": "stderr"
        },
        {
          "output_type": "stream",
          "text": [
            "Loading weights for embed.weight\n",
            "Loading weights for lstm_0.weight_ih_l0\n",
            "Loading weights for lstm_0.weight_hh_l0\n",
            "Loading weights for lstm_0.bias_ih_l0\n",
            "Loading weights for lstm_0.bias_hh_l0\n",
            "Loading weights for lstm_0.weight_ih_l0_reverse\n",
            "Loading weights for lstm_0.weight_hh_l0_reverse\n",
            "Loading weights for lstm_0.bias_ih_l0_reverse\n",
            "Loading weights for lstm_0.bias_hh_l0_reverse\n",
            "Loading weights for lstm_1.weight_ih_l0\n",
            "Loading weights for lstm_1.weight_hh_l0\n",
            "Loading weights for lstm_1.bias_ih_l0\n",
            "Loading weights for lstm_1.bias_hh_l0\n",
            "Loading weights for lstm_1.weight_ih_l0_reverse\n",
            "Loading weights for lstm_1.weight_hh_l0_reverse\n",
            "Loading weights for lstm_1.bias_ih_l0_reverse\n",
            "Loading weights for lstm_1.bias_hh_l0_reverse\n",
            "Loading weights for attention_layer.attention_vector\n",
            "Ignoring weights for output_layer.0.weight\n",
            "Ignoring weights for output_layer.0.bias\n",
            "Tokenizing conversation text\n",
            "Make predictions using Pretrained model:  TorchMoji(\n",
            "  (embed): Embedding(50000, 256)\n",
            "  (embed_dropout): Dropout2d(p=0)\n",
            "  (lstm_0): LSTMHardSigmoid(256, 512, batch_first=True, bidirectional=True)\n",
            "  (lstm_1): LSTMHardSigmoid(1024, 512, batch_first=True, bidirectional=True)\n",
            "  (attention_layer): Attention(2304, return attention=False)\n",
            ")\n",
            "Loading weights for embed.weight\n",
            "Loading weights for lstm_0.weight_ih_l0\n",
            "Loading weights for lstm_0.weight_hh_l0\n",
            "Loading weights for lstm_0.bias_ih_l0\n",
            "Loading weights for lstm_0.bias_hh_l0\n",
            "Loading weights for lstm_0.weight_ih_l0_reverse\n",
            "Loading weights for lstm_0.weight_hh_l0_reverse\n",
            "Loading weights for lstm_0.bias_ih_l0_reverse\n",
            "Loading weights for lstm_0.bias_hh_l0_reverse\n",
            "Loading weights for lstm_1.weight_ih_l0\n",
            "Loading weights for lstm_1.weight_hh_l0\n",
            "Loading weights for lstm_1.bias_ih_l0\n",
            "Loading weights for lstm_1.bias_hh_l0\n",
            "Loading weights for lstm_1.weight_ih_l0_reverse\n",
            "Loading weights for lstm_1.weight_hh_l0_reverse\n",
            "Loading weights for lstm_1.bias_ih_l0_reverse\n",
            "Loading weights for lstm_1.bias_hh_l0_reverse\n",
            "Loading weights for attention_layer.attention_vector\n",
            "Ignoring weights for output_layer.0.weight\n",
            "Ignoring weights for output_layer.0.bias\n",
            "Tokenizing conversation text\n",
            "Make predictions using Pretrained model:  TorchMoji(\n",
            "  (embed): Embedding(50000, 256)\n",
            "  (embed_dropout): Dropout2d(p=0)\n",
            "  (lstm_0): LSTMHardSigmoid(256, 512, batch_first=True, bidirectional=True)\n",
            "  (lstm_1): LSTMHardSigmoid(1024, 512, batch_first=True, bidirectional=True)\n",
            "  (attention_layer): Attention(2304, return attention=False)\n",
            ")\n"
          ],
          "name": "stdout"
        }
      ]
    },
    {
      "cell_type": "code",
      "metadata": {
        "id": "b-NOCJ-H6N8X",
        "colab_type": "code",
        "colab": {}
      },
      "source": [
        "np.save('deepemoji_embeddings/deepmoji_test_conversation1', test_conversation1_encoding_vector)\n",
        "np.save('deepemoji_embeddings/deepmoji_test_conversation2', test_conversation2_encoding_vector)\n",
        "np.save('deepemoji_embeddings/deepmoji_test_conversation3', test_conversation3_encoding_vector)"
      ],
      "execution_count": 0,
      "outputs": []
    },
    {
      "cell_type": "code",
      "metadata": {
        "id": "Y3RrLmDu6lWt",
        "colab_type": "code",
        "colab": {}
      },
      "source": [
        "deepmoji_train_all = np.c_[train_conversation1_encoding_vector, train_conversation2_encoding_vector, train_conversation3_encoding_vector]\n",
        "deepmoji_test = np.c_[np.array(test_conversation1_encoding_vector), np.array(test_conversation2_encoding_vector), np.array(test_conversation3_encoding_vector)]"
      ],
      "execution_count": 0,
      "outputs": []
    },
    {
      "cell_type": "code",
      "metadata": {
        "id": "SBc_lFfE66m_",
        "colab_type": "code",
        "colab": {
          "base_uri": "https://localhost:8080/",
          "height": 956
        },
        "outputId": "96f645c9-b690-4e76-b576-efc7d6e4843d"
      },
      "source": [
        "conversation1_emoji = encode_emoji(conversation1)\n",
        "conversation2_emoji = encode_emoji(conversation2)\n",
        "conversation3_emoji = encode_emoji(conversation3)\n",
        "emoji_train_all = np.c_[conversation1_emoji, conversation2_emoji, conversation3_emoji]"
      ],
      "execution_count": 168,
      "outputs": [
        {
          "output_type": "stream",
          "text": [
            "/content/contextual_emotion_detection/torchMoji/torchmoji/model_def.py:159: UserWarning: nn.init.uniform is now deprecated in favor of nn.init.uniform_.\n",
            "  nn.init.uniform(self.embed.weight.data, a=-0.5, b=0.5)\n",
            "/content/contextual_emotion_detection/torchMoji/torchmoji/model_def.py:161: UserWarning: nn.init.xavier_uniform is now deprecated in favor of nn.init.xavier_uniform_.\n",
            "  nn.init.xavier_uniform(t)\n",
            "/content/contextual_emotion_detection/torchMoji/torchmoji/model_def.py:163: UserWarning: nn.init.orthogonal is now deprecated in favor of nn.init.orthogonal_.\n",
            "  nn.init.orthogonal(t)\n",
            "/content/contextual_emotion_detection/torchMoji/torchmoji/model_def.py:165: UserWarning: nn.init.constant is now deprecated in favor of nn.init.constant_.\n",
            "  nn.init.constant(t, 0)\n",
            "/content/contextual_emotion_detection/torchMoji/torchmoji/model_def.py:167: UserWarning: nn.init.xavier_uniform is now deprecated in favor of nn.init.xavier_uniform_.\n",
            "  nn.init.xavier_uniform(self.output_layer[0].weight.data)\n"
          ],
          "name": "stderr"
        },
        {
          "output_type": "stream",
          "text": [
            "Tokenizing conversation text\n",
            "Make predictions using Pretrained model:  TorchMoji(\n",
            "  (embed): Embedding(50000, 256)\n",
            "  (embed_dropout): Dropout2d(p=0)\n",
            "  (lstm_0): LSTMHardSigmoid(256, 512, batch_first=True, bidirectional=True)\n",
            "  (lstm_1): LSTMHardSigmoid(1024, 512, batch_first=True, bidirectional=True)\n",
            "  (attention_layer): Attention(2304, return attention=False)\n",
            "  (final_dropout): Dropout(p=0)\n",
            "  (output_layer): Sequential(\n",
            "    (0): Linear(in_features=2304, out_features=64, bias=True)\n",
            "    (1): Softmax()\n",
            "  )\n",
            ")\n"
          ],
          "name": "stdout"
        },
        {
          "output_type": "stream",
          "text": [
            "/usr/local/lib/python3.6/dist-packages/torch/nn/functional.py:1320: UserWarning: nn.functional.tanh is deprecated. Use torch.tanh instead.\n",
            "  warnings.warn(\"nn.functional.tanh is deprecated. Use torch.tanh instead.\")\n",
            "/usr/local/lib/python3.6/dist-packages/torch/nn/modules/container.py:92: UserWarning: Implicit dimension choice for softmax has been deprecated. Change the call to include dim=X as an argument.\n",
            "  input = module(input)\n"
          ],
          "name": "stderr"
        },
        {
          "output_type": "stream",
          "text": [
            "Tokenizing conversation text\n",
            "Make predictions using Pretrained model:  TorchMoji(\n",
            "  (embed): Embedding(50000, 256)\n",
            "  (embed_dropout): Dropout2d(p=0)\n",
            "  (lstm_0): LSTMHardSigmoid(256, 512, batch_first=True, bidirectional=True)\n",
            "  (lstm_1): LSTMHardSigmoid(1024, 512, batch_first=True, bidirectional=True)\n",
            "  (attention_layer): Attention(2304, return attention=False)\n",
            "  (final_dropout): Dropout(p=0)\n",
            "  (output_layer): Sequential(\n",
            "    (0): Linear(in_features=2304, out_features=64, bias=True)\n",
            "    (1): Softmax()\n",
            "  )\n",
            ")\n",
            "Tokenizing conversation text\n",
            "Make predictions using Pretrained model:  TorchMoji(\n",
            "  (embed): Embedding(50000, 256)\n",
            "  (embed_dropout): Dropout2d(p=0)\n",
            "  (lstm_0): LSTMHardSigmoid(256, 512, batch_first=True, bidirectional=True)\n",
            "  (lstm_1): LSTMHardSigmoid(1024, 512, batch_first=True, bidirectional=True)\n",
            "  (attention_layer): Attention(2304, return attention=False)\n",
            "  (final_dropout): Dropout(p=0)\n",
            "  (output_layer): Sequential(\n",
            "    (0): Linear(in_features=2304, out_features=64, bias=True)\n",
            "    (1): Softmax()\n",
            "  )\n",
            ")\n"
          ],
          "name": "stdout"
        }
      ]
    },
    {
      "cell_type": "code",
      "metadata": {
        "id": "qIATi_BD7M5d",
        "colab_type": "code",
        "colab": {
          "base_uri": "https://localhost:8080/",
          "height": 956
        },
        "outputId": "53632feb-16ad-4299-b502-c27ce27cc8fe"
      },
      "source": [
        "test_conversation1_emoji_encoding_vector = encode_emoji(test_conversation1)\n",
        "test_conversation2_emoji_encoding_vector = encode_emoji(test_conversation2)\n",
        "test_conversation3_emoji_encoding_vector = encode_emoji(test_conversation3)\n",
        "emoji_test = np.c_[test_conversation1_emoji_encoding_vector, test_conversation2_emoji_encoding_vector, test_conversation3_emoji_encoding_vector]"
      ],
      "execution_count": 169,
      "outputs": [
        {
          "output_type": "stream",
          "text": [
            "/content/contextual_emotion_detection/torchMoji/torchmoji/model_def.py:159: UserWarning: nn.init.uniform is now deprecated in favor of nn.init.uniform_.\n",
            "  nn.init.uniform(self.embed.weight.data, a=-0.5, b=0.5)\n",
            "/content/contextual_emotion_detection/torchMoji/torchmoji/model_def.py:161: UserWarning: nn.init.xavier_uniform is now deprecated in favor of nn.init.xavier_uniform_.\n",
            "  nn.init.xavier_uniform(t)\n",
            "/content/contextual_emotion_detection/torchMoji/torchmoji/model_def.py:163: UserWarning: nn.init.orthogonal is now deprecated in favor of nn.init.orthogonal_.\n",
            "  nn.init.orthogonal(t)\n",
            "/content/contextual_emotion_detection/torchMoji/torchmoji/model_def.py:165: UserWarning: nn.init.constant is now deprecated in favor of nn.init.constant_.\n",
            "  nn.init.constant(t, 0)\n",
            "/content/contextual_emotion_detection/torchMoji/torchmoji/model_def.py:167: UserWarning: nn.init.xavier_uniform is now deprecated in favor of nn.init.xavier_uniform_.\n",
            "  nn.init.xavier_uniform(self.output_layer[0].weight.data)\n"
          ],
          "name": "stderr"
        },
        {
          "output_type": "stream",
          "text": [
            "Tokenizing conversation text\n",
            "Make predictions using Pretrained model:  TorchMoji(\n",
            "  (embed): Embedding(50000, 256)\n",
            "  (embed_dropout): Dropout2d(p=0)\n",
            "  (lstm_0): LSTMHardSigmoid(256, 512, batch_first=True, bidirectional=True)\n",
            "  (lstm_1): LSTMHardSigmoid(1024, 512, batch_first=True, bidirectional=True)\n",
            "  (attention_layer): Attention(2304, return attention=False)\n",
            "  (final_dropout): Dropout(p=0)\n",
            "  (output_layer): Sequential(\n",
            "    (0): Linear(in_features=2304, out_features=64, bias=True)\n",
            "    (1): Softmax()\n",
            "  )\n",
            ")\n"
          ],
          "name": "stdout"
        },
        {
          "output_type": "stream",
          "text": [
            "/usr/local/lib/python3.6/dist-packages/torch/nn/functional.py:1320: UserWarning: nn.functional.tanh is deprecated. Use torch.tanh instead.\n",
            "  warnings.warn(\"nn.functional.tanh is deprecated. Use torch.tanh instead.\")\n",
            "/usr/local/lib/python3.6/dist-packages/torch/nn/modules/container.py:92: UserWarning: Implicit dimension choice for softmax has been deprecated. Change the call to include dim=X as an argument.\n",
            "  input = module(input)\n"
          ],
          "name": "stderr"
        },
        {
          "output_type": "stream",
          "text": [
            "Tokenizing conversation text\n",
            "Make predictions using Pretrained model:  TorchMoji(\n",
            "  (embed): Embedding(50000, 256)\n",
            "  (embed_dropout): Dropout2d(p=0)\n",
            "  (lstm_0): LSTMHardSigmoid(256, 512, batch_first=True, bidirectional=True)\n",
            "  (lstm_1): LSTMHardSigmoid(1024, 512, batch_first=True, bidirectional=True)\n",
            "  (attention_layer): Attention(2304, return attention=False)\n",
            "  (final_dropout): Dropout(p=0)\n",
            "  (output_layer): Sequential(\n",
            "    (0): Linear(in_features=2304, out_features=64, bias=True)\n",
            "    (1): Softmax()\n",
            "  )\n",
            ")\n",
            "Tokenizing conversation text\n",
            "Make predictions using Pretrained model:  TorchMoji(\n",
            "  (embed): Embedding(50000, 256)\n",
            "  (embed_dropout): Dropout2d(p=0)\n",
            "  (lstm_0): LSTMHardSigmoid(256, 512, batch_first=True, bidirectional=True)\n",
            "  (lstm_1): LSTMHardSigmoid(1024, 512, batch_first=True, bidirectional=True)\n",
            "  (attention_layer): Attention(2304, return attention=False)\n",
            "  (final_dropout): Dropout(p=0)\n",
            "  (output_layer): Sequential(\n",
            "    (0): Linear(in_features=2304, out_features=64, bias=True)\n",
            "    (1): Softmax()\n",
            "  )\n",
            ")\n"
          ],
          "name": "stdout"
        }
      ]
    },
    {
      "cell_type": "markdown",
      "metadata": {
        "id": "si_GsYdX7vtF",
        "colab_type": "text"
      },
      "source": [
        "#### Bar Graphs"
      ]
    },
    {
      "cell_type": "code",
      "metadata": {
        "id": "fBqA3LdB7xjA",
        "colab_type": "code",
        "colab": {}
      },
      "source": [
        "categories, category_counts = np.unique(label, return_counts=True)"
      ],
      "execution_count": 0,
      "outputs": []
    },
    {
      "cell_type": "code",
      "metadata": {
        "id": "A-R4ky3N75_K",
        "colab_type": "code",
        "colab": {}
      },
      "source": [
        "tokens = [v for k,v in label_to_emotion.items()]"
      ],
      "execution_count": 0,
      "outputs": []
    },
    {
      "cell_type": "code",
      "metadata": {
        "id": "VPUrNf0479JE",
        "colab_type": "code",
        "colab": {
          "base_uri": "https://localhost:8080/",
          "height": 283
        },
        "outputId": "f4edcea3-f830-4aae-d89e-db19214ac9f5"
      },
      "source": [
        "plt.bar(categories, category_counts, tick_label = tokens, align = 'center', color = ['#2AD2D6', '#4CB97A', '#F6CC55', '#DF4F40'])"
      ],
      "execution_count": 178,
      "outputs": [
        {
          "output_type": "execute_result",
          "data": {
            "text/plain": [
              "<BarContainer object of 4 artists>"
            ]
          },
          "metadata": {
            "tags": []
          },
          "execution_count": 178
        },
        {
          "output_type": "display_data",
          "data": {
            "image/png": "[encoded data removed]",
            "text/plain": [
              "<Figure size 432x288 with 1 Axes>"
            ]
          },
          "metadata": {
            "tags": []
          }
        }
      ]
    },
    {
      "cell_type": "code",
      "metadata": {
        "id": "npkPp-7D8Bn3",
        "colab_type": "code",
        "colab": {
          "base_uri": "https://localhost:8080/",
          "height": 35
        },
        "outputId": "56adff7d-d8dc-4bad-fc95-d1b1ea211705"
      },
      "source": [
        "category_counts"
      ],
      "execution_count": 173,
      "outputs": [
        {
          "output_type": "execute_result",
          "data": {
            "text/plain": [
              "array([14948,  4243,  5463,  5506])"
            ]
          },
          "metadata": {
            "tags": []
          },
          "execution_count": 173
        }
      ]
    },
    {
      "cell_type": "code",
      "metadata": {
        "id": "AMCeHcWQ8DyP",
        "colab_type": "code",
        "colab": {}
      },
      "source": [
        "label = np.array(label)\n",
        "others_indices = np.where(label == 0)[0]"
      ],
      "execution_count": 0,
      "outputs": []
    },
    {
      "cell_type": "code",
      "metadata": {
        "id": "rQcTW_0Y-Gti",
        "colab_type": "code",
        "colab": {}
      },
      "source": [
        "# Remedy imbalance in the training dataset\n",
        "indices = np.r_[np.random.choice(others_indices, 6000), np.where(label == 1)[0], np.where(label == 2)[0], np.where(label == 3)[0]]"
      ],
      "execution_count": 0,
      "outputs": []
    },
    {
      "cell_type": "code",
      "metadata": {
        "id": "qh4YC3TwABZ0",
        "colab_type": "code",
        "colab": {
          "base_uri": "https://localhost:8080/",
          "height": 35
        },
        "outputId": "4f8bf515-ea2b-46b5-b461-a4f71bb7779a"
      },
      "source": [
        "indices.shape"
      ],
      "execution_count": 200,
      "outputs": [
        {
          "output_type": "execute_result",
          "data": {
            "text/plain": [
              "(21212,)"
            ]
          },
          "metadata": {
            "tags": []
          },
          "execution_count": 200
        }
      ]
    },
    {
      "cell_type": "code",
      "metadata": {
        "id": "uHxwI-QY-R0H",
        "colab_type": "code",
        "colab": {}
      },
      "source": [
        "deepmoji_train = deepmoji_train_all[indices]\n",
        "emoji_train = emoji_train_all[indices]\n",
        "label_train = label[indices]"
      ],
      "execution_count": 0,
      "outputs": []
    },
    {
      "cell_type": "code",
      "metadata": {
        "id": "9Cqc-Vq2-ZhS",
        "colab_type": "code",
        "colab": {
          "base_uri": "https://localhost:8080/",
          "height": 283
        },
        "outputId": "0e0f289d-205f-415f-87cc-95fd15694408"
      },
      "source": [
        "categories_train, category_counts_train = np.unique(label_train, return_counts = True)\n",
        "plt.bar(categories_train, category_counts_train, tick_label = tokens,align = 'center', color = ['#2AD2D6', '#4CB97A', '#F6CC55', '#DF4F40'])"
      ],
      "execution_count": 202,
      "outputs": [
        {
          "output_type": "execute_result",
          "data": {
            "text/plain": [
              "<BarContainer object of 4 artists>"
            ]
          },
          "metadata": {
            "tags": []
          },
          "execution_count": 202
        },
        {
          "output_type": "display_data",
          "data": {
            "image/png": "[encoded data removed]",
            "text/plain": [
              "<Figure size 432x288 with 1 Axes>"
            ]
          },
          "metadata": {
            "tags": []
          }
        }
      ]
    },
    {
      "cell_type": "code",
      "metadata": {
        "id": "vxYCfsp2-4ML",
        "colab_type": "code",
        "colab": {
          "base_uri": "https://localhost:8080/",
          "height": 35
        },
        "outputId": "cafdcd75-616f-4cba-d863-d067deb81f5e"
      },
      "source": [
        "category_counts_train"
      ],
      "execution_count": 206,
      "outputs": [
        {
          "output_type": "execute_result",
          "data": {
            "text/plain": [
              "array([6000, 4243, 5463, 5506])"
            ]
          },
          "metadata": {
            "tags": []
          },
          "execution_count": 206
        }
      ]
    },
    {
      "cell_type": "code",
      "metadata": {
        "id": "S-kco0d3AbPT",
        "colab_type": "code",
        "colab": {}
      },
      "source": [
        "categories_test, category_counts_test = np.unique(test_label, return_counts = True)"
      ],
      "execution_count": 0,
      "outputs": []
    },
    {
      "cell_type": "code",
      "metadata": {
        "id": "mInkyJWeCPSI",
        "colab_type": "code",
        "colab": {
          "base_uri": "https://localhost:8080/",
          "height": 283
        },
        "outputId": "638b78ec-e338-4b45-dc41-8113538fe971"
      },
      "source": [
        "plt.bar(categories_test, category_counts_test, tick_label = tokens,align = 'center',\n",
        "        color = ['#2AD2D6', '#4CB97A', '#F6CC55', '#DF4F40'])"
      ],
      "execution_count": 208,
      "outputs": [
        {
          "output_type": "execute_result",
          "data": {
            "text/plain": [
              "<BarContainer object of 4 artists>"
            ]
          },
          "metadata": {
            "tags": []
          },
          "execution_count": 208
        },
        {
          "output_type": "display_data",
          "data": {
            "image/png": "[encoded data removed]",
            "text/plain": [
              "<Figure size 432x288 with 1 Axes>"
            ]
          },
          "metadata": {
            "tags": []
          }
        }
      ]
    },
    {
      "cell_type": "code",
      "metadata": {
        "id": "3UvIm9bZCd8_",
        "colab_type": "code",
        "colab": {
          "base_uri": "https://localhost:8080/",
          "height": 35
        },
        "outputId": "b72a0a95-362e-47f1-8e53-18d4cf807571"
      },
      "source": [
        "# Real life data is highly skewed\n",
        "category_counts_test"
      ],
      "execution_count": 211,
      "outputs": [
        {
          "output_type": "execute_result",
          "data": {
            "text/plain": [
              "array([4677,  284,  250,  298])"
            ]
          },
          "metadata": {
            "tags": []
          },
          "execution_count": 211
        }
      ]
    },
    {
      "cell_type": "code",
      "metadata": {
        "id": "lIA83XY2JMiX",
        "colab_type": "code",
        "colab": {}
      },
      "source": [
        "def print_metrics(prediction):\n",
        "    print(metrics.classification_report(test_label, prediction, target_names = tokens))\n",
        "    print(\"Accuracy:\", metrics.accuracy_score(test_label, prediction))\n",
        "    print(\"Precision:\", metrics.precision_score(test_label, prediction, average = 'macro'))\n",
        "    print(\"Recall:\", metrics.recall_score(test_label, prediction, average = 'macro'))\n",
        "    print(\"F1 score: \", metrics.f1_score(test_label, prediction, average = 'macro'))"
      ],
      "execution_count": 0,
      "outputs": []
    },
    {
      "cell_type": "markdown",
      "metadata": {
        "id": "oPtbA2k8DAoh",
        "colab_type": "text"
      },
      "source": [
        "#### Logistic Regression"
      ]
    },
    {
      "cell_type": "code",
      "metadata": {
        "id": "2ko5_yN4ChJF",
        "colab_type": "code",
        "colab": {
          "base_uri": "https://localhost:8080/",
          "height": 107
        },
        "outputId": "436dffdf-291f-4d1d-e87c-45ae07e075c9"
      },
      "source": [
        "logistic_regression = Pipeline(\n",
        "    [('scaler', MinMaxScaler()), \n",
        "     ('clf', LogisticRegression(random_state = 0))])\n",
        "logistic_regression.fit(deepmoji_train, label_train)\n",
        "logistic_regression_predictions = logistic_regression.predict(deepmoji_test)"
      ],
      "execution_count": 225,
      "outputs": [
        {
          "output_type": "stream",
          "text": [
            "/usr/local/lib/python3.6/dist-packages/sklearn/linear_model/logistic.py:432: FutureWarning: Default solver will be changed to 'lbfgs' in 0.22. Specify a solver to silence this warning.\n",
            "  FutureWarning)\n",
            "/usr/local/lib/python3.6/dist-packages/sklearn/linear_model/logistic.py:469: FutureWarning: Default multi_class will be changed to 'auto' in 0.22. Specify the multi_class option to silence this warning.\n",
            "  \"this warning.\", FutureWarning)\n"
          ],
          "name": "stderr"
        }
      ]
    },
    {
      "cell_type": "code",
      "metadata": {
        "id": "MLD7cHnEMknH",
        "colab_type": "code",
        "colab": {
          "base_uri": "https://localhost:8080/",
          "height": 663
        },
        "outputId": "935b41a1-55e9-48bf-9ebd-96e8782bab5a"
      },
      "source": [
        "print_metrics(logistic_regression_predictions)\n",
        "plot_confusion_matrix(metrics.confusion_matrix(test_label, logistic_regression_predictions), tokens)\n",
        "plt.show()\n",
        "metrics.confusion_matrix(test_label, logistic_regression_predictions)"
      ],
      "execution_count": 227,
      "outputs": [
        {
          "output_type": "stream",
          "text": [
            "              precision    recall  f1-score   support\n",
            "\n",
            "      others       0.98      0.82      0.89      4677\n",
            "       happy       0.40      0.76      0.52       284\n",
            "         sad       0.47      0.79      0.59       250\n",
            "       angry       0.44      0.89      0.59       298\n",
            "\n",
            "    accuracy                           0.82      5509\n",
            "   macro avg       0.57      0.81      0.65      5509\n",
            "weighted avg       0.89      0.82      0.84      5509\n",
            "\n",
            "Accuracy: 0.8231984026139045\n",
            "Precision: 0.5724683524656099\n",
            "Recall: 0.8149590105865876\n",
            "F1 score:  0.6497303835150428\n"
          ],
          "name": "stdout"
        },
        {
          "output_type": "display_data",
          "data": {
            "image/png": "[encoded data removed]",
            "text/plain": [
              "<Figure size 360x360 with 2 Axes>"
            ]
          },
          "metadata": {
            "tags": []
          }
        },
        {
          "output_type": "execute_result",
          "data": {
            "text/plain": [
              "array([[3858,  314,  199,  306],\n",
              "       [  49,  215,   10,   10],\n",
              "       [  28,    9,  198,   15],\n",
              "       [  20,    2,   12,  264]])"
            ]
          },
          "metadata": {
            "tags": []
          },
          "execution_count": 227
        }
      ]
    },
    {
      "cell_type": "code",
      "metadata": {
        "id": "mvc0RRU2DJSS",
        "colab_type": "code",
        "colab": {
          "base_uri": "https://localhost:8080/",
          "height": 752
        },
        "outputId": "f7ca5086-7cbf-488c-a0cc-f70791a9b420"
      },
      "source": [
        "logistic_regression = LogisticRegression(random_state = 0)\n",
        "logistic_regression.fit(deepmoji_train, label_train)\n",
        "logistic_regression_predictions = logistic_regression.predict(deepmoji_test)\n",
        "print_metrics(logistic_regression_predictions)\n",
        "plot_confusion_matrix(metrics.confusion_matrix(test_label, logistic_regression_predictions), tokens)\n",
        "plt.show()\n",
        "metrics.confusion_matrix(test_label, logistic_regression_predictions)"
      ],
      "execution_count": 228,
      "outputs": [
        {
          "output_type": "stream",
          "text": [
            "/usr/local/lib/python3.6/dist-packages/sklearn/linear_model/logistic.py:432: FutureWarning: Default solver will be changed to 'lbfgs' in 0.22. Specify a solver to silence this warning.\n",
            "  FutureWarning)\n",
            "/usr/local/lib/python3.6/dist-packages/sklearn/linear_model/logistic.py:469: FutureWarning: Default multi_class will be changed to 'auto' in 0.22. Specify the multi_class option to silence this warning.\n",
            "  \"this warning.\", FutureWarning)\n"
          ],
          "name": "stderr"
        },
        {
          "output_type": "stream",
          "text": [
            "              precision    recall  f1-score   support\n",
            "\n",
            "      others       0.98      0.83      0.90      4677\n",
            "       happy       0.40      0.75      0.52       284\n",
            "         sad       0.49      0.78      0.60       250\n",
            "       angry       0.45      0.90      0.59       298\n",
            "\n",
            "    accuracy                           0.83      5509\n",
            "   macro avg       0.58      0.82      0.66      5509\n",
            "weighted avg       0.90      0.83      0.85      5509\n",
            "\n",
            "Accuracy: 0.8280994735886731\n",
            "Precision: 0.5786489983566099\n",
            "Recall: 0.8160387402615017\n",
            "F1 score:  0.6550948664201978\n"
          ],
          "name": "stdout"
        },
        {
          "output_type": "display_data",
          "data": {
            "image/png": "[encoded data removed]",
            "text/plain": [
              "<Figure size 360x360 with 2 Axes>"
            ]
          },
          "metadata": {
            "tags": []
          }
        },
        {
          "output_type": "execute_result",
          "data": {
            "text/plain": [
              "array([[3885,  305,  183,  304],\n",
              "       [  49,  214,   10,   11],\n",
              "       [  26,   10,  196,   18],\n",
              "       [  17,    4,   10,  267]])"
            ]
          },
          "metadata": {
            "tags": []
          },
          "execution_count": 228
        }
      ]
    },
    {
      "cell_type": "code",
      "metadata": {
        "id": "0TicfZemDL8G",
        "colab_type": "code",
        "colab": {
          "base_uri": "https://localhost:8080/",
          "height": 752
        },
        "outputId": "8bf7fab4-9475-4498-871b-5ded6f33585b"
      },
      "source": [
        "logistic_regression = LogisticRegression(random_state = 0)\n",
        "logistic_regression.fit(emoji_train, label_train)\n",
        "logistic_regression_predictions = logistic_regression.predict(emoji_test)\n",
        "print_metrics(logistic_regression_predictions)\n",
        "plot_confusion_matrix(metrics.confusion_matrix(test_label, logistic_regression_predictions), tokens)\n",
        "plt.show()\n",
        "metrics.confusion_matrix(test_label, logistic_regression_predictions)"
      ],
      "execution_count": 229,
      "outputs": [
        {
          "output_type": "stream",
          "text": [
            "/usr/local/lib/python3.6/dist-packages/sklearn/linear_model/logistic.py:432: FutureWarning: Default solver will be changed to 'lbfgs' in 0.22. Specify a solver to silence this warning.\n",
            "  FutureWarning)\n",
            "/usr/local/lib/python3.6/dist-packages/sklearn/linear_model/logistic.py:469: FutureWarning: Default multi_class will be changed to 'auto' in 0.22. Specify the multi_class option to silence this warning.\n",
            "  \"this warning.\", FutureWarning)\n"
          ],
          "name": "stderr"
        },
        {
          "output_type": "stream",
          "text": [
            "              precision    recall  f1-score   support\n",
            "\n",
            "      others       0.96      0.69      0.80      4677\n",
            "       happy       0.23      0.67      0.34       284\n",
            "         sad       0.28      0.68      0.40       250\n",
            "       angry       0.33      0.81      0.46       298\n",
            "\n",
            "    accuracy                           0.69      5509\n",
            "   macro avg       0.45      0.71      0.50      5509\n",
            "weighted avg       0.86      0.69      0.74      5509\n",
            "\n",
            "Accuracy: 0.6923216554728626\n",
            "Precision: 0.44962206423630036\n",
            "Recall: 0.710513682530268\n",
            "F1 score:  0.5017506907287484\n"
          ],
          "name": "stdout"
        },
        {
          "output_type": "display_data",
          "data": {
            "image/png": "[encoded data removed]",
            "text/plain": [
              "<Figure size 360x360 with 2 Axes>"
            ]
          },
          "metadata": {
            "tags": []
          }
        },
        {
          "output_type": "execute_result",
          "data": {
            "text/plain": [
              "array([[3214,  598,  400,  465],\n",
              "       [  69,  189,   15,   11],\n",
              "       [  40,   18,  171,   21],\n",
              "       [  25,   11,   22,  240]])"
            ]
          },
          "metadata": {
            "tags": []
          },
          "execution_count": 229
        }
      ]
    },
    {
      "cell_type": "markdown",
      "metadata": {
        "id": "BGGlpp15DPSN",
        "colab_type": "text"
      },
      "source": [
        "#### Naive Bayes"
      ]
    },
    {
      "cell_type": "code",
      "metadata": {
        "id": "Vj2IZX2oDQOt",
        "colab_type": "code",
        "colab": {
          "base_uri": "https://localhost:8080/",
          "height": 663
        },
        "outputId": "d5be8145-5545-4ccf-842f-37f0a589e97a"
      },
      "source": [
        "naive_bayes = Pipeline([('scaler', MinMaxScaler()), ('clf', MultinomialNB())])\n",
        "naive_bayes.fit(deepmoji_train, label_train)\n",
        "naive_bayes_predictions = naive_bayes.predict(deepmoji_test)\n",
        "print_metrics(naive_bayes_predictions)\n",
        "plot_confusion_matrix(metrics.confusion_matrix(test_label, naive_bayes_predictions), tokens)\n",
        "plt.show()\n",
        "metrics.confusion_matrix(test_label, naive_bayes_predictions)"
      ],
      "execution_count": 230,
      "outputs": [
        {
          "output_type": "stream",
          "text": [
            "              precision    recall  f1-score   support\n",
            "\n",
            "      others       0.97      0.74      0.84      4677\n",
            "       happy       0.25      0.71      0.36       284\n",
            "         sad       0.35      0.68      0.46       250\n",
            "       angry       0.39      0.82      0.53       298\n",
            "\n",
            "    accuracy                           0.74      5509\n",
            "   macro avg       0.49      0.73      0.55      5509\n",
            "weighted avg       0.87      0.74      0.78      5509\n",
            "\n",
            "Accuracy: 0.7380649845707025\n",
            "Precision: 0.4864818697680407\n",
            "Recall: 0.7343691246367096\n",
            "F1 score:  0.5463767736644041\n"
          ],
          "name": "stdout"
        },
        {
          "output_type": "display_data",
          "data": {
            "image/png": "[encoded data removed]",
            "text/plain": [
              "<Figure size 360x360 with 2 Axes>"
            ]
          },
          "metadata": {
            "tags": []
          }
        },
        {
          "output_type": "execute_result",
          "data": {
            "text/plain": [
              "array([[3453,  577,  288,  359],\n",
              "       [  68,  201,   12,    3],\n",
              "       [  30,   30,  169,   21],\n",
              "       [  25,   12,   18,  243]])"
            ]
          },
          "metadata": {
            "tags": []
          },
          "execution_count": 230
        }
      ]
    },
    {
      "cell_type": "code",
      "metadata": {
        "id": "hxQQHxx4DTFd",
        "colab_type": "code",
        "colab": {}
      },
      "source": [
        "naive_bayes = Pipeline([('clf', MultinomialNB())])\n",
        "naive_bayes.fit(emoji_train, label_train)\n",
        "naive_bayes_predictions = naive_bayes.predict(emoji_test)\n",
        "print_metrics(emoji_test, naive_bayes_predictions)\n",
        "plot_confusion_matrix(metrics.confusion_matrix(emoji_test, naive_bayes_predictions), tokens)\n",
        "plt.show()\n",
        "metrics.confusion_matrix(emoji_test, naive_bayes_predictions)"
      ],
      "execution_count": 0,
      "outputs": []
    },
    {
      "cell_type": "markdown",
      "metadata": {
        "id": "V2O-oi2mDV5J",
        "colab_type": "text"
      },
      "source": [
        "#### SVM One vs One"
      ]
    },
    {
      "cell_type": "code",
      "metadata": {
        "id": "Fhg1EQm6DXFq",
        "colab_type": "code",
        "colab": {
          "base_uri": "https://localhost:8080/",
          "height": 663
        },
        "outputId": "509da4ce-afa6-4adf-fdce-d8818a4d5b3e"
      },
      "source": [
        "svm_one_vs_one = svm.SVC(decision_function_shape = 'ovo', kernel = 'linear', C = 100)\n",
        "svm_one_vs_one.fit(emoji_train, label_train)\n",
        "svm_one_vs_one_predictions = svm_one_vs_one.predict(emoji_test)\n",
        "print_metrics(svm_one_vs_one_predictions)\n",
        "plot_confusion_matrix(metrics.confusion_matrix(test_label, svm_one_vs_one_predictions), tokens)\n",
        "plt.show()\n",
        "metrics.confusion_matrix(test_label, svm_one_vs_one_predictions)"
      ],
      "execution_count": 231,
      "outputs": [
        {
          "output_type": "stream",
          "text": [
            "              precision    recall  f1-score   support\n",
            "\n",
            "      others       0.96      0.74      0.83      4677\n",
            "       happy       0.28      0.70      0.40       284\n",
            "         sad       0.33      0.72      0.45       250\n",
            "       angry       0.35      0.82      0.49       298\n",
            "\n",
            "    accuracy                           0.74      5509\n",
            "   macro avg       0.48      0.74      0.55      5509\n",
            "weighted avg       0.87      0.74      0.78      5509\n",
            "\n",
            "Accuracy: 0.7373388999818479\n",
            "Precision: 0.48245429749053453\n",
            "Recall: 0.7435794261661798\n",
            "F1 score:  0.5457315113723326\n"
          ],
          "name": "stdout"
        },
        {
          "output_type": "display_data",
          "data": {
            "image/png": "[encoded data removed]",
            "text/plain": [
              "<Figure size 360x360 with 2 Axes>"
            ]
          },
          "metadata": {
            "tags": []
          }
        },
        {
          "output_type": "execute_result",
          "data": {
            "text/plain": [
              "array([[3439,  485,  323,  430],\n",
              "       [  66,  200,   11,    7],\n",
              "       [  40,   14,  179,   17],\n",
              "       [  23,    6,   25,  244]])"
            ]
          },
          "metadata": {
            "tags": []
          },
          "execution_count": 231
        }
      ]
    },
    {
      "cell_type": "code",
      "metadata": {
        "id": "oZHuEdtDDaFN",
        "colab_type": "code",
        "colab": {
          "base_uri": "https://localhost:8080/",
          "height": 663
        },
        "outputId": "175b0dad-30a0-4bf9-fd6e-8361ad7fd7e4"
      },
      "source": [
        "svm_one_vs_one = svm.SVC(decision_function_shape = 'ovo', kernel = 'linear', C = 100)\n",
        "svm_one_vs_one.fit(emoji_train_all, label)\n",
        "svm_one_vs_one_predictions =svm_one_vs_one.predict(emoji_test)\n",
        "print_metrics(svm_one_vs_one_predictions)\n",
        "plot_confusion_matrix(metrics.confusion_matrix(test_label, svm_one_vs_one_predictions), tokens)\n",
        "plt.show()\n",
        "metrics.confusion_matrix(test_label, svm_one_vs_one_predictions)"
      ],
      "execution_count": 232,
      "outputs": [
        {
          "output_type": "stream",
          "text": [
            "              precision    recall  f1-score   support\n",
            "\n",
            "      others       0.94      0.88      0.91      4677\n",
            "       happy       0.46      0.52      0.49       284\n",
            "         sad       0.44      0.63      0.52       250\n",
            "       angry       0.49      0.77      0.60       298\n",
            "\n",
            "    accuracy                           0.84      5509\n",
            "   macro avg       0.58      0.70      0.63      5509\n",
            "weighted avg       0.87      0.84      0.85      5509\n",
            "\n",
            "Accuracy: 0.843710292249047\n",
            "Precision: 0.5824901025336231\n",
            "Recall: 0.6984748780785991\n",
            "F1 score:  0.6277461011674498\n"
          ],
          "name": "stdout"
        },
        {
          "output_type": "display_data",
          "data": {
            "image/png": "[encoded data removed]",
            "text/plain": [
              "<Figure size 360x360 with 2 Axes>"
            ]
          },
          "metadata": {
            "tags": []
          }
        },
        {
          "output_type": "execute_result",
          "data": {
            "text/plain": [
              "array([[4115,  164,  173,  225],\n",
              "       [ 127,  147,    6,    4],\n",
              "       [  74,    6,  157,   13],\n",
              "       [  46,    3,   20,  229]])"
            ]
          },
          "metadata": {
            "tags": []
          },
          "execution_count": 232
        }
      ]
    },
    {
      "cell_type": "markdown",
      "metadata": {
        "id": "CD31v3erDeMc",
        "colab_type": "text"
      },
      "source": [
        "#### SVM One vs Rest"
      ]
    },
    {
      "cell_type": "code",
      "metadata": {
        "id": "u9A8RS18DcpP",
        "colab_type": "code",
        "colab": {
          "base_uri": "https://localhost:8080/",
          "height": 663
        },
        "outputId": "ce82603a-68d8-4cc5-9b19-8e4df40e99b0"
      },
      "source": [
        "svm_one_vs_rest = svm.SVC(decision_function_shape = 'ovr', kernel = 'linear', C = 100)\n",
        "svm_one_vs_rest.fit(emoji_train, label_train)\n",
        "svm_one_vs_rest_predictions = svm_one_vs_rest.predict(emoji_test)\n",
        "print_metrics(svm_one_vs_rest_predictions)\n",
        "plot_confusion_matrix(metrics.confusion_matrix(test_label, svm_one_vs_rest_predictions), tokens)\n",
        "plt.show()\n",
        "metrics.confusion_matrix(test_label, svm_one_vs_rest_predictions)"
      ],
      "execution_count": 233,
      "outputs": [
        {
          "output_type": "stream",
          "text": [
            "              precision    recall  f1-score   support\n",
            "\n",
            "      others       0.96      0.74      0.83      4677\n",
            "       happy       0.28      0.70      0.40       284\n",
            "         sad       0.33      0.72      0.45       250\n",
            "       angry       0.35      0.82      0.49       298\n",
            "\n",
            "    accuracy                           0.74      5509\n",
            "   macro avg       0.48      0.74      0.55      5509\n",
            "weighted avg       0.87      0.74      0.78      5509\n",
            "\n",
            "Accuracy: 0.7373388999818479\n",
            "Precision: 0.48245429749053453\n",
            "Recall: 0.7435794261661798\n",
            "F1 score:  0.5457315113723326\n"
          ],
          "name": "stdout"
        },
        {
          "output_type": "display_data",
          "data": {
            "image/png": "[encoded data removed]",
            "text/plain": [
              "<Figure size 360x360 with 2 Axes>"
            ]
          },
          "metadata": {
            "tags": []
          }
        },
        {
          "output_type": "execute_result",
          "data": {
            "text/plain": [
              "array([[3439,  485,  323,  430],\n",
              "       [  66,  200,   11,    7],\n",
              "       [  40,   14,  179,   17],\n",
              "       [  23,    6,   25,  244]])"
            ]
          },
          "metadata": {
            "tags": []
          },
          "execution_count": 233
        }
      ]
    },
    {
      "cell_type": "code",
      "metadata": {
        "id": "yXXObd3nDi_K",
        "colab_type": "code",
        "colab": {
          "base_uri": "https://localhost:8080/",
          "height": 663
        },
        "outputId": "7aa99931-2ed0-484e-b2d3-e76de7ffd6f4"
      },
      "source": [
        "svm_one_vs_rest = svm.SVC(decision_function_shape = 'ovr', kernel = 'linear', C = 100)\n",
        "svm_one_vs_rest.fit(emoji_train_all, label)\n",
        "svm_one_vs_rest_predictions = svm_one_vs_rest.predict(emoji_test)\n",
        "print_metrics(svm_one_vs_rest_predictions)\n",
        "plot_confusion_matrix(metrics.confusion_matrix(test_label, svm_one_vs_rest_predictions), tokens)\n",
        "plt.show()\n",
        "metrics.confusion_matrix(test_label, svm_one_vs_rest_predictions)"
      ],
      "execution_count": 234,
      "outputs": [
        {
          "output_type": "stream",
          "text": [
            "              precision    recall  f1-score   support\n",
            "\n",
            "      others       0.94      0.88      0.91      4677\n",
            "       happy       0.46      0.52      0.49       284\n",
            "         sad       0.44      0.63      0.52       250\n",
            "       angry       0.49      0.77      0.60       298\n",
            "\n",
            "    accuracy                           0.84      5509\n",
            "   macro avg       0.58      0.70      0.63      5509\n",
            "weighted avg       0.87      0.84      0.85      5509\n",
            "\n",
            "Accuracy: 0.843710292249047\n",
            "Precision: 0.5824901025336231\n",
            "Recall: 0.6984748780785991\n",
            "F1 score:  0.6277461011674498\n"
          ],
          "name": "stdout"
        },
        {
          "output_type": "display_data",
          "data": {
            "image/png": "[encoded data removed]",
            "text/plain": [
              "<Figure size 360x360 with 2 Axes>"
            ]
          },
          "metadata": {
            "tags": []
          }
        },
        {
          "output_type": "execute_result",
          "data": {
            "text/plain": [
              "array([[4115,  164,  173,  225],\n",
              "       [ 127,  147,    6,    4],\n",
              "       [  74,    6,  157,   13],\n",
              "       [  46,    3,   20,  229]])"
            ]
          },
          "metadata": {
            "tags": []
          },
          "execution_count": 234
        }
      ]
    },
    {
      "cell_type": "markdown",
      "metadata": {
        "id": "rf_4wyVMKUf2",
        "colab_type": "text"
      },
      "source": [
        "#### Sequential analysis of conversation without 'other' class"
      ]
    },
    {
      "cell_type": "code",
      "metadata": {
        "id": "yov93_d7R5iQ",
        "colab_type": "code",
        "colab": {}
      },
      "source": [
        "tokens = ['happy', 'sad', 'angry']"
      ],
      "execution_count": 0,
      "outputs": []
    },
    {
      "cell_type": "code",
      "metadata": {
        "id": "LfyHqNlJKT1w",
        "colab_type": "code",
        "colab": {}
      },
      "source": [
        "label = np.array(label)\n",
        "others_indices = np.where(label == 0)[0]"
      ],
      "execution_count": 0,
      "outputs": []
    },
    {
      "cell_type": "code",
      "metadata": {
        "id": "E-jkN7nLHBmS",
        "colab_type": "code",
        "colab": {}
      },
      "source": [
        "indices = np.r_[np.where(label == 1)[0], np.where(label == 2)[0], np.where(label == 3)[0]]"
      ],
      "execution_count": 0,
      "outputs": []
    },
    {
      "cell_type": "code",
      "metadata": {
        "id": "NeIcXAA4LBNT",
        "colab_type": "code",
        "colab": {}
      },
      "source": [
        "deepmoji_train = deepmoji_train_all[indices]\n",
        "emoji_train = emoji_train_all[indices]\n",
        "label_train = label[indices]"
      ],
      "execution_count": 0,
      "outputs": []
    },
    {
      "cell_type": "code",
      "metadata": {
        "id": "i2ait0WSPCdy",
        "colab_type": "code",
        "colab": {}
      },
      "source": [
        "test_label = np.array(test_label)\n",
        "indices_test = np.r_[np.where(test_label == 1)[0], np.where(test_label == 2)[0], np.where(test_label == 3)[0]]"
      ],
      "execution_count": 0,
      "outputs": []
    },
    {
      "cell_type": "code",
      "metadata": {
        "id": "eh4RoBlLPWaH",
        "colab_type": "code",
        "colab": {}
      },
      "source": [
        "test_label = test_label[indices_test]\n",
        "deepmoji_test = deepmoji_test[indices_test]\n",
        "emoji_test = emoji_test[indices_test]"
      ],
      "execution_count": 0,
      "outputs": []
    },
    {
      "cell_type": "code",
      "metadata": {
        "id": "WFgRs-hXPtiN",
        "colab_type": "code",
        "colab": {
          "base_uri": "https://localhost:8080/",
          "height": 283
        },
        "outputId": "bf90b8a4-8d77-4d85-b377-41b9d3a77111"
      },
      "source": [
        "categories_train, category_counts_train = np.unique(label_train, return_counts = True)\n",
        "plt.bar(categories_train, category_counts_train, tick_label = tokens,align = 'center', color = ['#4CB97A', '#F6CC55', '#DF4F40'])"
      ],
      "execution_count": 255,
      "outputs": [
        {
          "output_type": "execute_result",
          "data": {
            "text/plain": [
              "<BarContainer object of 3 artists>"
            ]
          },
          "metadata": {
            "tags": []
          },
          "execution_count": 255
        },
        {
          "output_type": "display_data",
          "data": {
            "image/png": "[encoded data removed]",
            "text/plain": [
              "<Figure size 432x288 with 1 Axes>"
            ]
          },
          "metadata": {
            "tags": []
          }
        }
      ]
    },
    {
      "cell_type": "code",
      "metadata": {
        "id": "DBzs4lBfP1Si",
        "colab_type": "code",
        "colab": {
          "base_uri": "https://localhost:8080/",
          "height": 35
        },
        "outputId": "48cee3fb-4d92-489b-e252-726109bfe383"
      },
      "source": [
        "category_counts_train"
      ],
      "execution_count": 256,
      "outputs": [
        {
          "output_type": "execute_result",
          "data": {
            "text/plain": [
              "array([4243, 5463, 5506])"
            ]
          },
          "metadata": {
            "tags": []
          },
          "execution_count": 256
        }
      ]
    },
    {
      "cell_type": "code",
      "metadata": {
        "id": "c2BJGzDGPgdl",
        "colab_type": "code",
        "colab": {
          "base_uri": "https://localhost:8080/",
          "height": 283
        },
        "outputId": "70801d97-d56e-4834-aa61-eb5485f42017"
      },
      "source": [
        "categories_test, category_counts_test = np.unique(test_label, return_counts = True)\n",
        "plt.bar(categories_test, category_counts_test, tick_label = tokens,align = 'center', color = ['#4CB97A', '#F6CC55', '#DF4F40'])"
      ],
      "execution_count": 257,
      "outputs": [
        {
          "output_type": "execute_result",
          "data": {
            "text/plain": [
              "<BarContainer object of 3 artists>"
            ]
          },
          "metadata": {
            "tags": []
          },
          "execution_count": 257
        },
        {
          "output_type": "display_data",
          "data": {
            "image/png": "[encoded data removed]",
            "text/plain": [
              "<Figure size 432x288 with 1 Axes>"
            ]
          },
          "metadata": {
            "tags": []
          }
        }
      ]
    },
    {
      "cell_type": "code",
      "metadata": {
        "id": "kF2ILR36P-sh",
        "colab_type": "code",
        "colab": {
          "base_uri": "https://localhost:8080/",
          "height": 35
        },
        "outputId": "84f4eecc-3a03-4b51-9e94-bf6c2746292c"
      },
      "source": [
        "category_counts_test"
      ],
      "execution_count": 258,
      "outputs": [
        {
          "output_type": "execute_result",
          "data": {
            "text/plain": [
              "array([284, 250, 298])"
            ]
          },
          "metadata": {
            "tags": []
          },
          "execution_count": 258
        }
      ]
    },
    {
      "cell_type": "markdown",
      "metadata": {
        "id": "qqpzvmWTQDsN",
        "colab_type": "text"
      },
      "source": [
        "#### Logistic Regression"
      ]
    },
    {
      "cell_type": "code",
      "metadata": {
        "id": "5c2B9InUQGbB",
        "colab_type": "code",
        "colab": {
          "base_uri": "https://localhost:8080/",
          "height": 687
        },
        "outputId": "5519ad8c-e05f-4de2-8234-5834b145da2f"
      },
      "source": [
        "logistic_regression = Pipeline(\n",
        "    [('scaler', MinMaxScaler()), \n",
        "     ('clf', LogisticRegression(random_state = 0))])\n",
        "logistic_regression.fit(deepmoji_train, label_train)\n",
        "logistic_regression_predictions = logistic_regression.predict(deepmoji_test)\n",
        "print_metrics(logistic_regression_predictions)\n",
        "plot_confusion_matrix(metrics.confusion_matrix(test_label, logistic_regression_predictions), tokens)\n",
        "plt.show()\n",
        "metrics.confusion_matrix(test_label, logistic_regression_predictions)"
      ],
      "execution_count": 260,
      "outputs": [
        {
          "output_type": "stream",
          "text": [
            "/usr/local/lib/python3.6/dist-packages/sklearn/linear_model/logistic.py:432: FutureWarning: Default solver will be changed to 'lbfgs' in 0.22. Specify a solver to silence this warning.\n",
            "  FutureWarning)\n",
            "/usr/local/lib/python3.6/dist-packages/sklearn/linear_model/logistic.py:469: FutureWarning: Default multi_class will be changed to 'auto' in 0.22. Specify the multi_class option to silence this warning.\n",
            "  \"this warning.\", FutureWarning)\n"
          ],
          "name": "stderr"
        },
        {
          "output_type": "stream",
          "text": [
            "              precision    recall  f1-score   support\n",
            "\n",
            "       happy       0.91      0.87      0.89       284\n",
            "         sad       0.88      0.85      0.86       250\n",
            "       angry       0.88      0.93      0.90       298\n",
            "\n",
            "    accuracy                           0.89       832\n",
            "   macro avg       0.89      0.89      0.89       832\n",
            "weighted avg       0.89      0.89      0.89       832\n",
            "\n",
            "Accuracy: 0.8882211538461539\n",
            "Precision: 0.8884265081972346\n",
            "Recall: 0.8860417808866622\n",
            "F1 score:  0.886749578222941\n"
          ],
          "name": "stdout"
        },
        {
          "output_type": "display_data",
          "data": {
            "image/png": "[encoded data removed]",
            "text/plain": [
              "<Figure size 324x324 with 2 Axes>"
            ]
          },
          "metadata": {
            "tags": []
          }
        },
        {
          "output_type": "execute_result",
          "data": {
            "text/plain": [
              "array([[248,  18,  18],\n",
              "       [ 16, 213,  21],\n",
              "       [  8,  12, 278]])"
            ]
          },
          "metadata": {
            "tags": []
          },
          "execution_count": 260
        }
      ]
    },
    {
      "cell_type": "code",
      "metadata": {
        "id": "qjLJthD-QRuF",
        "colab_type": "code",
        "colab": {
          "base_uri": "https://localhost:8080/",
          "height": 687
        },
        "outputId": "99fcd865-2438-4cdb-c82b-198c7b1e58d9"
      },
      "source": [
        "logistic_regression = LogisticRegression(random_state = 0)\n",
        "logistic_regression.fit(deepmoji_train, label_train)\n",
        "logistic_regression_predictions = logistic_regression.predict(deepmoji_test)\n",
        "print_metrics(logistic_regression_predictions)\n",
        "plot_confusion_matrix(metrics.confusion_matrix(test_label, logistic_regression_predictions), tokens)\n",
        "plt.show()\n",
        "metrics.confusion_matrix(test_label, logistic_regression_predictions)"
      ],
      "execution_count": 261,
      "outputs": [
        {
          "output_type": "stream",
          "text": [
            "/usr/local/lib/python3.6/dist-packages/sklearn/linear_model/logistic.py:432: FutureWarning: Default solver will be changed to 'lbfgs' in 0.22. Specify a solver to silence this warning.\n",
            "  FutureWarning)\n",
            "/usr/local/lib/python3.6/dist-packages/sklearn/linear_model/logistic.py:469: FutureWarning: Default multi_class will be changed to 'auto' in 0.22. Specify the multi_class option to silence this warning.\n",
            "  \"this warning.\", FutureWarning)\n"
          ],
          "name": "stderr"
        },
        {
          "output_type": "stream",
          "text": [
            "              precision    recall  f1-score   support\n",
            "\n",
            "       happy       0.91      0.89      0.90       284\n",
            "         sad       0.89      0.84      0.87       250\n",
            "       angry       0.88      0.94      0.91       298\n",
            "\n",
            "    accuracy                           0.89       832\n",
            "   macro avg       0.90      0.89      0.89       832\n",
            "weighted avg       0.89      0.89      0.89       832\n",
            "\n",
            "Accuracy: 0.8942307692307693\n",
            "Precision: 0.8950331406662059\n",
            "Recall: 0.8912660301855878\n",
            "F1 score:  0.8924417596752109\n"
          ],
          "name": "stdout"
        },
        {
          "output_type": "display_data",
          "data": {
            "image/png": "[encoded data removed]",
            "text/plain": [
              "<Figure size 324x324 with 2 Axes>"
            ]
          },
          "metadata": {
            "tags": []
          }
        },
        {
          "output_type": "execute_result",
          "data": {
            "text/plain": [
              "array([[253,  14,  17],\n",
              "       [ 18, 210,  22],\n",
              "       [  6,  11, 281]])"
            ]
          },
          "metadata": {
            "tags": []
          },
          "execution_count": 261
        }
      ]
    },
    {
      "cell_type": "code",
      "metadata": {
        "id": "ODyner6mSLvv",
        "colab_type": "code",
        "colab": {
          "base_uri": "https://localhost:8080/",
          "height": 687
        },
        "outputId": "3a8c2903-e39b-41ba-b9d7-9f9712d49517"
      },
      "source": [
        "logistic_regression = LogisticRegression(random_state = 0)\n",
        "logistic_regression.fit(emoji_train, label_train)\n",
        "logistic_regression_predictions = logistic_regression.predict(emoji_test)\n",
        "print_metrics(logistic_regression_predictions)\n",
        "plot_confusion_matrix(metrics.confusion_matrix(test_label, logistic_regression_predictions), tokens)\n",
        "plt.show()\n",
        "metrics.confusion_matrix(test_label, logistic_regression_predictions)"
      ],
      "execution_count": 262,
      "outputs": [
        {
          "output_type": "stream",
          "text": [
            "/usr/local/lib/python3.6/dist-packages/sklearn/linear_model/logistic.py:432: FutureWarning: Default solver will be changed to 'lbfgs' in 0.22. Specify a solver to silence this warning.\n",
            "  FutureWarning)\n",
            "/usr/local/lib/python3.6/dist-packages/sklearn/linear_model/logistic.py:469: FutureWarning: Default multi_class will be changed to 'auto' in 0.22. Specify the multi_class option to silence this warning.\n",
            "  \"this warning.\", FutureWarning)\n"
          ],
          "name": "stderr"
        },
        {
          "output_type": "stream",
          "text": [
            "              precision    recall  f1-score   support\n",
            "\n",
            "       happy       0.85      0.86      0.86       284\n",
            "         sad       0.83      0.77      0.80       250\n",
            "       angry       0.84      0.88      0.86       298\n",
            "\n",
            "    accuracy                           0.84       832\n",
            "   macro avg       0.84      0.84      0.84       832\n",
            "weighted avg       0.84      0.84      0.84       832\n",
            "\n",
            "Accuracy: 0.8401442307692307\n",
            "Precision: 0.8392602672839974\n",
            "Recall: 0.8366235624035038\n",
            "F1 score:  0.8374185897923648\n"
          ],
          "name": "stdout"
        },
        {
          "output_type": "display_data",
          "data": {
            "image/png": "[encoded data removed]",
            "text/plain": [
              "<Figure size 324x324 with 2 Axes>"
            ]
          },
          "metadata": {
            "tags": []
          }
        },
        {
          "output_type": "execute_result",
          "data": {
            "text/plain": [
              "array([[245,  18,  21],\n",
              "       [ 30, 192,  28],\n",
              "       [ 14,  22, 262]])"
            ]
          },
          "metadata": {
            "tags": []
          },
          "execution_count": 262
        }
      ]
    },
    {
      "cell_type": "markdown",
      "metadata": {
        "id": "KqX5hEJUScGX",
        "colab_type": "text"
      },
      "source": [
        "#### Naive Bayes"
      ]
    },
    {
      "cell_type": "code",
      "metadata": {
        "id": "yYEI_gOhSZlM",
        "colab_type": "code",
        "colab": {
          "base_uri": "https://localhost:8080/",
          "height": 598
        },
        "outputId": "d1df4c5b-8409-4143-b7ff-4e31887bef2f"
      },
      "source": [
        "naive_bayes = Pipeline(\n",
        "    [('scaler', MinMaxScaler()), \n",
        "     ('clf', MultinomialNB())])\n",
        "naive_bayes.fit(deepmoji_train, label_train)\n",
        "naive_bayes_predictions = naive_bayes.predict(deepmoji_test)\n",
        "print_metrics(naive_bayes_predictions)\n",
        "plot_confusion_matrix(metrics.confusion_matrix(test_label, naive_bayes_predictions), tokens)\n",
        "plt.show()\n",
        "metrics.confusion_matrix(test_label, naive_bayes_predictions)"
      ],
      "execution_count": 263,
      "outputs": [
        {
          "output_type": "stream",
          "text": [
            "              precision    recall  f1-score   support\n",
            "\n",
            "       happy       0.82      0.86      0.84       284\n",
            "         sad       0.82      0.76      0.79       250\n",
            "       angry       0.86      0.87      0.87       298\n",
            "\n",
            "    accuracy                           0.83       832\n",
            "   macro avg       0.83      0.83      0.83       832\n",
            "weighted avg       0.83      0.83      0.83       832\n",
            "\n",
            "Accuracy: 0.8341346153846154\n",
            "Precision: 0.8331638288447962\n",
            "Recall: 0.8305460503513249\n",
            "F1 score:  0.8312457331325257\n"
          ],
          "name": "stdout"
        },
        {
          "output_type": "display_data",
          "data": {
            "image/png": "[encoded data removed]",
            "text/plain": [
              "<Figure size 324x324 with 2 Axes>"
            ]
          },
          "metadata": {
            "tags": []
          }
        },
        {
          "output_type": "execute_result",
          "data": {
            "text/plain": [
              "array([[244,  21,  19],\n",
              "       [ 37, 190,  23],\n",
              "       [ 18,  20, 260]])"
            ]
          },
          "metadata": {
            "tags": []
          },
          "execution_count": 263
        }
      ]
    },
    {
      "cell_type": "code",
      "metadata": {
        "id": "BoZ3YLIgSp6y",
        "colab_type": "code",
        "colab": {
          "base_uri": "https://localhost:8080/",
          "height": 598
        },
        "outputId": "a3af1919-4ba9-4e74-f463-a07844fbd5dd"
      },
      "source": [
        "naive_bayes = Pipeline([('clf', MultinomialNB())])\n",
        "naive_bayes.fit(emoji_train, label_train)\n",
        "naive_bayes_predictions = naive_bayes.predict(emoji_test)\n",
        "print_metrics(naive_bayes_predictions)\n",
        "plot_confusion_matrix(metrics.confusion_matrix(test_label, naive_bayes_predictions), tokens)\n",
        "plt.show()\n",
        "metrics.confusion_matrix(test_label, naive_bayes_predictions)"
      ],
      "execution_count": 264,
      "outputs": [
        {
          "output_type": "stream",
          "text": [
            "              precision    recall  f1-score   support\n",
            "\n",
            "       happy       0.81      0.73      0.77       284\n",
            "         sad       0.80      0.74      0.77       250\n",
            "       angry       0.74      0.86      0.80       298\n",
            "\n",
            "    accuracy                           0.78       832\n",
            "   macro avg       0.79      0.78      0.78       832\n",
            "weighted avg       0.78      0.78      0.78       832\n",
            "\n",
            "Accuracy: 0.7800480769230769\n",
            "Precision: 0.785091522157996\n",
            "Recall: 0.7769368245265779\n",
            "F1 score:  0.77839122766659\n"
          ],
          "name": "stdout"
        },
        {
          "output_type": "display_data",
          "data": {
            "image/png": "[encoded data removed]",
            "text/plain": [
              "<Figure size 324x324 with 2 Axes>"
            ]
          },
          "metadata": {
            "tags": []
          }
        },
        {
          "output_type": "execute_result",
          "data": {
            "text/plain": [
              "array([[208,  23,  53],\n",
              "       [ 30, 184,  36],\n",
              "       [ 18,  23, 257]])"
            ]
          },
          "metadata": {
            "tags": []
          },
          "execution_count": 264
        }
      ]
    },
    {
      "cell_type": "markdown",
      "metadata": {
        "id": "vutbCk-KS49R",
        "colab_type": "text"
      },
      "source": [
        "#### SVM One vs One"
      ]
    },
    {
      "cell_type": "code",
      "metadata": {
        "id": "YyZV-3hsS2ZC",
        "colab_type": "code",
        "colab": {
          "base_uri": "https://localhost:8080/",
          "height": 598
        },
        "outputId": "3ae14b86-207c-4450-e9b2-4edeec3645c8"
      },
      "source": [
        "svm_one_vs_one = svm.SVC(decision_function_shape = 'ovo', kernel = 'linear', C = 100)\n",
        "svm_one_vs_one.fit(emoji_train, label_train)\n",
        "svm_one_vs_one_predictions = svm_one_vs_one.predict(emoji_test)\n",
        "print_metrics(svm_one_vs_one_predictions)\n",
        "plot_confusion_matrix(metrics.confusion_matrix(test_label, svm_one_vs_one_predictions), tokens)\n",
        "plt.show()\n",
        "metrics.confusion_matrix(test_label, svm_one_vs_one_predictions)"
      ],
      "execution_count": 265,
      "outputs": [
        {
          "output_type": "stream",
          "text": [
            "              precision    recall  f1-score   support\n",
            "\n",
            "       happy       0.88      0.89      0.89       284\n",
            "         sad       0.82      0.79      0.80       250\n",
            "       angry       0.85      0.88      0.86       298\n",
            "\n",
            "    accuracy                           0.85       832\n",
            "   macro avg       0.85      0.85      0.85       832\n",
            "weighted avg       0.85      0.85      0.85       832\n",
            "\n",
            "Accuracy: 0.8533653846153846\n",
            "Precision: 0.8515263628928312\n",
            "Recall: 0.8503876232788228\n",
            "F1 score:  0.8508156338568841\n"
          ],
          "name": "stdout"
        },
        {
          "output_type": "display_data",
          "data": {
            "image/png": "[encoded data removed]",
            "text/plain": [
              "<Figure size 324x324 with 2 Axes>"
            ]
          },
          "metadata": {
            "tags": []
          }
        },
        {
          "output_type": "execute_result",
          "data": {
            "text/plain": [
              "array([[252,  18,  14],\n",
              "       [ 22, 197,  31],\n",
              "       [ 11,  26, 261]])"
            ]
          },
          "metadata": {
            "tags": []
          },
          "execution_count": 265
        }
      ]
    },
    {
      "cell_type": "markdown",
      "metadata": {
        "id": "w7YuLPTKTNa6",
        "colab_type": "text"
      },
      "source": [
        "#### SVM One vs Rest"
      ]
    },
    {
      "cell_type": "code",
      "metadata": {
        "id": "FKXWmxLITJmf",
        "colab_type": "code",
        "colab": {
          "base_uri": "https://localhost:8080/",
          "height": 598
        },
        "outputId": "194484ea-8141-431c-faa1-6a0030f2538e"
      },
      "source": [
        "svm_one_vs_rest = svm.SVC(decision_function_shape = 'ovr', kernel = 'linear', C = 100)\n",
        "svm_one_vs_rest.fit(emoji_train, label_train)\n",
        "svm_one_vs_rest_predictions = svm_one_vs_rest.predict(emoji_test)\n",
        "print_metrics(svm_one_vs_rest_predictions)\n",
        "plot_confusion_matrix(metrics.confusion_matrix(test_label, svm_one_vs_rest_predictions), tokens)\n",
        "plt.show()\n",
        "metrics.confusion_matrix(test_label, svm_one_vs_rest_predictions)"
      ],
      "execution_count": 266,
      "outputs": [
        {
          "output_type": "stream",
          "text": [
            "              precision    recall  f1-score   support\n",
            "\n",
            "       happy       0.88      0.89      0.89       284\n",
            "         sad       0.82      0.79      0.80       250\n",
            "       angry       0.85      0.88      0.86       298\n",
            "\n",
            "    accuracy                           0.85       832\n",
            "   macro avg       0.85      0.85      0.85       832\n",
            "weighted avg       0.85      0.85      0.85       832\n",
            "\n",
            "Accuracy: 0.8533653846153846\n",
            "Precision: 0.8515263628928312\n",
            "Recall: 0.8503876232788228\n",
            "F1 score:  0.8508156338568841\n"
          ],
          "name": "stdout"
        },
        {
          "output_type": "display_data",
          "data": {
            "image/png": "[encoded data removed]",
            "text/plain": [
              "<Figure size 324x324 with 2 Axes>"
            ]
          },
          "metadata": {
            "tags": []
          }
        },
        {
          "output_type": "execute_result",
          "data": {
            "text/plain": [
              "array([[252,  18,  14],\n",
              "       [ 22, 197,  31],\n",
              "       [ 11,  26, 261]])"
            ]
          },
          "metadata": {
            "tags": []
          },
          "execution_count": 266
        }
      ]
    }
  ]
}