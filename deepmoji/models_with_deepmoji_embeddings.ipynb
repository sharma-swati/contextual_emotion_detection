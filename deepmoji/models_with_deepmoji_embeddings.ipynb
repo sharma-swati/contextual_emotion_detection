{
  "nbformat": 4,
  "nbformat_minor": 0,
  "metadata": {
    "colab": {
      "name": "models_with_deepmoji_embeddings.ipynb",
      "provenance": [],
      "collapsed_sections": [],
      "toc_visible": true,
      "machine_shape": "hm"
    },
    "kernelspec": {
      "name": "python3",
      "display_name": "Python 3"
    },
    "accelerator": "GPU"
  },
  "cells": [
    {
      "cell_type": "code",
      "metadata": {
        "id": "UNmR2InfqXU5",
        "colab_type": "code",
        "outputId": "e27e77a9-00ae-437f-a847-cfad78591d83",
        "colab": {
          "base_uri": "https://localhost:8080/",
          "height": 72
        }
      },
      "source": [
        "!pip install -q torch==1.0.1"
      ],
      "execution_count": 7,
      "outputs": [
        {
          "output_type": "stream",
          "text": [
            "\u001b[K     |████████████████████████████████| 560.1MB 26kB/s \n",
            "\u001b[31mERROR: torchvision 0.4.1+cu100 has requirement torch==1.3.0, but you'll have torch 1.0.1 which is incompatible.\u001b[0m\n",
            "\u001b[?25h"
          ],
          "name": "stdout"
        }
      ]
    },
    {
      "cell_type": "code",
      "metadata": {
        "id": "n9tQb0h19CUz",
        "colab_type": "code",
        "outputId": "deed1261-6854-4854-e404-4ae5c6cf15d2",
        "colab": {
          "base_uri": "https://localhost:8080/",
          "height": 35
        }
      },
      "source": [
        "import torch\n",
        "print(torch.__version__)"
      ],
      "execution_count": 8,
      "outputs": [
        {
          "output_type": "stream",
          "text": [
            "1.0.1\n"
          ],
          "name": "stdout"
        }
      ]
    },
    {
      "cell_type": "code",
      "metadata": {
        "id": "m9qAVycs1w_K",
        "colab_type": "code",
        "outputId": "2131e1cf-8504-4b9a-8860-09cb0b8474d5",
        "colab": {
          "base_uri": "https://localhost:8080/",
          "height": 661
        }
      },
      "source": [
        "!pip install ekphrasis"
      ],
      "execution_count": 9,
      "outputs": [
        {
          "output_type": "stream",
          "text": [
            "Collecting ekphrasis\n",
            "\u001b[?25l  Downloading https://files.pythonhosted.org/packages/92/e6/37c59d65e78c3a2aaf662df58faca7250eb6b36c559b912a39a7ca204cfb/ekphrasis-0.5.1.tar.gz (80kB)\n",
            "\r\u001b[K     |████                            | 10kB 23.5MB/s eta 0:00:01\r\u001b[K     |████████▏                       | 20kB 3.1MB/s eta 0:00:01\r\u001b[K     |████████████▎                   | 30kB 4.5MB/s eta 0:00:01\r\u001b[K     |████████████████▍               | 40kB 3.0MB/s eta 0:00:01\r\u001b[K     |████████████████████▌           | 51kB 3.7MB/s eta 0:00:01\r\u001b[K     |████████████████████████▌       | 61kB 4.4MB/s eta 0:00:01\r\u001b[K     |████████████████████████████▋   | 71kB 5.0MB/s eta 0:00:01\r\u001b[K     |████████████████████████████████| 81kB 4.0MB/s \n",
            "\u001b[?25hRequirement already satisfied: termcolor in /usr/local/lib/python3.6/dist-packages (from ekphrasis) (1.1.0)\n",
            "Requirement already satisfied: tqdm in /usr/local/lib/python3.6/dist-packages (from ekphrasis) (4.28.1)\n",
            "Collecting colorama\n",
            "  Downloading https://files.pythonhosted.org/packages/4f/a6/728666f39bfff1719fc94c481890b2106837da9318031f71a8424b662e12/colorama-0.4.1-py2.py3-none-any.whl\n",
            "Collecting ujson\n",
            "\u001b[?25l  Downloading https://files.pythonhosted.org/packages/16/c4/79f3409bc710559015464e5f49b9879430d8f87498ecdc335899732e5377/ujson-1.35.tar.gz (192kB)\n",
            "\u001b[K     |████████████████████████████████| 194kB 14.2MB/s \n",
            "\u001b[?25hRequirement already satisfied: matplotlib in /usr/local/lib/python3.6/dist-packages (from ekphrasis) (3.1.1)\n",
            "Requirement already satisfied: nltk in /usr/local/lib/python3.6/dist-packages (from ekphrasis) (3.2.5)\n",
            "Collecting ftfy\n",
            "\u001b[?25l  Downloading https://files.pythonhosted.org/packages/75/ca/2d9a5030eaf1bcd925dab392762b9709a7ad4bd486a90599d93cd79cb188/ftfy-5.6.tar.gz (58kB)\n",
            "\u001b[K     |████████████████████████████████| 61kB 8.6MB/s \n",
            "\u001b[?25hRequirement already satisfied: numpy in /usr/local/lib/python3.6/dist-packages (from ekphrasis) (1.17.3)\n",
            "Requirement already satisfied: python-dateutil>=2.1 in /usr/local/lib/python3.6/dist-packages (from matplotlib->ekphrasis) (2.6.1)\n",
            "Requirement already satisfied: cycler>=0.10 in /usr/local/lib/python3.6/dist-packages (from matplotlib->ekphrasis) (0.10.0)\n",
            "Requirement already satisfied: pyparsing!=2.0.4,!=2.1.2,!=2.1.6,>=2.0.1 in /usr/local/lib/python3.6/dist-packages (from matplotlib->ekphrasis) (2.4.2)\n",
            "Requirement already satisfied: kiwisolver>=1.0.1 in /usr/local/lib/python3.6/dist-packages (from matplotlib->ekphrasis) (1.1.0)\n",
            "Requirement already satisfied: six in /usr/local/lib/python3.6/dist-packages (from nltk->ekphrasis) (1.12.0)\n",
            "Requirement already satisfied: wcwidth in /usr/local/lib/python3.6/dist-packages (from ftfy->ekphrasis) (0.1.7)\n",
            "Requirement already satisfied: setuptools in /usr/local/lib/python3.6/dist-packages (from kiwisolver>=1.0.1->matplotlib->ekphrasis) (41.4.0)\n",
            "Building wheels for collected packages: ekphrasis, ujson, ftfy\n",
            "  Building wheel for ekphrasis (setup.py) ... \u001b[?25l\u001b[?25hdone\n",
            "  Created wheel for ekphrasis: filename=ekphrasis-0.5.1-cp36-none-any.whl size=82844 sha256=3f996eed5580e3bd656554578982d1f4a386264a1dd9af558686b57f2c61e656\n",
            "  Stored in directory: /root/.cache/pip/wheels/2f/c5/9b/c9b60f535a2cf9fdbc92d84c4801a010c35a9cd348011ed2a1\n",
            "  Building wheel for ujson (setup.py) ... \u001b[?25l\u001b[?25hdone\n",
            "  Created wheel for ujson: filename=ujson-1.35-cp36-cp36m-linux_x86_64.whl size=68021 sha256=293b62415919a00f2261e6a01a9b02aafff32fd6677bb28f8170896d84704c6d\n",
            "  Stored in directory: /root/.cache/pip/wheels/28/77/e4/0311145b9c2e2f01470e744855131f9e34d6919687550f87d1\n",
            "  Building wheel for ftfy (setup.py) ... \u001b[?25l\u001b[?25hdone\n",
            "  Created wheel for ftfy: filename=ftfy-5.6-cp36-none-any.whl size=44553 sha256=a53794d68b339494fb08de2716bd232ee90309c5d060c7c5c662e4dab163b737\n",
            "  Stored in directory: /root/.cache/pip/wheels/43/34/ce/cbb38d71543c408de56f3c5e26ce8ba495a0fa5a28eaaf1046\n",
            "Successfully built ekphrasis ujson ftfy\n",
            "Installing collected packages: colorama, ujson, ftfy, ekphrasis\n",
            "Successfully installed colorama-0.4.1 ekphrasis-0.5.1 ftfy-5.6 ujson-1.35\n"
          ],
          "name": "stdout"
        }
      ]
    },
    {
      "cell_type": "code",
      "metadata": {
        "id": "ED0jYHUU6S9t",
        "colab_type": "code",
        "outputId": "d8c74675-f94f-4563-ea71-47f47a43c87e",
        "colab": {
          "base_uri": "https://localhost:8080/",
          "height": 211
        }
      },
      "source": [
        "!pip install emoji"
      ],
      "execution_count": 10,
      "outputs": [
        {
          "output_type": "stream",
          "text": [
            "Collecting emoji\n",
            "\u001b[?25l  Downloading https://files.pythonhosted.org/packages/40/8d/521be7f0091fe0f2ae690cc044faf43e3445e0ff33c574eae752dd7e39fa/emoji-0.5.4.tar.gz (43kB)\n",
            "\r\u001b[K     |███████▌                        | 10kB 22.4MB/s eta 0:00:01\r\u001b[K     |███████████████                 | 20kB 1.9MB/s eta 0:00:01\r\u001b[K     |██████████████████████▋         | 30kB 2.7MB/s eta 0:00:01\r\u001b[K     |██████████████████████████████▏ | 40kB 2.3MB/s eta 0:00:01\r\u001b[K     |████████████████████████████████| 51kB 2.1MB/s \n",
            "\u001b[?25hBuilding wheels for collected packages: emoji\n",
            "  Building wheel for emoji (setup.py) ... \u001b[?25l\u001b[?25hdone\n",
            "  Created wheel for emoji: filename=emoji-0.5.4-cp36-none-any.whl size=42175 sha256=6abd2a8d10cbf7afd849e59dccab36fb508e467d6c7694a072e8c4db94b121d3\n",
            "  Stored in directory: /root/.cache/pip/wheels/2a/a9/0a/4f8e8cce8074232aba240caca3fade315bb49fac68808d1a9c\n",
            "Successfully built emoji\n",
            "Installing collected packages: emoji\n",
            "Successfully installed emoji-0.5.4\n"
          ],
          "name": "stdout"
        }
      ]
    },
    {
      "cell_type": "code",
      "metadata": {
        "id": "9FRtnS5C1zLp",
        "colab_type": "code",
        "colab": {}
      },
      "source": [
        "import os\n",
        "import json\n",
        "import numpy as np\n",
        "import pandas as pd\n",
        "import matplotlib.pyplot as plt\n",
        "from ekphrasis.dicts.emoticons import emoticons\n",
        "from ekphrasis.classes.preprocessor import TextPreProcessor\n",
        "from ekphrasis.classes.tokenizer import SocialTokenizer"
      ],
      "execution_count": 0,
      "outputs": []
    },
    {
      "cell_type": "code",
      "metadata": {
        "id": "33BxGQi711W0",
        "colab_type": "code",
        "colab": {}
      },
      "source": [
        "%cd contextual_emotion_detection"
      ],
      "execution_count": 0,
      "outputs": []
    },
    {
      "cell_type": "code",
      "metadata": {
        "id": "CpqkvBxM6bEk",
        "colab_type": "code",
        "colab": {}
      },
      "source": [
        "%cd torchMoji\n",
        "from torchmoji.model_def import torchmoji_emojis\n",
        "from torchmoji.sentence_tokenizer import SentenceTokenizer\n",
        "from torchmoji.model_def import torchmoji_feature_encoding\n",
        "from torchmoji.global_variables import PRETRAINED_PATH, VOCAB_PATH\n",
        "%cd .."
      ],
      "execution_count": 0,
      "outputs": []
    },
    {
      "cell_type": "code",
      "metadata": {
        "id": "YJgsr_oVBLr5",
        "colab_type": "code",
        "colab": {}
      },
      "source": [
        "%cd deepmoji"
      ],
      "execution_count": 0,
      "outputs": []
    },
    {
      "cell_type": "code",
      "metadata": {
        "id": "jRhG-IeE4Tr4",
        "colab_type": "code",
        "colab": {}
      },
      "source": [
        "dirpath = '.'\n",
        "projectpath = os.path.join(dirpath, '..')\n",
        "datapath = os.path.join(projectpath, 'data')\n",
        "torhchmojipath = os.path.join(projectpath, 'deepmoji')\n",
        "\n",
        "emotion_to_label = {\"others\": 0, \"happy\": 1, \"sad\": 2, \"angry\": 3}\n",
        "label_to_emotion = {0: \"others\", 1: \"happy\", 2: \"sad\", 3: \"angry\"}\n",
        "\n",
        "additional_emoticons = {\n",
        "    '(^・^)': '<happy>', ':‑c': '<sad>', '=‑d': '<happy>', \":'‑)\": '<happy>', ':‑d': '<laugh>',\n",
        "    ':‑(': '<sad>', ';‑)': '<happy>', ':‑)': '<happy>', ':\\\\/': '<sad>', 'd=<': '<annoyed>',\n",
        "    ':‑/': '<annoyed>', ';‑]': '<happy>', '(^�^)': '<happy>', 'angru': 'angry', \"d‑':\":\n",
        "        '<annoyed>', \":'‑(\": '<sad>', \":‑[\": '<annoyed>', '(�?�)': '<happy>', 'x‑d': '<laugh>',\n",
        "}"
      ],
      "execution_count": 0,
      "outputs": []
    },
    {
      "cell_type": "code",
      "metadata": {
        "id": "BL4lMyHP6i8X",
        "colab_type": "code",
        "colab": {}
      },
      "source": [
        "training_data = pd.read_csv(os.path.join(datapath, 'train.txt'), sep = '\\t')"
      ],
      "execution_count": 0,
      "outputs": []
    },
    {
      "cell_type": "code",
      "metadata": {
        "id": "P2CAUwlu6kpW",
        "colab_type": "code",
        "outputId": "78b4d8d5-0a09-44fe-a8b4-d091d7df36bf",
        "colab": {
          "base_uri": "https://localhost:8080/",
          "height": 191
        }
      },
      "source": [
        "text_pre_processor = TextPreProcessor(\n",
        "    normalize = ['url', 'email', 'percent', 'money', 'phone', 'user',\n",
        "               'time', 'url', 'date', 'number'],\n",
        "    annotate = {\"hashtag\", \"allcaps\", \"elongated\", \"repeated\",\n",
        "              'emphasis', 'censored'},\n",
        "    fix_html = True,\n",
        "    segmenter = \"twitter\",\n",
        "    corrector = \"twitter\", # spell correction\n",
        "    unpack_hashtags = True,\n",
        "    unpack_contractions = True, # expand word abbreviations\n",
        "    spell_correct_elong = True,\n",
        "    tokenizer = SocialTokenizer(lowercase = True).tokenize,\n",
        "    dicts = [emoticons, additional_emoticons]\n",
        ")\n",
        "\n",
        "def pre_process(conversation_text):\n",
        "    conversation_text = \" \".join(text_pre_processor.pre_process_doc(conversation_text))\n",
        "    return conversation_text"
      ],
      "execution_count": 17,
      "outputs": [
        {
          "output_type": "stream",
          "text": [
            "Word statistics files not found!\n",
            "Downloading... done!\n",
            "Unpacking... done!\n",
            "Reading twitter - 1grams ...\n",
            "generating cache file for faster loading...\n",
            "reading ngrams /root/.ekphrasis/stats/twitter/counts_1grams.txt\n",
            "Reading twitter - 2grams ...\n",
            "generating cache file for faster loading...\n",
            "reading ngrams /root/.ekphrasis/stats/twitter/counts_2grams.txt\n",
            "Reading twitter - 1grams ...\n"
          ],
          "name": "stdout"
        }
      ]
    },
    {
      "cell_type": "markdown",
      "metadata": {
        "id": "CmTC_bOj7PKx",
        "colab_type": "text"
      },
      "source": [
        "### Load data"
      ]
    },
    {
      "cell_type": "code",
      "metadata": {
        "id": "coKtYZ0e3hNi",
        "colab_type": "code",
        "colab": {}
      },
      "source": [
        "conversation = []\n",
        "label = []\n",
        "\n",
        "for index, record in training_data.iterrows():\n",
        "    conversation.append(pre_process(record['turn1']) +' <eos> ' + pre_process(record['turn2']) + ' <eos> ' + pre_process(record['turn3']))\n",
        "    label.append(emotion_to_label[record['label']])"
      ],
      "execution_count": 0,
      "outputs": []
    },
    {
      "cell_type": "code",
      "metadata": {
        "id": "uGq1JIh0KjmZ",
        "colab_type": "code",
        "colab": {}
      },
      "source": [
        "test_data = pd.read_csv(os.path.join(datapath, 'test.txt'), sep = '\\t')"
      ],
      "execution_count": 0,
      "outputs": []
    },
    {
      "cell_type": "code",
      "metadata": {
        "id": "5kAYZE2f3kXG",
        "colab_type": "code",
        "colab": {}
      },
      "source": [
        "test_conversation = []\n",
        "test_label = []\n",
        "\n",
        "for index, record in test_data.iterrows():\n",
        "    test_conversation.append(pre_process(record['turn1'])+' <eos> ' + pre_process(record['turn2']) + ' <eos> ' + pre_process(record['turn3']))\n",
        "    test_label.append(emotion_to_label[record['label']])"
      ],
      "execution_count": 0,
      "outputs": []
    },
    {
      "cell_type": "markdown",
      "metadata": {
        "id": "ym4A_38LM4oq",
        "colab_type": "text"
      },
      "source": [
        "### Encoding conversations to fixed sized vector encodings"
      ]
    },
    {
      "cell_type": "code",
      "metadata": {
        "id": "zOZxf04R3xJ1",
        "colab_type": "code",
        "colab": {}
      },
      "source": [
        "def encode_deepmoji(conversation_text):\n",
        "    model = torchmoji_feature_encoding(PRETRAINED_PATH)\n",
        "    vector_size = 30\n",
        "    batch_size = 32\n",
        "    print(\"Tokenizing conversation text\")\n",
        "    with open(VOCAB_PATH, 'r') as f:\n",
        "        vocabulary = json.load(f)\n",
        "    tokenizer = SentenceTokenizer(vocabulary, vector_size)\n",
        "    tokenized_conversation, _, _ = tokenizer.tokenize_sentences(conversation_text)\n",
        "    print(\"Make predictions using Pretrained model: \", model)    \n",
        "    conversation_encoding = np.zeros((len(conversation_text), 2304))\n",
        "    for index in range(0, len(conversation_text), 300):    \n",
        "        conversation_encoding[index : index + 300] = model(tokenized_conversation[index : index + 300])\n",
        "    return conversation_encoding\n",
        "\n",
        "# Use the pre-trained model provided by torcMoji\n",
        "# which is a PyTorch implementation of DeepMoji\n",
        "def encode_emoji(conversation_text):\n",
        "    model = torchmoji_emojis(PRETRAINED_PATH)\n",
        "    vector_size = 30\n",
        "    batch_size = 32\n",
        "    print(\"Tokenizing conversation text\")\n",
        "    with open(VOCAB_PATH, 'r') as f:\n",
        "        vocabulary = json.load(f)\n",
        "    tokenizer = SentenceTokenizer(vocabulary, vector_size)\n",
        "    tokenized_conversation, _, _ = tokenizer.tokenize_sentences(conversation_text)\n",
        "    print(\"Make predictions using Pretrained model: \", model)    \n",
        "    conversation_encoding = np.zeros((len(conversation_text), 64))\n",
        "    for index in range(0, len(conversation_text), 300):    \n",
        "        conversation_encoding[index : index + 300] = model(tokenized_conversation[index : index + 300])\n",
        "    return conversation_encoding"
      ],
      "execution_count": 0,
      "outputs": []
    },
    {
      "cell_type": "markdown",
      "metadata": {
        "id": "PrlPDy0v7ZJL",
        "colab_type": "text"
      },
      "source": [
        "### Create vectors"
      ]
    },
    {
      "cell_type": "code",
      "metadata": {
        "id": "kn0B-t-YPTeV",
        "colab_type": "code",
        "outputId": "06bfa30c-6bd3-46cb-b2d9-8a27af24540d",
        "colab": {
          "base_uri": "https://localhost:8080/",
          "height": 696
        }
      },
      "source": [
        "conversation_encoding_vector = encode_deepmoji(conversation)"
      ],
      "execution_count": 22,
      "outputs": [
        {
          "output_type": "stream",
          "text": [
            "/content/contextual_emotion_detection/torchMoji/torchmoji/model_def.py:159: UserWarning: nn.init.uniform is now deprecated in favor of nn.init.uniform_.\n",
            "  nn.init.uniform(self.embed.weight.data, a=-0.5, b=0.5)\n",
            "/content/contextual_emotion_detection/torchMoji/torchmoji/model_def.py:161: UserWarning: nn.init.xavier_uniform is now deprecated in favor of nn.init.xavier_uniform_.\n",
            "  nn.init.xavier_uniform(t)\n",
            "/content/contextual_emotion_detection/torchMoji/torchmoji/model_def.py:163: UserWarning: nn.init.orthogonal is now deprecated in favor of nn.init.orthogonal_.\n",
            "  nn.init.orthogonal(t)\n",
            "/content/contextual_emotion_detection/torchMoji/torchmoji/model_def.py:165: UserWarning: nn.init.constant is now deprecated in favor of nn.init.constant_.\n",
            "  nn.init.constant(t, 0)\n"
          ],
          "name": "stderr"
        },
        {
          "output_type": "stream",
          "text": [
            "Loading weights for embed.weight\n",
            "Loading weights for lstm_0.weight_ih_l0\n",
            "Loading weights for lstm_0.weight_hh_l0\n",
            "Loading weights for lstm_0.bias_ih_l0\n",
            "Loading weights for lstm_0.bias_hh_l0\n",
            "Loading weights for lstm_0.weight_ih_l0_reverse\n",
            "Loading weights for lstm_0.weight_hh_l0_reverse\n",
            "Loading weights for lstm_0.bias_ih_l0_reverse\n",
            "Loading weights for lstm_0.bias_hh_l0_reverse\n",
            "Loading weights for lstm_1.weight_ih_l0\n",
            "Loading weights for lstm_1.weight_hh_l0\n",
            "Loading weights for lstm_1.bias_ih_l0\n",
            "Loading weights for lstm_1.bias_hh_l0\n",
            "Loading weights for lstm_1.weight_ih_l0_reverse\n",
            "Loading weights for lstm_1.weight_hh_l0_reverse\n",
            "Loading weights for lstm_1.bias_ih_l0_reverse\n",
            "Loading weights for lstm_1.bias_hh_l0_reverse\n",
            "Loading weights for attention_layer.attention_vector\n",
            "Ignoring weights for output_layer.0.weight\n",
            "Ignoring weights for output_layer.0.bias\n",
            "Tokenizing conversation text\n",
            "Make predictions using Pretrained model:  TorchMoji(\n",
            "  (embed): Embedding(50000, 256)\n",
            "  (embed_dropout): Dropout2d(p=0)\n",
            "  (lstm_0): LSTMHardSigmoid(256, 512, batch_first=True, bidirectional=True)\n",
            "  (lstm_1): LSTMHardSigmoid(1024, 512, batch_first=True, bidirectional=True)\n",
            "  (attention_layer): Attention(2304, return attention=False)\n",
            ")\n"
          ],
          "name": "stdout"
        },
        {
          "output_type": "stream",
          "text": [
            "/usr/local/lib/python3.6/dist-packages/torch/nn/functional.py:1320: UserWarning: nn.functional.tanh is deprecated. Use torch.tanh instead.\n",
            "  warnings.warn(\"nn.functional.tanh is deprecated. Use torch.tanh instead.\")\n"
          ],
          "name": "stderr"
        }
      ]
    },
    {
      "cell_type": "code",
      "metadata": {
        "id": "QvEQnnoBqfcW",
        "colab_type": "code",
        "outputId": "b9b9616c-f92b-4b20-a916-265bc78a4101",
        "colab": {
          "base_uri": "https://localhost:8080/",
          "height": 696
        }
      },
      "source": [
        "test_conversation_encoding_vector = encode_deepmoji(test_conversation)"
      ],
      "execution_count": 23,
      "outputs": [
        {
          "output_type": "stream",
          "text": [
            "/content/contextual_emotion_detection/torchMoji/torchmoji/model_def.py:159: UserWarning: nn.init.uniform is now deprecated in favor of nn.init.uniform_.\n",
            "  nn.init.uniform(self.embed.weight.data, a=-0.5, b=0.5)\n",
            "/content/contextual_emotion_detection/torchMoji/torchmoji/model_def.py:161: UserWarning: nn.init.xavier_uniform is now deprecated in favor of nn.init.xavier_uniform_.\n",
            "  nn.init.xavier_uniform(t)\n",
            "/content/contextual_emotion_detection/torchMoji/torchmoji/model_def.py:163: UserWarning: nn.init.orthogonal is now deprecated in favor of nn.init.orthogonal_.\n",
            "  nn.init.orthogonal(t)\n",
            "/content/contextual_emotion_detection/torchMoji/torchmoji/model_def.py:165: UserWarning: nn.init.constant is now deprecated in favor of nn.init.constant_.\n",
            "  nn.init.constant(t, 0)\n"
          ],
          "name": "stderr"
        },
        {
          "output_type": "stream",
          "text": [
            "Loading weights for embed.weight\n",
            "Loading weights for lstm_0.weight_ih_l0\n",
            "Loading weights for lstm_0.weight_hh_l0\n",
            "Loading weights for lstm_0.bias_ih_l0\n",
            "Loading weights for lstm_0.bias_hh_l0\n",
            "Loading weights for lstm_0.weight_ih_l0_reverse\n",
            "Loading weights for lstm_0.weight_hh_l0_reverse\n",
            "Loading weights for lstm_0.bias_ih_l0_reverse\n",
            "Loading weights for lstm_0.bias_hh_l0_reverse\n",
            "Loading weights for lstm_1.weight_ih_l0\n",
            "Loading weights for lstm_1.weight_hh_l0\n",
            "Loading weights for lstm_1.bias_ih_l0\n",
            "Loading weights for lstm_1.bias_hh_l0\n",
            "Loading weights for lstm_1.weight_ih_l0_reverse\n",
            "Loading weights for lstm_1.weight_hh_l0_reverse\n",
            "Loading weights for lstm_1.bias_ih_l0_reverse\n",
            "Loading weights for lstm_1.bias_hh_l0_reverse\n",
            "Loading weights for attention_layer.attention_vector\n",
            "Ignoring weights for output_layer.0.weight\n",
            "Ignoring weights for output_layer.0.bias\n",
            "Tokenizing conversation text\n",
            "Make predictions using Pretrained model:  TorchMoji(\n",
            "  (embed): Embedding(50000, 256)\n",
            "  (embed_dropout): Dropout2d(p=0)\n",
            "  (lstm_0): LSTMHardSigmoid(256, 512, batch_first=True, bidirectional=True)\n",
            "  (lstm_1): LSTMHardSigmoid(1024, 512, batch_first=True, bidirectional=True)\n",
            "  (attention_layer): Attention(2304, return attention=False)\n",
            ")\n"
          ],
          "name": "stdout"
        },
        {
          "output_type": "stream",
          "text": [
            "/usr/local/lib/python3.6/dist-packages/torch/nn/functional.py:1320: UserWarning: nn.functional.tanh is deprecated. Use torch.tanh instead.\n",
            "  warnings.warn(\"nn.functional.tanh is deprecated. Use torch.tanh instead.\")\n"
          ],
          "name": "stderr"
        }
      ]
    },
    {
      "cell_type": "code",
      "metadata": {
        "id": "mhiN_W9IAZPi",
        "colab_type": "code",
        "colab": {}
      },
      "source": [
        "%mkdir deepemoji_embeddings"
      ],
      "execution_count": 0,
      "outputs": []
    },
    {
      "cell_type": "code",
      "metadata": {
        "id": "5Cz59jxyAhXO",
        "colab_type": "code",
        "colab": {}
      },
      "source": [
        "np.save(os.path.join(dirpath, 'deepemoji_embeddings', 'conversation_encoding_vector'), conversation_encoding_vector)"
      ],
      "execution_count": 0,
      "outputs": []
    },
    {
      "cell_type": "code",
      "metadata": {
        "id": "pRBxegwqBLPt",
        "colab_type": "code",
        "colab": {}
      },
      "source": [
        "np.save(os.path.join(dirpath, 'deepemoji_embeddings', 'test_conversation_encoding_vector'), test_conversation_encoding_vector)"
      ],
      "execution_count": 0,
      "outputs": []
    },
    {
      "cell_type": "markdown",
      "metadata": {
        "id": "698G0t2cBVNX",
        "colab_type": "text"
      },
      "source": [
        "### Load saved vectors"
      ]
    },
    {
      "cell_type": "code",
      "metadata": {
        "id": "SKbU8qO7BWG2",
        "colab_type": "code",
        "colab": {}
      },
      "source": [
        "conversation_encoding_vector = np.load(os.path.join(dirpath, 'deepemoji_embeddings', 'conversation_encoding_vector.npy'))\n",
        "test_conversation_encoding_vector = np.load(os.path.join(dirpath, 'deepemoji_embeddings', 'test_conversation_encoding_vector.npy'))"
      ],
      "execution_count": 0,
      "outputs": []
    },
    {
      "cell_type": "code",
      "metadata": {
        "id": "c4nRgqhVBpeb",
        "colab_type": "code",
        "outputId": "a3f767ff-c8c9-4afa-db67-32c956000190",
        "colab": {
          "base_uri": "https://localhost:8080/",
          "height": 52
        }
      },
      "source": [
        "print(conversation_encoding_vector.shape)\n",
        "print(test_conversation_encoding_vector.shape)"
      ],
      "execution_count": 28,
      "outputs": [
        {
          "output_type": "stream",
          "text": [
            "(30160, 2304)\n",
            "(5509, 2304)\n"
          ],
          "name": "stdout"
        }
      ]
    },
    {
      "cell_type": "code",
      "metadata": {
        "id": "qsUiyUiwBp5t",
        "colab_type": "code",
        "outputId": "4485ac40-6646-4f13-8f07-afd5f542eb84",
        "colab": {
          "base_uri": "https://localhost:8080/",
          "height": 731
        }
      },
      "source": [
        "emoji_all = encode_emoji(conversation)\n",
        "emoji_test = encode_emoji(test_conversation)"
      ],
      "execution_count": 29,
      "outputs": [
        {
          "output_type": "stream",
          "text": [
            "/content/contextual_emotion_detection/torchMoji/torchmoji/model_def.py:159: UserWarning: nn.init.uniform is now deprecated in favor of nn.init.uniform_.\n",
            "  nn.init.uniform(self.embed.weight.data, a=-0.5, b=0.5)\n",
            "/content/contextual_emotion_detection/torchMoji/torchmoji/model_def.py:161: UserWarning: nn.init.xavier_uniform is now deprecated in favor of nn.init.xavier_uniform_.\n",
            "  nn.init.xavier_uniform(t)\n",
            "/content/contextual_emotion_detection/torchMoji/torchmoji/model_def.py:163: UserWarning: nn.init.orthogonal is now deprecated in favor of nn.init.orthogonal_.\n",
            "  nn.init.orthogonal(t)\n",
            "/content/contextual_emotion_detection/torchMoji/torchmoji/model_def.py:165: UserWarning: nn.init.constant is now deprecated in favor of nn.init.constant_.\n",
            "  nn.init.constant(t, 0)\n",
            "/content/contextual_emotion_detection/torchMoji/torchmoji/model_def.py:167: UserWarning: nn.init.xavier_uniform is now deprecated in favor of nn.init.xavier_uniform_.\n",
            "  nn.init.xavier_uniform(self.output_layer[0].weight.data)\n"
          ],
          "name": "stderr"
        },
        {
          "output_type": "stream",
          "text": [
            "Tokenizing conversation text\n",
            "Make predictions using Pretrained model:  TorchMoji(\n",
            "  (embed): Embedding(50000, 256)\n",
            "  (embed_dropout): Dropout2d(p=0)\n",
            "  (lstm_0): LSTMHardSigmoid(256, 512, batch_first=True, bidirectional=True)\n",
            "  (lstm_1): LSTMHardSigmoid(1024, 512, batch_first=True, bidirectional=True)\n",
            "  (attention_layer): Attention(2304, return attention=False)\n",
            "  (final_dropout): Dropout(p=0)\n",
            "  (output_layer): Sequential(\n",
            "    (0): Linear(in_features=2304, out_features=64, bias=True)\n",
            "    (1): Softmax()\n",
            "  )\n",
            ")\n"
          ],
          "name": "stdout"
        },
        {
          "output_type": "stream",
          "text": [
            "/usr/local/lib/python3.6/dist-packages/torch/nn/functional.py:1320: UserWarning: nn.functional.tanh is deprecated. Use torch.tanh instead.\n",
            "  warnings.warn(\"nn.functional.tanh is deprecated. Use torch.tanh instead.\")\n",
            "/usr/local/lib/python3.6/dist-packages/torch/nn/modules/container.py:92: UserWarning: Implicit dimension choice for softmax has been deprecated. Change the call to include dim=X as an argument.\n",
            "  input = module(input)\n"
          ],
          "name": "stderr"
        },
        {
          "output_type": "stream",
          "text": [
            "Tokenizing conversation text\n",
            "Make predictions using Pretrained model:  TorchMoji(\n",
            "  (embed): Embedding(50000, 256)\n",
            "  (embed_dropout): Dropout2d(p=0)\n",
            "  (lstm_0): LSTMHardSigmoid(256, 512, batch_first=True, bidirectional=True)\n",
            "  (lstm_1): LSTMHardSigmoid(1024, 512, batch_first=True, bidirectional=True)\n",
            "  (attention_layer): Attention(2304, return attention=False)\n",
            "  (final_dropout): Dropout(p=0)\n",
            "  (output_layer): Sequential(\n",
            "    (0): Linear(in_features=2304, out_features=64, bias=True)\n",
            "    (1): Softmax()\n",
            "  )\n",
            ")\n"
          ],
          "name": "stdout"
        }
      ]
    },
    {
      "cell_type": "code",
      "metadata": {
        "id": "uQ4tkpmBBwKl",
        "colab_type": "code",
        "outputId": "5f5ff332-8c25-4419-ebbd-1cc601917b42",
        "colab": {
          "base_uri": "https://localhost:8080/",
          "height": 35
        }
      },
      "source": [
        "tokens = [v for k,v in label_to_emotion.items()]\n",
        "tokens"
      ],
      "execution_count": 30,
      "outputs": [
        {
          "output_type": "execute_result",
          "data": {
            "text/plain": [
              "['others', 'happy', 'sad', 'angry']"
            ]
          },
          "metadata": {
            "tags": []
          },
          "execution_count": 30
        }
      ]
    },
    {
      "cell_type": "code",
      "metadata": {
        "id": "_7WdR9AWCyDK",
        "colab_type": "code",
        "colab": {}
      },
      "source": [
        "label = np.array(label)\n",
        "indices_of_other_records = np.where(label == 0)[0]"
      ],
      "execution_count": 0,
      "outputs": []
    },
    {
      "cell_type": "code",
      "metadata": {
        "id": "dwlTOUGIDT6I",
        "colab_type": "code",
        "colab": {}
      },
      "source": [
        "selected_record_indices = np.r_[np.random.choice(indices_of_other_records, 6000), np.where(label == 1)[0], np.where(label == 2)[0], np.where(label == 3)[0]]"
      ],
      "execution_count": 0,
      "outputs": []
    },
    {
      "cell_type": "code",
      "metadata": {
        "id": "66c3u6s7DXny",
        "colab_type": "code",
        "outputId": "0613e823-5481-42f5-b8a4-11a562c2a098",
        "colab": {
          "base_uri": "https://localhost:8080/",
          "height": 35
        }
      },
      "source": [
        "selected_record_indices.shape"
      ],
      "execution_count": 33,
      "outputs": [
        {
          "output_type": "execute_result",
          "data": {
            "text/plain": [
              "(21212,)"
            ]
          },
          "metadata": {
            "tags": []
          },
          "execution_count": 33
        }
      ]
    },
    {
      "cell_type": "code",
      "metadata": {
        "id": "XRVIzdOYDY7r",
        "colab_type": "code",
        "colab": {}
      },
      "source": [
        "deepmoji_train = conversation_encoding_vector[selected_record_indices]\n",
        "labels_train = label[selected_record_indices]\n",
        "emoji_train = emoji_all[selected_record_indices]"
      ],
      "execution_count": 0,
      "outputs": []
    },
    {
      "cell_type": "code",
      "metadata": {
        "id": "tRcFBha-Dcoc",
        "colab_type": "code",
        "colab": {}
      },
      "source": [
        "deepmoji_test = test_conversation_encoding_vector"
      ],
      "execution_count": 0,
      "outputs": []
    },
    {
      "cell_type": "markdown",
      "metadata": {
        "id": "X_lHKDnwDitq",
        "colab_type": "text"
      },
      "source": [
        "### Models"
      ]
    },
    {
      "cell_type": "code",
      "metadata": {
        "id": "rbZPucEvDd4Y",
        "colab_type": "code",
        "colab": {}
      },
      "source": [
        "from sklearn import metrics, svm\n",
        "from sklearn.naive_bayes import MultinomialNB\n",
        "from sklearn.preprocessing import MinMaxScaler\n",
        "from sklearn.pipeline import Pipeline\n",
        "import itertools\n",
        "from sklearn.linear_model import LogisticRegression\n",
        "import seaborn as sn\n",
        "import matplotlib.cm as cm"
      ],
      "execution_count": 0,
      "outputs": []
    },
    {
      "cell_type": "code",
      "metadata": {
        "id": "T_u8TingDl4r",
        "colab_type": "code",
        "colab": {}
      },
      "source": [
        "def plot_confusion_matrix(cm, \n",
        "                          classes, \n",
        "                          normalize = False, \n",
        "                          cmap = cm.YlGn, \n",
        "                          png_output = None, \n",
        "                          show = True):\n",
        "        if normalize:\n",
        "            cm = cm.astype('float') / cm.sum(axis=1)[:, np.newaxis]\n",
        "            title='Normalized confusion matrix'\n",
        "        else:\n",
        "            title='Confusion matrix'\n",
        "\n",
        "        # Calculate chart area size\n",
        "        leftmargin = 0.5 # inches\n",
        "        rightmargin = 0.5 # inches\n",
        "        categorysize = 0.5 # inches\n",
        "        figwidth = leftmargin + rightmargin + (len(classes) * categorysize) + 2          \n",
        "\n",
        "        f = plt.figure(figsize = (figwidth, figwidth))\n",
        "\n",
        "        # Create an axes instance and ajust the subplot size\n",
        "        ax = f.add_subplot(111)\n",
        "        ax.set_aspect(1)\n",
        "        f.subplots_adjust(left = leftmargin/figwidth, right = 1 - rightmargin/figwidth, top = 0.94, bottom = 0.1)\n",
        "\n",
        "        res = ax.imshow(cm, interpolation = 'nearest', cmap = cmap)\n",
        "\n",
        "        plt.title(title)\n",
        "        plt.colorbar(res)\n",
        "        ax.set_xticks(range(len(classes)))\n",
        "        ax.set_yticks(range(len(classes)))\n",
        "        ax.set_xticklabels(classes, rotation = 45, ha='right')\n",
        "        ax.set_yticklabels(classes)\n",
        "\n",
        "        fmt = '.2f' if normalize else 'd'\n",
        "        thresh = cm.max() / 2.\n",
        "        for i, j in itertools.product(range(cm.shape[0]), range(cm.shape[1])):\n",
        "            ax.text(j, i, format(cm[i, j], fmt),\n",
        "                    horizontalalignment = \"center\",\n",
        "                    color = \"white\" if cm[i, j] > thresh else \"black\")\n",
        "\n",
        "        # plt.tight_layout()\n",
        "        plt.ylabel('True label')\n",
        "        plt.xlabel('Predicted label')\n",
        "\n",
        "        if png_output is not None:\n",
        "            os.makedirs(png_output, exist_ok = True)\n",
        "            f.savefig(os.path.join(png_output,'confusion_matrix.png'), bbox_inches = 'tight')\n",
        "\n",
        "        if show:\n",
        "            plt.show()\n",
        "            plt.close(f)\n",
        "        else:\n",
        "            plt.close(f)"
      ],
      "execution_count": 0,
      "outputs": []
    },
    {
      "cell_type": "code",
      "metadata": {
        "id": "OAt790y126Km",
        "colab_type": "code",
        "colab": {}
      },
      "source": [
        "def print_metrics(prediction):\n",
        "    print(metrics.classification_report(test_label, prediction, target_names = tokens))\n",
        "    print(\"Accuracy:\", metrics.accuracy_score(test_label, prediction))\n",
        "    print(\"Precision:\", metrics.precision_score(test_label, prediction, average = 'macro'))\n",
        "    print(\"Recall:\", metrics.recall_score(test_label, prediction, average = 'macro'))\n",
        "    print(\"F1 score: \", metrics.f1_score(test_label, prediction, average = 'macro'))"
      ],
      "execution_count": 0,
      "outputs": []
    },
    {
      "cell_type": "markdown",
      "metadata": {
        "id": "SsDLNgI8DsB-",
        "colab_type": "text"
      },
      "source": [
        "### Logistic Regression"
      ]
    },
    {
      "cell_type": "code",
      "metadata": {
        "id": "6HfIQyC-DqYX",
        "colab_type": "code",
        "outputId": "db8d4a09-dd49-49f7-8b48-8d55c1b8683f",
        "colab": {
          "base_uri": "https://localhost:8080/",
          "height": 280
        }
      },
      "source": [
        "logistic_regression = Pipeline([('scaler', MinMaxScaler()), ('clf', LogisticRegression(random_state = 0))])\n",
        "logistic_regression.fit(deepmoji_train, labels_train)"
      ],
      "execution_count": 39,
      "outputs": [
        {
          "output_type": "stream",
          "text": [
            "/usr/local/lib/python3.6/dist-packages/sklearn/linear_model/logistic.py:432: FutureWarning: Default solver will be changed to 'lbfgs' in 0.22. Specify a solver to silence this warning.\n",
            "  FutureWarning)\n",
            "/usr/local/lib/python3.6/dist-packages/sklearn/linear_model/logistic.py:469: FutureWarning: Default multi_class will be changed to 'auto' in 0.22. Specify the multi_class option to silence this warning.\n",
            "  \"this warning.\", FutureWarning)\n"
          ],
          "name": "stderr"
        },
        {
          "output_type": "execute_result",
          "data": {
            "text/plain": [
              "Pipeline(memory=None,\n",
              "         steps=[('scaler', MinMaxScaler(copy=True, feature_range=(0, 1))),\n",
              "                ('clf',\n",
              "                 LogisticRegression(C=1.0, class_weight=None, dual=False,\n",
              "                                    fit_intercept=True, intercept_scaling=1,\n",
              "                                    l1_ratio=None, max_iter=100,\n",
              "                                    multi_class='warn', n_jobs=None,\n",
              "                                    penalty='l2', random_state=0, solver='warn',\n",
              "                                    tol=0.0001, verbose=0, warm_start=False))],\n",
              "         verbose=False)"
            ]
          },
          "metadata": {
            "tags": []
          },
          "execution_count": 39
        }
      ]
    },
    {
      "cell_type": "code",
      "metadata": {
        "id": "gyOaug-FE6YI",
        "colab_type": "code",
        "colab": {
          "base_uri": "https://localhost:8080/",
          "height": 277
        },
        "outputId": "bd9cd830-caf6-4e4f-cde6-500d9b4d479c"
      },
      "source": [
        "logistic_regression_predictions = logistic_regression.predict(deepmoji_test)\n",
        "print_metrics(logistic_regression_predictions)"
      ],
      "execution_count": 40,
      "outputs": [
        {
          "output_type": "stream",
          "text": [
            "              precision    recall  f1-score   support\n",
            "\n",
            "      others       0.97      0.78      0.86      4677\n",
            "       happy       0.31      0.70      0.43       284\n",
            "         sad       0.37      0.71      0.49       250\n",
            "       angry       0.39      0.84      0.54       298\n",
            "\n",
            "    accuracy                           0.77      5509\n",
            "   macro avg       0.51      0.76      0.58      5509\n",
            "weighted avg       0.88      0.77      0.80      5509\n",
            "\n",
            "Accuracy: 0.7727355236885097\n",
            "Precision: 0.5110081626603824\n",
            "Recall: 0.7585545392786119\n",
            "F1 score:  0.579214561757912\n"
          ],
          "name": "stdout"
        }
      ]
    },
    {
      "cell_type": "code",
      "metadata": {
        "id": "LMlEyiGhEYKR",
        "colab_type": "code",
        "outputId": "db1af832-1fa1-4089-d29f-00da94d90ba2",
        "colab": {
          "base_uri": "https://localhost:8080/",
          "height": 403
        }
      },
      "source": [
        "plot_confusion_matrix(metrics.confusion_matrix(test_label, logistic_regression_predictions), tokens)\n",
        "plt.show()\n",
        "metrics.confusion_matrix(test_label, logistic_regression_predictions)"
      ],
      "execution_count": 73,
      "outputs": [
        {
          "output_type": "display_data",
          "data": {
            "image/png": "[encoded data removed]",
            "text/plain": [
              "<Figure size 360x360 with 2 Axes>"
            ]
          },
          "metadata": {
            "tags": []
          }
        },
        {
          "output_type": "execute_result",
          "data": {
            "text/plain": [
              "array([[3628,  424,  269,  356],\n",
              "       [  59,  200,   15,   10],\n",
              "       [  35,   16,  178,   21],\n",
              "       [  24,    9,   14,  251]])"
            ]
          },
          "metadata": {
            "tags": []
          },
          "execution_count": 73
        }
      ]
    },
    {
      "cell_type": "code",
      "metadata": {
        "id": "A7yS_onuDzHG",
        "colab_type": "code",
        "outputId": "f8f7c8af-4f76-4849-e6c4-a07b5bfbc697",
        "colab": {
          "base_uri": "https://localhost:8080/",
          "height": 367
        }
      },
      "source": [
        "logistic_regression = LogisticRegression(random_state = 0)\n",
        "logistic_regression.fit(deepmoji_train, labels_train) \n",
        "logistic_regression_predictions = logistic_regression.predict(deepmoji_test)\n",
        "print_metrics(logistic_regression_predictions)"
      ],
      "execution_count": 76,
      "outputs": [
        {
          "output_type": "stream",
          "text": [
            "/usr/local/lib/python3.6/dist-packages/sklearn/linear_model/logistic.py:432: FutureWarning: Default solver will be changed to 'lbfgs' in 0.22. Specify a solver to silence this warning.\n",
            "  FutureWarning)\n",
            "/usr/local/lib/python3.6/dist-packages/sklearn/linear_model/logistic.py:469: FutureWarning: Default multi_class will be changed to 'auto' in 0.22. Specify the multi_class option to silence this warning.\n",
            "  \"this warning.\", FutureWarning)\n"
          ],
          "name": "stderr"
        },
        {
          "output_type": "stream",
          "text": [
            "              precision    recall  f1-score   support\n",
            "\n",
            "      others       0.97      0.78      0.86      4677\n",
            "       happy       0.32      0.68      0.44       284\n",
            "         sad       0.38      0.71      0.49       250\n",
            "       angry       0.37      0.83      0.51       298\n",
            "\n",
            "    accuracy                           0.77      5509\n",
            "   macro avg       0.51      0.75      0.58      5509\n",
            "weighted avg       0.87      0.77      0.81      5509\n",
            "\n",
            "Accuracy: 0.7738246505717916\n",
            "Precision: 0.5091537412509763\n",
            "Recall: 0.7490403734929938\n",
            "F1 score:  0.576280061534569\n"
          ],
          "name": "stdout"
        }
      ]
    },
    {
      "cell_type": "code",
      "metadata": {
        "id": "g3rBEUDLvDN9",
        "colab_type": "code",
        "colab": {
          "base_uri": "https://localhost:8080/",
          "height": 403
        },
        "outputId": "e2fa7351-b491-41b3-8b9c-831126abc35c"
      },
      "source": [
        "plot_confusion_matrix(metrics.confusion_matrix(test_label, logistic_regression_predictions), tokens)\n",
        "plt.show()\n",
        "metrics.confusion_matrix(test_label, logistic_regression_predictions)"
      ],
      "execution_count": 77,
      "outputs": [
        {
          "output_type": "display_data",
          "data": {
            "image/png": "[encoded data removed]",
            "text/plain": [
              "<Figure size 360x360 with 2 Axes>"
            ]
          },
          "metadata": {
            "tags": []
          }
        },
        {
          "output_type": "execute_result",
          "data": {
            "text/plain": [
              "array([[3646,  386,  261,  384],\n",
              "       [  65,  194,   16,    9],\n",
              "       [  38,   14,  177,   21],\n",
              "       [  26,   11,   15,  246]])"
            ]
          },
          "metadata": {
            "tags": []
          },
          "execution_count": 77
        }
      ]
    },
    {
      "cell_type": "code",
      "metadata": {
        "id": "i6yKWcKuM206",
        "colab_type": "code",
        "outputId": "451c4efe-34b6-4f1e-8e2f-591899627b99",
        "colab": {
          "base_uri": "https://localhost:8080/",
          "height": 367
        }
      },
      "source": [
        "logistic_regression = LogisticRegression(random_state = 0).fit(conversation_encoding_vector, label)\n",
        "logistic_regression_predictions = logistic_regression.predict(deepmoji_test)\n",
        "print_metrics(logistic_regression_predictions)"
      ],
      "execution_count": 80,
      "outputs": [
        {
          "output_type": "stream",
          "text": [
            "/usr/local/lib/python3.6/dist-packages/sklearn/linear_model/logistic.py:432: FutureWarning: Default solver will be changed to 'lbfgs' in 0.22. Specify a solver to silence this warning.\n",
            "  FutureWarning)\n",
            "/usr/local/lib/python3.6/dist-packages/sklearn/linear_model/logistic.py:469: FutureWarning: Default multi_class will be changed to 'auto' in 0.22. Specify the multi_class option to silence this warning.\n",
            "  \"this warning.\", FutureWarning)\n"
          ],
          "name": "stderr"
        },
        {
          "output_type": "stream",
          "text": [
            "              precision    recall  f1-score   support\n",
            "\n",
            "      others       0.95      0.89      0.92      4677\n",
            "       happy       0.45      0.52      0.48       284\n",
            "         sad       0.51      0.64      0.57       250\n",
            "       angry       0.51      0.78      0.62       298\n",
            "\n",
            "    accuracy                           0.86      5509\n",
            "   macro avg       0.61      0.71      0.65      5509\n",
            "weighted avg       0.88      0.86      0.87      5509\n",
            "\n",
            "Accuracy: 0.8571428571428571\n",
            "Precision: 0.6050265191526082\n",
            "Recall: 0.7092387669683302\n",
            "F1 score:  0.6473441923387087\n"
          ],
          "name": "stdout"
        }
      ]
    },
    {
      "cell_type": "code",
      "metadata": {
        "id": "mYfVpfsY0CbS",
        "colab_type": "code",
        "colab": {
          "base_uri": "https://localhost:8080/",
          "height": 403
        },
        "outputId": "90e70600-f508-42f4-fe58-978fdff43d33"
      },
      "source": [
        "plot_confusion_matrix(metrics.confusion_matrix(test_label, logistic_regression_predictions), tokens)\n",
        "plt.show()\n",
        "metrics.confusion_matrix(test_label, logistic_regression_predictions)"
      ],
      "execution_count": 81,
      "outputs": [
        {
          "output_type": "display_data",
          "data": {
            "image/png": "[encoded data removed]",
            "text/plain": [
              "<Figure size 360x360 with 2 Axes>"
            ]
          },
          "metadata": {
            "tags": []
          }
        },
        {
          "output_type": "execute_result",
          "data": {
            "text/plain": [
              "array([[4181,  169,  130,  197],\n",
              "       [ 117,  148,   10,    9],\n",
              "       [  64,    8,  160,   18],\n",
              "       [  49,    3,   13,  233]])"
            ]
          },
          "metadata": {
            "tags": []
          },
          "execution_count": 81
        }
      ]
    },
    {
      "cell_type": "code",
      "metadata": {
        "id": "76Z71silM6ez",
        "colab_type": "code",
        "outputId": "8ce31740-3dda-432a-9d6d-9479e95f37e3",
        "colab": {
          "base_uri": "https://localhost:8080/",
          "height": 752
        }
      },
      "source": [
        "logistic_regression = LogisticRegression(random_state = 0).fit(emoji_train, labels_train)\n",
        "logistic_regression_predictions = logistic_regression.predict(emoji_test)\n",
        "print_metrics(logistic_regression_predictions)\n",
        "plot_confusion_matrix(metrics.confusion_matrix(test_label, logistic_regression_predictions), tokens)\n",
        "plt.show()\n",
        "metrics.confusion_matrix(test_label, logistic_regression_predictions)"
      ],
      "execution_count": 82,
      "outputs": [
        {
          "output_type": "stream",
          "text": [
            "/usr/local/lib/python3.6/dist-packages/sklearn/linear_model/logistic.py:432: FutureWarning: Default solver will be changed to 'lbfgs' in 0.22. Specify a solver to silence this warning.\n",
            "  FutureWarning)\n",
            "/usr/local/lib/python3.6/dist-packages/sklearn/linear_model/logistic.py:469: FutureWarning: Default multi_class will be changed to 'auto' in 0.22. Specify the multi_class option to silence this warning.\n",
            "  \"this warning.\", FutureWarning)\n"
          ],
          "name": "stderr"
        },
        {
          "output_type": "stream",
          "text": [
            "              precision    recall  f1-score   support\n",
            "\n",
            "      others       0.91      0.71      0.80      4677\n",
            "       happy       0.17      0.36      0.23       284\n",
            "         sad       0.26      0.52      0.35       250\n",
            "       angry       0.26      0.66      0.38       298\n",
            "\n",
            "    accuracy                           0.68      5509\n",
            "   macro avg       0.40      0.56      0.44      5509\n",
            "weighted avg       0.81      0.68      0.72      5509\n",
            "\n",
            "Accuracy: 0.6792521328734797\n",
            "Precision: 0.39975695499397956\n",
            "Recall: 0.5647060523970834\n",
            "F1 score:  0.43669716339221204\n"
          ],
          "name": "stdout"
        },
        {
          "output_type": "display_data",
          "data": {
            "image/png": "[encoded data removed]",
            "text/plain": [
              "<Figure size 360x360 with 2 Axes>"
            ]
          },
          "metadata": {
            "tags": []
          }
        },
        {
          "output_type": "execute_result",
          "data": {
            "text/plain": [
              "array([[3310,  505,  346,  516],\n",
              "       [ 159,  103,    9,   13],\n",
              "       [  83,    7,  131,   29],\n",
              "       [  74,    4,   22,  198]])"
            ]
          },
          "metadata": {
            "tags": []
          },
          "execution_count": 82
        }
      ]
    },
    {
      "cell_type": "code",
      "metadata": {
        "id": "GB8glunhM8I7",
        "colab_type": "code",
        "outputId": "f91943c5-a16c-4668-8ac2-6172916ba600",
        "colab": {
          "base_uri": "https://localhost:8080/",
          "height": 758
        }
      },
      "source": [
        "logistic_regression = LogisticRegression(random_state = 0).fit(emoji_all, label)\n",
        "logistic_regression_predictions = logistic_regression.predict(emoji_test)\n",
        "print_metrics(logistic_regression_predictions)\n",
        "plot_confusion_matrix(metrics.confusion_matrix(test_label, logistic_regression_predictions), tokens)\n",
        "plt.show()\n",
        "metrics.confusion_matrix(test_label, logistic_regression_predictions)"
      ],
      "execution_count": 83,
      "outputs": [
        {
          "output_type": "stream",
          "text": [
            "/usr/local/lib/python3.6/dist-packages/sklearn/linear_model/logistic.py:432: FutureWarning: Default solver will be changed to 'lbfgs' in 0.22. Specify a solver to silence this warning.\n",
            "  FutureWarning)\n",
            "/usr/local/lib/python3.6/dist-packages/sklearn/linear_model/logistic.py:469: FutureWarning: Default multi_class will be changed to 'auto' in 0.22. Specify the multi_class option to silence this warning.\n",
            "  \"this warning.\", FutureWarning)\n"
          ],
          "name": "stderr"
        },
        {
          "output_type": "stream",
          "text": [
            "              precision    recall  f1-score   support\n",
            "\n",
            "      others       0.89      0.94      0.91      4677\n",
            "       happy       0.30      0.04      0.06       284\n",
            "         sad       0.42      0.38      0.40       250\n",
            "       angry       0.46      0.47      0.46       298\n",
            "\n",
            "    accuracy                           0.84      5509\n",
            "   macro avg       0.52      0.45      0.46      5509\n",
            "weighted avg       0.81      0.84      0.82      5509\n",
            "\n",
            "Accuracy: 0.840624432746415\n",
            "Precision: 0.515931836645843\n",
            "Recall: 0.4539656184448747\n",
            "F1 score:  0.45797271479770607\n"
          ],
          "name": "stdout"
        },
        {
          "output_type": "display_data",
          "data": {
            "image/png": "[encoded data removed]",
            "text/plain": [
              "<Figure size 360x360 with 2 Axes>"
            ]
          },
          "metadata": {
            "tags": []
          }
        },
        {
          "output_type": "execute_result",
          "data": {
            "text/plain": [
              "array([[4388,   23,  117,  149],\n",
              "       [ 269,   10,    1,    4],\n",
              "       [ 143,    0,   94,   13],\n",
              "       [ 146,    0,   13,  139]])"
            ]
          },
          "metadata": {
            "tags": []
          },
          "execution_count": 83
        }
      ]
    },
    {
      "cell_type": "markdown",
      "metadata": {
        "id": "uG0yqTeLM-nB",
        "colab_type": "text"
      },
      "source": [
        "### Naive Bayes"
      ]
    },
    {
      "cell_type": "code",
      "metadata": {
        "id": "c1uziWnwM_ZX",
        "colab_type": "code",
        "outputId": "5a33db0f-40d8-4d2f-a85c-df6037177c0e",
        "colab": {
          "base_uri": "https://localhost:8080/",
          "height": 665
        }
      },
      "source": [
        "naive_bayes = Pipeline([('scaler', MinMaxScaler()), ('clf', MultinomialNB())])\n",
        "naive_bayes.fit(deepmoji_train, labels_train)\n",
        "naive_bayes_predictions = naive_bayes.predict(deepmoji_test)\n",
        "print_metrics(naive_bayes_predictions)\n",
        "plot_confusion_matrix(metrics.confusion_matrix(test_label, naive_bayes_predictions), tokens)\n",
        "plt.show()\n",
        "metrics.confusion_matrix(test_label, naive_bayes_predictions)"
      ],
      "execution_count": 85,
      "outputs": [
        {
          "output_type": "stream",
          "text": [
            "              precision    recall  f1-score   support\n",
            "\n",
            "      others       0.93      0.75      0.83      4677\n",
            "       happy       0.27      0.54      0.36       284\n",
            "         sad       0.37      0.54      0.44       250\n",
            "       angry       0.26      0.73      0.39       298\n",
            "\n",
            "    accuracy                           0.73      5509\n",
            "   macro avg       0.46      0.64      0.51      5509\n",
            "weighted avg       0.84      0.73      0.77      5509\n",
            "\n",
            "Accuracy: 0.72898892721002\n",
            "Precision: 0.46062553396209366\n",
            "Recall: 0.6384158984815529\n",
            "F1 score:  0.5054345017418674\n"
          ],
          "name": "stdout"
        },
        {
          "output_type": "display_data",
          "data": {
            "image/png": "[encoded data removed]",
            "text/plain": [
              "<Figure size 360x360 with 2 Axes>"
            ]
          },
          "metadata": {
            "tags": []
          }
        },
        {
          "output_type": "execute_result",
          "data": {
            "text/plain": [
              "array([[3512,  390,  208,  567],\n",
              "       [ 108,  152,    9,   15],\n",
              "       [  80,    9,  134,   27],\n",
              "       [  69,    2,    9,  218]])"
            ]
          },
          "metadata": {
            "tags": []
          },
          "execution_count": 85
        }
      ]
    },
    {
      "cell_type": "code",
      "metadata": {
        "id": "-qkfZnHgNGu7",
        "colab_type": "code",
        "outputId": "afbbfad1-1f77-4a62-cb2f-f86dff9d0cc5",
        "colab": {
          "base_uri": "https://localhost:8080/",
          "height": 793
        }
      },
      "source": [
        "naive_bayes = Pipeline([('clf', MultinomialNB())])\n",
        "naive_bayes.fit(emoji_train, labels_train)\n",
        "naive_bayes_predictions = naive_bayes.predict(emoji_test)\n",
        "print_metrics(naive_bayes_predictions)\n",
        "plot_confusion_matrix(metrics.confusion_matrix(test_label, naive_bayes_predictions), tokens)\n",
        "plt.show()\n",
        "metrics.confusion_matrix(test_label, naive_bayes_predictions)"
      ],
      "execution_count": 86,
      "outputs": [
        {
          "output_type": "stream",
          "text": [
            "/usr/local/lib/python3.6/dist-packages/sklearn/metrics/classification.py:1437: UndefinedMetricWarning: Precision and F-score are ill-defined and being set to 0.0 in labels with no predicted samples.\n",
            "  'precision', 'predicted', average, warn_for)\n",
            "/usr/local/lib/python3.6/dist-packages/sklearn/metrics/classification.py:1437: UndefinedMetricWarning: Precision is ill-defined and being set to 0.0 in labels with no predicted samples.\n",
            "  'precision', 'predicted', average, warn_for)\n",
            "/usr/local/lib/python3.6/dist-packages/sklearn/metrics/classification.py:1437: UndefinedMetricWarning: F-score is ill-defined and being set to 0.0 in labels with no predicted samples.\n",
            "  'precision', 'predicted', average, warn_for)\n"
          ],
          "name": "stderr"
        },
        {
          "output_type": "stream",
          "text": [
            "              precision    recall  f1-score   support\n",
            "\n",
            "      others       0.88      0.90      0.89      4677\n",
            "       happy       0.00      0.00      0.00       284\n",
            "         sad       0.42      0.34      0.38       250\n",
            "       angry       0.27      0.45      0.34       298\n",
            "\n",
            "    accuracy                           0.81      5509\n",
            "   macro avg       0.39      0.43      0.40      5509\n",
            "weighted avg       0.78      0.81      0.79      5509\n",
            "\n",
            "Accuracy: 0.8079506262479579\n",
            "Precision: 0.39262305369971356\n",
            "Recall: 0.42536151206891354\n",
            "F1 score:  0.40202658844873435\n"
          ],
          "name": "stdout"
        },
        {
          "output_type": "display_data",
          "data": {
            "image/png": "[encoded data removed]",
            "text/plain": [
              "<Figure size 360x360 with 2 Axes>"
            ]
          },
          "metadata": {
            "tags": []
          }
        },
        {
          "output_type": "execute_result",
          "data": {
            "text/plain": [
              "array([[4230,    0,  103,  344],\n",
              "       [ 273,    0,    4,    7],\n",
              "       [ 146,    0,   86,   18],\n",
              "       [ 152,    0,   11,  135]])"
            ]
          },
          "metadata": {
            "tags": []
          },
          "execution_count": 86
        }
      ]
    },
    {
      "cell_type": "code",
      "metadata": {
        "id": "YRhSk3oHNJy9",
        "colab_type": "code",
        "outputId": "5d070437-1aab-4167-d58f-13cf9b912f7f",
        "colab": {
          "base_uri": "https://localhost:8080/",
          "height": 793
        }
      },
      "source": [
        "naive_bayes = Pipeline([('clf', MultinomialNB())])\n",
        "naive_bayes.fit(emoji_all, label)\n",
        "naive_bayes_predictions = naive_bayes.predict(emoji_test)\n",
        "print_metrics(naive_bayes_predictions)\n",
        "plot_confusion_matrix(metrics.confusion_matrix(test_label, naive_bayes_predictions), tokens)\n",
        "plt.show()\n",
        "metrics.confusion_matrix(test_label, naive_bayes_predictions)"
      ],
      "execution_count": 87,
      "outputs": [
        {
          "output_type": "stream",
          "text": [
            "/usr/local/lib/python3.6/dist-packages/sklearn/metrics/classification.py:1437: UndefinedMetricWarning: Precision and F-score are ill-defined and being set to 0.0 in labels with no predicted samples.\n",
            "  'precision', 'predicted', average, warn_for)\n",
            "/usr/local/lib/python3.6/dist-packages/sklearn/metrics/classification.py:1437: UndefinedMetricWarning: Precision is ill-defined and being set to 0.0 in labels with no predicted samples.\n",
            "  'precision', 'predicted', average, warn_for)\n",
            "/usr/local/lib/python3.6/dist-packages/sklearn/metrics/classification.py:1437: UndefinedMetricWarning: F-score is ill-defined and being set to 0.0 in labels with no predicted samples.\n",
            "  'precision', 'predicted', average, warn_for)\n"
          ],
          "name": "stderr"
        },
        {
          "output_type": "stream",
          "text": [
            "              precision    recall  f1-score   support\n",
            "\n",
            "      others       0.85      1.00      0.92      4677\n",
            "       happy       0.00      0.00      0.00       284\n",
            "         sad       0.00      0.00      0.00       250\n",
            "       angry       0.00      0.00      0.00       298\n",
            "\n",
            "    accuracy                           0.85      5509\n",
            "   macro avg       0.21      0.25      0.23      5509\n",
            "weighted avg       0.72      0.85      0.78      5509\n",
            "\n",
            "Accuracy: 0.8489744055182429\n",
            "Precision: 0.21224360137956072\n",
            "Recall: 0.25\n",
            "F1 score:  0.22957981543294717\n"
          ],
          "name": "stdout"
        },
        {
          "output_type": "display_data",
          "data": {
            "image/png": "[encoded data removed]",
            "text/plain": [
              "<Figure size 360x360 with 2 Axes>"
            ]
          },
          "metadata": {
            "tags": []
          }
        },
        {
          "output_type": "execute_result",
          "data": {
            "text/plain": [
              "array([[4677,    0,    0,    0],\n",
              "       [ 284,    0,    0,    0],\n",
              "       [ 250,    0,    0,    0],\n",
              "       [ 298,    0,    0,    0]])"
            ]
          },
          "metadata": {
            "tags": []
          },
          "execution_count": 87
        }
      ]
    },
    {
      "cell_type": "markdown",
      "metadata": {
        "id": "vRNG8t0VNNCW",
        "colab_type": "text"
      },
      "source": [
        "### SVM - One vs One\n"
      ]
    },
    {
      "cell_type": "code",
      "metadata": {
        "id": "uIX2hk3oNMT4",
        "colab_type": "code",
        "outputId": "10c32c73-e6fb-4fe7-d8e4-f1f2b3a86ecf",
        "colab": {
          "base_uri": "https://localhost:8080/",
          "height": 663
        }
      },
      "source": [
        "support_vector_machine_one_vs_one = svm.SVC(decision_function_shape = 'ovo', kernel = 'linear', C = 100)\n",
        "support_vector_machine_one_vs_one.fit(emoji_train, labels_train)\n",
        "support_vector_machine_one_vs_one_predictions = support_vector_machine_one_vs_one.predict(emoji_test)\n",
        "print_metrics(support_vector_machine_one_vs_one_predictions)\n",
        "plot_confusion_matrix(metrics.confusion_matrix(test_label, support_vector_machine_one_vs_one_predictions), tokens)\n",
        "plt.show()\n",
        "metrics.confusion_matrix(test_label, support_vector_machine_one_vs_one_predictions)"
      ],
      "execution_count": 88,
      "outputs": [
        {
          "output_type": "stream",
          "text": [
            "              precision    recall  f1-score   support\n",
            "\n",
            "      others       0.93      0.71      0.80      4677\n",
            "       happy       0.18      0.49      0.26       284\n",
            "         sad       0.31      0.61      0.41       250\n",
            "       angry       0.31      0.72      0.44       298\n",
            "\n",
            "    accuracy                           0.69      5509\n",
            "   macro avg       0.43      0.63      0.48      5509\n",
            "weighted avg       0.83      0.69      0.74      5509\n",
            "\n",
            "Accuracy: 0.691051007442367\n",
            "Precision: 0.4331946835850715\n",
            "Recall: 0.6321647630421798\n",
            "F1 score:  0.47852264021584967\n"
          ],
          "name": "stdout"
        },
        {
          "output_type": "display_data",
          "data": {
            "image/png": "[encoded data removed]",
            "text/plain": [
              "<Figure size 360x360 with 2 Axes>"
            ]
          },
          "metadata": {
            "tags": []
          }
        },
        {
          "output_type": "execute_result",
          "data": {
            "text/plain": [
              "array([[3300,  629,  312,  436],\n",
              "       [ 126,  140,    8,   10],\n",
              "       [  67,    9,  153,   21],\n",
              "       [  61,    4,   19,  214]])"
            ]
          },
          "metadata": {
            "tags": []
          },
          "execution_count": 88
        }
      ]
    },
    {
      "cell_type": "code",
      "metadata": {
        "id": "VT-hf_hANY_z",
        "colab_type": "code",
        "outputId": "ab76fd06-db36-49d7-fc0d-10bf6dda02b2",
        "colab": {
          "base_uri": "https://localhost:8080/",
          "height": 663
        }
      },
      "source": [
        "support_vector_machine_one_vs_one = svm.SVC(decision_function_shape = 'ovo', kernel = 'linear', C = 100)\n",
        "support_vector_machine_one_vs_one.fit(emoji_all, label)\n",
        "support_vector_machine_one_vs_one_predictions = support_vector_machine_one_vs_one.predict(emoji_test)\n",
        "print_metrics(support_vector_machine_one_vs_one_predictions)\n",
        "plot_confusion_matrix(metrics.confusion_matrix(test_label, support_vector_machine_one_vs_one_predictions), tokens)\n",
        "plt.show()\n",
        "metrics.confusion_matrix(test_label, support_vector_machine_one_vs_one_predictions)"
      ],
      "execution_count": 89,
      "outputs": [
        {
          "output_type": "stream",
          "text": [
            "              precision    recall  f1-score   support\n",
            "\n",
            "      others       0.91      0.90      0.91      4677\n",
            "       happy       0.40      0.24      0.30       284\n",
            "         sad       0.44      0.49      0.46       250\n",
            "       angry       0.43      0.59      0.50       298\n",
            "\n",
            "    accuracy                           0.83      5509\n",
            "   macro avg       0.54      0.56      0.54      5509\n",
            "weighted avg       0.83      0.83      0.83      5509\n",
            "\n",
            "Accuracy: 0.832819023416228\n",
            "Precision: 0.5429048658814242\n",
            "Recall: 0.5560158442291393\n",
            "F1 score:  0.54130883565249\n"
          ],
          "name": "stdout"
        },
        {
          "output_type": "display_data",
          "data": {
            "image/png": "[encoded data removed]",
            "text/plain": [
              "<Figure size 360x360 with 2 Axes>"
            ]
          },
          "metadata": {
            "tags": []
          }
        },
        {
          "output_type": "execute_result",
          "data": {
            "text/plain": [
              "array([[4221,  100,  143,  213],\n",
              "       [ 206,   69,    2,    7],\n",
              "       [ 111,    3,  122,   14],\n",
              "       [ 108,    2,   12,  176]])"
            ]
          },
          "metadata": {
            "tags": []
          },
          "execution_count": 89
        }
      ]
    },
    {
      "cell_type": "markdown",
      "metadata": {
        "id": "Xm9iCkR2Ne_y",
        "colab_type": "text"
      },
      "source": [
        "### SVM One vs Rest"
      ]
    },
    {
      "cell_type": "code",
      "metadata": {
        "id": "PfBVdB2NNf5z",
        "colab_type": "code",
        "outputId": "91cb0445-4a8d-4366-b841-e111f5dbf7d0",
        "colab": {
          "base_uri": "https://localhost:8080/",
          "height": 663
        }
      },
      "source": [
        "support_vector_machine_one_vs_rest = svm.SVC(decision_function_shape = 'ovr', kernel = 'linear', C = 100)\n",
        "support_vector_machine_one_vs_rest.fit(emoji_train, labels_train)\n",
        "support_vector_machine_one_vs_rest_predictions = support_vector_machine_one_vs_rest.predict(emoji_test)\n",
        "print_metrics(support_vector_machine_one_vs_rest_predictions)\n",
        "plot_confusion_matrix(metrics.confusion_matrix(test_label, support_vector_machine_one_vs_rest_predictions), tokens)\n",
        "plt.show()\n",
        "metrics.confusion_matrix(test_label, support_vector_machine_one_vs_rest_predictions)"
      ],
      "execution_count": 90,
      "outputs": [
        {
          "output_type": "stream",
          "text": [
            "              precision    recall  f1-score   support\n",
            "\n",
            "      others       0.93      0.71      0.80      4677\n",
            "       happy       0.18      0.49      0.26       284\n",
            "         sad       0.31      0.61      0.41       250\n",
            "       angry       0.31      0.72      0.44       298\n",
            "\n",
            "    accuracy                           0.69      5509\n",
            "   macro avg       0.43      0.63      0.48      5509\n",
            "weighted avg       0.83      0.69      0.74      5509\n",
            "\n",
            "Accuracy: 0.691051007442367\n",
            "Precision: 0.4331946835850715\n",
            "Recall: 0.6321647630421798\n",
            "F1 score:  0.47852264021584967\n"
          ],
          "name": "stdout"
        },
        {
          "output_type": "display_data",
          "data": {
            "image/png": "[encoded data removed]",
            "text/plain": [
              "<Figure size 360x360 with 2 Axes>"
            ]
          },
          "metadata": {
            "tags": []
          }
        },
        {
          "output_type": "execute_result",
          "data": {
            "text/plain": [
              "array([[3300,  629,  312,  436],\n",
              "       [ 126,  140,    8,   10],\n",
              "       [  67,    9,  153,   21],\n",
              "       [  61,    4,   19,  214]])"
            ]
          },
          "metadata": {
            "tags": []
          },
          "execution_count": 90
        }
      ]
    },
    {
      "cell_type": "code",
      "metadata": {
        "id": "WM44hZPSNkEf",
        "colab_type": "code",
        "outputId": "5e9514c2-4f0a-4fd0-d185-86762fe60a99",
        "colab": {
          "base_uri": "https://localhost:8080/",
          "height": 663
        }
      },
      "source": [
        "support_vector_machine_one_vs_rest = svm.SVC(decision_function_shape = 'ovr', kernel = 'linear', C = 100)\n",
        "support_vector_machine_one_vs_rest.fit(emoji_all, label)\n",
        "support_vector_machine_one_vs_rest_predictions = support_vector_machine_one_vs_rest.predict(emoji_test)\n",
        "print_metrics(support_vector_machine_one_vs_rest_predictions)\n",
        "plot_confusion_matrix(metrics.confusion_matrix(test_label, support_vector_machine_one_vs_rest_predictions), tokens)\n",
        "plt.show()\n",
        "metrics.confusion_matrix(test_label, support_vector_machine_one_vs_rest_predictions)"
      ],
      "execution_count": 91,
      "outputs": [
        {
          "output_type": "stream",
          "text": [
            "              precision    recall  f1-score   support\n",
            "\n",
            "      others       0.91      0.90      0.91      4677\n",
            "       happy       0.40      0.24      0.30       284\n",
            "         sad       0.44      0.49      0.46       250\n",
            "       angry       0.43      0.59      0.50       298\n",
            "\n",
            "    accuracy                           0.83      5509\n",
            "   macro avg       0.54      0.56      0.54      5509\n",
            "weighted avg       0.83      0.83      0.83      5509\n",
            "\n",
            "Accuracy: 0.832819023416228\n",
            "Precision: 0.5429048658814242\n",
            "Recall: 0.5560158442291393\n",
            "F1 score:  0.54130883565249\n"
          ],
          "name": "stdout"
        },
        {
          "output_type": "display_data",
          "data": {
            "image/png": "[encoded data removed]",
            "text/plain": [
              "<Figure size 360x360 with 2 Axes>"
            ]
          },
          "metadata": {
            "tags": []
          }
        },
        {
          "output_type": "execute_result",
          "data": {
            "text/plain": [
              "array([[4221,  100,  143,  213],\n",
              "       [ 206,   69,    2,    7],\n",
              "       [ 111,    3,  122,   14],\n",
              "       [ 108,    2,   12,  176]])"
            ]
          },
          "metadata": {
            "tags": []
          },
          "execution_count": 91
        }
      ]
    }
  ]
}